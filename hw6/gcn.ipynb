{
 "cells": [
  {
   "cell_type": "code",
   "execution_count": 85,
   "id": "e2a828d3-324d-46c8-8dcc-432f0a2902d7",
   "metadata": {},
   "outputs": [],
   "source": [
    "import torch \n",
    "import numpy as np\n",
    "import pandas as pd\n",
    "import random\n",
    "import json\n",
    "from matplotlib import pyplot as plt\n",
    "from torch_geometric.data import Dataset\n",
    "from torch_geometric.loader import DataLoader\n",
    "import torch.nn as nn\n",
    "from pathlib import Path\n",
    "from sklearn.metrics import roc_auc_score"
   ]
  },
  {
   "cell_type": "code",
   "execution_count": 98,
   "id": "e32c0e21-a4cf-4094-9829-a4447056177c",
   "metadata": {},
   "outputs": [],
   "source": [
    "import torch.nn.functional as F\n",
    "from torch_geometric.nn import GCNConv,Sequential,GATConv,GATv2Conv,Linear,Sequential"
   ]
  },
  {
   "cell_type": "code",
   "execution_count": 86,
   "id": "20b40dbd-145b-4639-b4aa-6f443a2ce0d7",
   "metadata": {},
   "outputs": [],
   "source": [
    "seed = 42\n",
    "torch.manual_seed(seed)\n",
    "if torch.cuda.is_available():\n",
    "    torch.cuda.manual_seed_all(seed)\n",
    "np.random.seed(seed)\n",
    "random.seed(seed)\n",
    "torch.backends.cudnn.deterministic = True  \n",
    "torch.backends.cudnn.benchmark = False\n",
    "device = \"cuda\" if torch.cuda.is_available() else \"cpu\""
   ]
  },
  {
   "cell_type": "code",
   "execution_count": 87,
   "id": "0ad45453-3038-4cac-b705-d0937ae59a36",
   "metadata": {},
   "outputs": [],
   "source": [
    "train_data_file = \"./dataset/train_sub-graph_tensor.pt\"\n",
    "data = torch.load(train_data_file)\n",
    "train_mask = np.load(\"./dataset/train_mask.npy\")"
   ]
  },
  {
   "cell_type": "code",
   "execution_count": 88,
   "id": "38d19161-8bb8-496f-9a52-6012e72fbb29",
   "metadata": {},
   "outputs": [
    {
     "data": {
      "text/plain": [
       "(['label', 'feature', 'edge_index'], (39357,))"
      ]
     },
     "execution_count": 88,
     "metadata": {},
     "output_type": "execute_result"
    }
   ],
   "source": [
    "data.keys,train_mask.shape"
   ]
  },
  {
   "cell_type": "code",
   "execution_count": 89,
   "id": "2a0d2db3-56dc-44b8-a89c-d57ad1121c9f",
   "metadata": {},
   "outputs": [
    {
     "data": {
      "text/plain": [
       "(torch.Size([2, 6784824]), torch.Size([39357, 10]), torch.Size([15742]))"
      ]
     },
     "execution_count": 89,
     "metadata": {},
     "output_type": "execute_result"
    }
   ],
   "source": [
    "data.edge_index.shape,data.feature.shape,data.label.shape"
   ]
  },
  {
   "cell_type": "code",
   "execution_count": 90,
   "id": "b99b6320-2000-4d59-a639-9d4762a2e3e2",
   "metadata": {},
   "outputs": [
    {
     "name": "stdout",
     "output_type": "stream",
     "text": [
      "num_nodes: 39357\n",
      "num_edge: 6784824\n"
     ]
    },
    {
     "name": "stderr",
     "output_type": "stream",
     "text": [
      "/home/samuel/.conda/envs/gcn/lib/python3.8/site-packages/torch_geometric/data/storage.py:304: UserWarning: Unable to accurately infer 'num_nodes' from the attribute set '{'label', 'feature', 'edge_index'}'. Please explicitly set 'num_nodes' as an attribute of 'data' to suppress this warning\n",
      "  warnings.warn(\n"
     ]
    }
   ],
   "source": [
    "print(\"num_nodes:\",data.num_nodes)\n",
    "print(\"num_edge:\",data.num_edges)"
   ]
  },
  {
   "cell_type": "code",
   "execution_count": 91,
   "id": "c59edc09-6bc0-435f-9cb5-9c5cdb09b976",
   "metadata": {},
   "outputs": [],
   "source": [
    "data.train_mask = np.zeros(len(train_mask))\n",
    "data.test_mask= np.zeros(len(train_mask))\n",
    "split_len = int(len(train_mask)/5*4)\n",
    "data.train_mask[:split_len] = train_mask[:split_len]\n",
    "data.test_mask[split_len:] = train_mask[split_len:]\n",
    "data.train_mask =data.train_mask.astype(bool)\n",
    "data.test_mask =data.test_mask.astype(bool)"
   ]
  },
  {
   "cell_type": "code",
   "execution_count": 92,
   "id": "be11b7a6-73cc-4cc6-a50e-01bf01c70889",
   "metadata": {},
   "outputs": [
    {
     "data": {
      "text/plain": [
       "(12569, 3173)"
      ]
     },
     "execution_count": 92,
     "metadata": {},
     "output_type": "execute_result"
    }
   ],
   "source": [
    "data.train_mask.sum() ,data.test_mask.sum()"
   ]
  },
  {
   "cell_type": "code",
   "execution_count": 93,
   "id": "e0762d17-9eac-4245-9a79-762c8ccbee3a",
   "metadata": {},
   "outputs": [
    {
     "data": {
      "text/plain": [
       "((39357,), (39357,))"
      ]
     },
     "execution_count": 93,
     "metadata": {},
     "output_type": "execute_result"
    }
   ],
   "source": [
    "data.train_mask.shape,data.test_mask.shape"
   ]
  },
  {
   "cell_type": "code",
   "execution_count": 94,
   "id": "32730de7-e171-4869-b751-2d6df5de9306",
   "metadata": {},
   "outputs": [
    {
     "data": {
      "text/plain": [
       "(torch.Size([12569]), torch.Size([3173]))"
      ]
     },
     "execution_count": 94,
     "metadata": {},
     "output_type": "execute_result"
    }
   ],
   "source": [
    "label = data.label\n",
    "data.train_label = label[:12569]\n",
    "data.test_label = label[12569:]\n",
    "data.train_label.shape,data.test_label.shape"
   ]
  },
  {
   "cell_type": "code",
   "execution_count": 95,
   "id": "d51c27cf-fa33-402b-b7c2-2b1e96d8ceff",
   "metadata": {},
   "outputs": [
    {
     "name": "stdout",
     "output_type": "stream",
     "text": [
      "train positive label ratio: tensor(455) tensor(0.0116)\n",
      "val positive label ratio: tensor(266) tensor(0.0068)\n"
     ]
    }
   ],
   "source": [
    "print(\"train positive label ratio:\",data.train_label.sum(),data.train_label.sum()/len(data.train_mask))\n",
    "print(\"val positive label ratio:\",data.test_label.sum(),data.test_label.sum()/len(data.test_mask))"
   ]
  },
  {
   "cell_type": "code",
   "execution_count": 96,
   "id": "5c8cbd87-f966-4496-87e9-133bc2ce34e6",
   "metadata": {},
   "outputs": [],
   "source": [
    "# for data augmentation\n",
    "data.x = data.feature\n",
    "data.y =data.label"
   ]
  },
  {
   "cell_type": "code",
   "execution_count": 97,
   "id": "5157a3ef-c7cb-4e88-b32f-683eed80b9e5",
   "metadata": {},
   "outputs": [],
   "source": [
    "class GNN(torch.nn.Module):\n",
    "    def __init__(self,seed,hidden_size,dropout):\n",
    "        super().__init__()\n",
    "        torch.manual_seed(seed)\n",
    "        self.layers = Sequential('x, edge_index', [\n",
    "                    (GCNConv( 10, hidden_size), 'x, edge_index -> x'),\n",
    "                    nn.ReLU(inplace=True),\n",
    "                    (GCNConv(hidden_size, hidden_size*2), 'x, edge_index -> x'),\n",
    "                    nn.ReLU(inplace=True),\n",
    "                    nn.Dropout(p=dropout),\n",
    "                    (GCNConv(hidden_size*2, hidden_size), 'x, edge_index -> x'),\n",
    "                    nn.ReLU(inplace=True),\n",
    "                    nn.Dropout(p=dropout),\n",
    "                    (GCNConv(hidden_size, hidden_size), 'x, edge_index -> x'),\n",
    "                    Linear(hidden_size, hidden_size*4),\n",
    "                    nn.Dropout(p=dropout),\n",
    "                    nn.ReLU(),\n",
    "                    Linear(hidden_size*4, hidden_size*4),\n",
    "                    nn.ReLU(),\n",
    "                    Linear(hidden_size*4, 1),\n",
    "        ])\n",
    "    def forward(self, data):\n",
    "        x, edge_index = data.feature.to(torch.float), data.edge_index\n",
    "        x = self.layers(x,edge_index)\n",
    "        return torch.sigmoid(x)"
   ]
  },
  {
   "cell_type": "code",
   "execution_count": 84,
   "id": "679846e6-7de0-498a-a4c9-177c5c41358b",
   "metadata": {},
   "outputs": [],
   "source": [
    "class GAT(torch.nn.Module):\n",
    "    def __init__(self, seed,hidden_size, heads, dropout):\n",
    "        super().__init__()\n",
    "        torch.manual_seed(seed)\n",
    "        self.layers = Sequential('x, edge_index', [\n",
    "                    (GATConv( 10, hidden_size, heads, dropout), 'x, edge_index -> x'),\n",
    "                    nn.ELU(inplace=True),\n",
    "                    (GATConv(hidden_size*heads, hidden_size*2, heads, dropout), 'x, edge_index -> x'),\n",
    "                    nn.ELU(inplace=True),\n",
    "                    (GATConv(hidden_size*heads*2,hidden_size*2, heads,dropout), 'x, edge_index -> x'),\n",
    "                    nn.ELU(inplace=True),\n",
    "                    (GATConv(hidden_size*heads*2, hidden_size, heads=1,dropout=0.7), 'x, edge_index -> x'),\n",
    "                    nn.ELU(inplace=True),\n",
    "                    Linear(hidden_size, hidden_size*4),\n",
    "                    nn.Dropout(p=dropout),\n",
    "                    nn.ReLU(),\n",
    "                    Linear(hidden_size*4, hidden_size*4),\n",
    "                    nn.Dropout(p=dropout),\n",
    "                    nn.ReLU(),\n",
    "                    Linear(hidden_size*4, 1),\n",
    "        ])\n",
    "    def forward(self, data):\n",
    "        x, edge_index = data.x.to(torch.float), data.edge_index\n",
    "        x =self.layers(x, edge_index)\n",
    "        return torch.sigmoid(x)"
   ]
  },
  {
   "cell_type": "code",
   "execution_count": 99,
   "id": "17d32648-b00d-4cb1-98f3-8df722fcc5da",
   "metadata": {},
   "outputs": [],
   "source": [
    "import grafog.transforms as T\n",
    "edge_aug = T.Compose([\n",
    "    T.EdgeDrop(p=0.15),\n",
    "])"
   ]
  },
  {
   "cell_type": "code",
   "execution_count": 100,
   "id": "d7c85702-64f9-4944-abc6-8ef174434e68",
   "metadata": {},
   "outputs": [],
   "source": [
    "def train_step(model,data, opt, loss_function):\n",
    "    model.train()\n",
    "    out= model(data)\n",
    "    loss = loss_function(out[data.train_mask].squeeze(), data.y[:12569].float())\n",
    "    roc_score = roc_auc_score(data.y[:12569].detach().cpu().numpy(), out[data.train_mask].squeeze().detach().cpu().numpy())\n",
    "    opt.zero_grad()\n",
    "    loss.backward()\n",
    "    opt.step()\n",
    "    return loss.item() ,roc_score\n",
    "def val_step(model,data, loss_function):\n",
    "    model.eval()\n",
    "    with torch.inference_mode():\n",
    "        out = model(data)\n",
    "        loss = loss_function(out[data.test_mask].squeeze(), data.y[12569:].float())\n",
    "        # pred = torch.round(out[data.val_mask].squeeze())\n",
    "        roc_score = roc_auc_score(data.y[12569:].detach().cpu().numpy(), out[data.test_mask].squeeze().detach().cpu().numpy())\n",
    "    return loss.item() ,roc_score"
   ]
  },
  {
   "cell_type": "code",
   "execution_count": 101,
   "id": "f60fcbab-7ed6-4c85-a576-10b04b7c6f8b",
   "metadata": {},
   "outputs": [],
   "source": [
    "def train(epochs,model, data, opt, loss_function, model_name,scheduler=None):\n",
    "    results ={\n",
    "            \"train_loss\":[],\n",
    "            \"train_roc\":[],\n",
    "            \"val_loss\":[],\n",
    "            \"val_roc\":[]\n",
    "    }\n",
    "    for epoch in range(epochs):\n",
    "        new_data = edge_aug(data)\n",
    "        train_loss, train_roc_score = train_step(model, new_data, opt, loss_function)\n",
    "        val_loss, val_roc_score = val_step(model, data, loss_function)\n",
    "        if scheduler:\n",
    "            scheduler.step()\n",
    "        if (epoch+1)%5==0:\n",
    "            print(\n",
    "              f\"Epoch: {epoch+1} | \"\n",
    "              f\"train_loss: {train_loss:.4f} |\"\n",
    "              f\"train_roc: {train_roc_score:.4f} |\"  \n",
    "              f\"val_loss: {val_loss:.4f} |\"\n",
    "              f\"val_roc: {val_roc_score:.4f} |\" \n",
    "               \n",
    "            )\n",
    "        if (epoch+1)%20==0:\n",
    "            MODEL_PATH = Path(\"./model/\"+ model_name)\n",
    "            MODEL_PATH.mkdir(parents=True, \n",
    "                             exist_ok=True\n",
    "            )\n",
    "            MODEL_NAME = f\"model_{epoch+1}.pth\"\n",
    "            MODEL_SAVE_PATH = MODEL_PATH / MODEL_NAME\n",
    "            print(f\"Saving model to: {MODEL_SAVE_PATH}\")\n",
    "            torch.save(obj=model,\n",
    "                       f=MODEL_SAVE_PATH)\n",
    "        results[\"train_loss\"].append(train_loss)\n",
    "        results[\"train_roc\"].append(train_roc_score)\n",
    "        results[\"val_loss\"].append(val_loss)\n",
    "        results[\"val_roc\"].append(val_roc_score)\n",
    "    MODEL_PATH = Path(\"./model/\"+ model_name)\n",
    "    MODEL_PATH.mkdir(parents=True, \n",
    "                     exist_ok=True\n",
    "    )\n",
    "    MODEL_NAME = f\"model_final.pth\"\n",
    "    MODEL_SAVE_PATH = MODEL_PATH / MODEL_NAME\n",
    "    print(f\"Saving model to: {MODEL_SAVE_PATH}\")\n",
    "    torch.save(obj=model,\n",
    "               f=MODEL_SAVE_PATH)\n",
    "\n",
    "    return results"
   ]
  },
  {
   "cell_type": "code",
   "execution_count": 102,
   "id": "5f586b47-8f9f-4c1c-b9a8-c85a10a8767c",
   "metadata": {
    "scrolled": true,
    "tags": []
   },
   "outputs": [
    {
     "name": "stdout",
     "output_type": "stream",
     "text": [
      "Epoch: 5 | train_loss: 2.1591 |train_roc: 0.4886 |val_loss: 0.3040 |val_roc: 0.6516 |\n",
      "Epoch: 10 | train_loss: 0.6868 |train_roc: 0.4927 |val_loss: 0.3261 |val_roc: 0.6150 |\n",
      "Epoch: 15 | train_loss: 0.4770 |train_roc: 0.3790 |val_loss: 0.3361 |val_roc: 0.5176 |\n",
      "Epoch: 20 | train_loss: 0.3906 |train_roc: 0.3772 |val_loss: 0.3637 |val_roc: 0.3270 |\n",
      "Saving model to: model/GATv2_v4/model_20.pth\n",
      "Epoch: 25 | train_loss: 0.2648 |train_roc: 0.4979 |val_loss: 0.3402 |val_roc: 0.5125 |\n",
      "Epoch: 30 | train_loss: 0.2454 |train_roc: 0.5521 |val_loss: 0.3370 |val_roc: 0.6213 |\n",
      "Epoch: 35 | train_loss: 0.2313 |train_roc: 0.6062 |val_loss: 0.3181 |val_roc: 0.6402 |\n",
      "Epoch: 40 | train_loss: 0.2165 |train_roc: 0.5894 |val_loss: 0.2961 |val_roc: 0.6295 |\n",
      "Saving model to: model/GATv2_v4/model_40.pth\n",
      "Epoch: 45 | train_loss: 0.2176 |train_roc: 0.5602 |val_loss: 0.2879 |val_roc: 0.6250 |\n",
      "Epoch: 50 | train_loss: 0.1989 |train_roc: 0.6178 |val_loss: 0.2819 |val_roc: 0.6415 |\n",
      "Epoch: 55 | train_loss: 0.2017 |train_roc: 0.6084 |val_loss: 0.2750 |val_roc: 0.6672 |\n",
      "Epoch: 60 | train_loss: 0.1964 |train_roc: 0.6316 |val_loss: 0.2710 |val_roc: 0.6891 |\n",
      "Saving model to: model/GATv2_v4/model_60.pth\n",
      "Epoch: 65 | train_loss: 0.1875 |train_roc: 0.6364 |val_loss: 0.2689 |val_roc: 0.6982 |\n",
      "Epoch: 70 | train_loss: 0.1893 |train_roc: 0.6398 |val_loss: 0.2650 |val_roc: 0.7043 |\n",
      "Epoch: 75 | train_loss: 0.1912 |train_roc: 0.6182 |val_loss: 0.2597 |val_roc: 0.7197 |\n",
      "Epoch: 80 | train_loss: 0.1846 |train_roc: 0.6421 |val_loss: 0.2544 |val_roc: 0.7453 |\n",
      "Saving model to: model/GATv2_v4/model_80.pth\n",
      "Epoch: 85 | train_loss: 0.1775 |train_roc: 0.6656 |val_loss: 0.2484 |val_roc: 0.7822 |\n",
      "Epoch: 90 | train_loss: 0.1784 |train_roc: 0.6627 |val_loss: 0.2414 |val_roc: 0.8222 |\n",
      "Epoch: 95 | train_loss: 0.1800 |train_roc: 0.6664 |val_loss: 0.2338 |val_roc: 0.8487 |\n",
      "Epoch: 100 | train_loss: 0.1719 |train_roc: 0.6945 |val_loss: 0.2256 |val_roc: 0.8712 |\n",
      "Saving model to: model/GATv2_v4/model_100.pth\n",
      "Epoch: 105 | train_loss: 0.1705 |train_roc: 0.7044 |val_loss: 0.2189 |val_roc: 0.8828 |\n",
      "Epoch: 110 | train_loss: 0.1641 |train_roc: 0.7192 |val_loss: 0.2144 |val_roc: 0.8893 |\n",
      "Epoch: 115 | train_loss: 0.1595 |train_roc: 0.7556 |val_loss: 0.2080 |val_roc: 0.8995 |\n",
      "Epoch: 120 | train_loss: 0.1602 |train_roc: 0.7474 |val_loss: 0.2025 |val_roc: 0.9166 |\n",
      "Saving model to: model/GATv2_v4/model_120.pth\n",
      "Epoch: 125 | train_loss: 0.1593 |train_roc: 0.7618 |val_loss: 0.1943 |val_roc: 0.9278 |\n"
     ]
    },
    {
     "ename": "KeyboardInterrupt",
     "evalue": "",
     "output_type": "error",
     "traceback": [
      "\u001b[0;31m---------------------------------------------------------------------------\u001b[0m",
      "\u001b[0;31mKeyboardInterrupt\u001b[0m                         Traceback (most recent call last)",
      "Cell \u001b[0;32mIn[102], line 10\u001b[0m\n\u001b[1;32m      8\u001b[0m data \u001b[38;5;241m=\u001b[39m data\u001b[38;5;241m.\u001b[39mto(device)\n\u001b[1;32m      9\u001b[0m loss_function \u001b[38;5;241m=\u001b[39m nn\u001b[38;5;241m.\u001b[39mBCELoss()\n\u001b[0;32m---> 10\u001b[0m res \u001b[38;5;241m=\u001b[39m \u001b[43mtrain\u001b[49m\u001b[43m(\u001b[49m\u001b[43mEPOCH\u001b[49m\u001b[43m,\u001b[49m\u001b[43mmodel\u001b[49m\u001b[43m,\u001b[49m\u001b[43m \u001b[49m\u001b[43mdata\u001b[49m\u001b[43m,\u001b[49m\u001b[43m \u001b[49m\u001b[43mopt\u001b[49m\u001b[43m,\u001b[49m\u001b[43m \u001b[49m\u001b[43mloss_function\u001b[49m\u001b[43m,\u001b[49m\u001b[43m \u001b[49m\u001b[43mmodel_name\u001b[49m\u001b[38;5;241;43m=\u001b[39;49m\u001b[38;5;124;43m\"\u001b[39;49m\u001b[38;5;124;43mGATv2_v4\u001b[39;49m\u001b[38;5;124;43m\"\u001b[39;49m\u001b[43m,\u001b[49m\u001b[43mscheduler\u001b[49m\u001b[38;5;241;43m=\u001b[39;49m\u001b[43mscheduler\u001b[49m\u001b[43m)\u001b[49m\n",
      "Cell \u001b[0;32mIn[101], line 9\u001b[0m, in \u001b[0;36mtrain\u001b[0;34m(epochs, model, data, opt, loss_function, model_name, scheduler)\u001b[0m\n\u001b[1;32m      2\u001b[0m results \u001b[38;5;241m=\u001b[39m{\n\u001b[1;32m      3\u001b[0m         \u001b[38;5;124m\"\u001b[39m\u001b[38;5;124mtrain_loss\u001b[39m\u001b[38;5;124m\"\u001b[39m:[],\n\u001b[1;32m      4\u001b[0m         \u001b[38;5;124m\"\u001b[39m\u001b[38;5;124mtrain_roc\u001b[39m\u001b[38;5;124m\"\u001b[39m:[],\n\u001b[1;32m      5\u001b[0m         \u001b[38;5;124m\"\u001b[39m\u001b[38;5;124mval_loss\u001b[39m\u001b[38;5;124m\"\u001b[39m:[],\n\u001b[1;32m      6\u001b[0m         \u001b[38;5;124m\"\u001b[39m\u001b[38;5;124mval_roc\u001b[39m\u001b[38;5;124m\"\u001b[39m:[]\n\u001b[1;32m      7\u001b[0m }\n\u001b[1;32m      8\u001b[0m \u001b[38;5;28;01mfor\u001b[39;00m epoch \u001b[38;5;129;01min\u001b[39;00m \u001b[38;5;28mrange\u001b[39m(epochs):\n\u001b[0;32m----> 9\u001b[0m     new_data \u001b[38;5;241m=\u001b[39m \u001b[43medge_aug\u001b[49m\u001b[43m(\u001b[49m\u001b[43mdata\u001b[49m\u001b[43m)\u001b[49m\n\u001b[1;32m     10\u001b[0m     train_loss, train_roc_score \u001b[38;5;241m=\u001b[39m train_step(model, new_data, opt, loss_function)\n\u001b[1;32m     11\u001b[0m     val_loss, val_roc_score \u001b[38;5;241m=\u001b[39m val_step(model, data, loss_function)\n",
      "File \u001b[0;32m~/.conda/envs/gcn/lib/python3.8/site-packages/torch/nn/modules/module.py:1501\u001b[0m, in \u001b[0;36mModule._call_impl\u001b[0;34m(self, *args, **kwargs)\u001b[0m\n\u001b[1;32m   1496\u001b[0m \u001b[38;5;66;03m# If we don't have any hooks, we want to skip the rest of the logic in\u001b[39;00m\n\u001b[1;32m   1497\u001b[0m \u001b[38;5;66;03m# this function, and just call forward.\u001b[39;00m\n\u001b[1;32m   1498\u001b[0m \u001b[38;5;28;01mif\u001b[39;00m \u001b[38;5;129;01mnot\u001b[39;00m (\u001b[38;5;28mself\u001b[39m\u001b[38;5;241m.\u001b[39m_backward_hooks \u001b[38;5;129;01mor\u001b[39;00m \u001b[38;5;28mself\u001b[39m\u001b[38;5;241m.\u001b[39m_backward_pre_hooks \u001b[38;5;129;01mor\u001b[39;00m \u001b[38;5;28mself\u001b[39m\u001b[38;5;241m.\u001b[39m_forward_hooks \u001b[38;5;129;01mor\u001b[39;00m \u001b[38;5;28mself\u001b[39m\u001b[38;5;241m.\u001b[39m_forward_pre_hooks\n\u001b[1;32m   1499\u001b[0m         \u001b[38;5;129;01mor\u001b[39;00m _global_backward_pre_hooks \u001b[38;5;129;01mor\u001b[39;00m _global_backward_hooks\n\u001b[1;32m   1500\u001b[0m         \u001b[38;5;129;01mor\u001b[39;00m _global_forward_hooks \u001b[38;5;129;01mor\u001b[39;00m _global_forward_pre_hooks):\n\u001b[0;32m-> 1501\u001b[0m     \u001b[38;5;28;01mreturn\u001b[39;00m \u001b[43mforward_call\u001b[49m\u001b[43m(\u001b[49m\u001b[38;5;241;43m*\u001b[39;49m\u001b[43margs\u001b[49m\u001b[43m,\u001b[49m\u001b[43m \u001b[49m\u001b[38;5;241;43m*\u001b[39;49m\u001b[38;5;241;43m*\u001b[39;49m\u001b[43mkwargs\u001b[49m\u001b[43m)\u001b[49m\n\u001b[1;32m   1502\u001b[0m \u001b[38;5;66;03m# Do not call functions when jit is used\u001b[39;00m\n\u001b[1;32m   1503\u001b[0m full_backward_hooks, non_full_backward_hooks \u001b[38;5;241m=\u001b[39m [], []\n",
      "File \u001b[0;32m~/.conda/envs/gcn/lib/python3.8/site-packages/grafog/transforms/transforms.py:13\u001b[0m, in \u001b[0;36mCompose.forward\u001b[0;34m(self, data)\u001b[0m\n\u001b[1;32m     11\u001b[0m \u001b[38;5;28;01mdef\u001b[39;00m \u001b[38;5;21mforward\u001b[39m(\u001b[38;5;28mself\u001b[39m, data):\n\u001b[1;32m     12\u001b[0m     \u001b[38;5;28;01mfor\u001b[39;00m aug \u001b[38;5;129;01min\u001b[39;00m \u001b[38;5;28mself\u001b[39m\u001b[38;5;241m.\u001b[39mtransforms:\n\u001b[0;32m---> 13\u001b[0m         data \u001b[38;5;241m=\u001b[39m \u001b[43maug\u001b[49m\u001b[43m(\u001b[49m\u001b[43mdata\u001b[49m\u001b[43m)\u001b[49m\n\u001b[1;32m     14\u001b[0m     \u001b[38;5;28;01mreturn\u001b[39;00m data\n",
      "File \u001b[0;32m~/.conda/envs/gcn/lib/python3.8/site-packages/torch/nn/modules/module.py:1501\u001b[0m, in \u001b[0;36mModule._call_impl\u001b[0;34m(self, *args, **kwargs)\u001b[0m\n\u001b[1;32m   1496\u001b[0m \u001b[38;5;66;03m# If we don't have any hooks, we want to skip the rest of the logic in\u001b[39;00m\n\u001b[1;32m   1497\u001b[0m \u001b[38;5;66;03m# this function, and just call forward.\u001b[39;00m\n\u001b[1;32m   1498\u001b[0m \u001b[38;5;28;01mif\u001b[39;00m \u001b[38;5;129;01mnot\u001b[39;00m (\u001b[38;5;28mself\u001b[39m\u001b[38;5;241m.\u001b[39m_backward_hooks \u001b[38;5;129;01mor\u001b[39;00m \u001b[38;5;28mself\u001b[39m\u001b[38;5;241m.\u001b[39m_backward_pre_hooks \u001b[38;5;129;01mor\u001b[39;00m \u001b[38;5;28mself\u001b[39m\u001b[38;5;241m.\u001b[39m_forward_hooks \u001b[38;5;129;01mor\u001b[39;00m \u001b[38;5;28mself\u001b[39m\u001b[38;5;241m.\u001b[39m_forward_pre_hooks\n\u001b[1;32m   1499\u001b[0m         \u001b[38;5;129;01mor\u001b[39;00m _global_backward_pre_hooks \u001b[38;5;129;01mor\u001b[39;00m _global_backward_hooks\n\u001b[1;32m   1500\u001b[0m         \u001b[38;5;129;01mor\u001b[39;00m _global_forward_hooks \u001b[38;5;129;01mor\u001b[39;00m _global_forward_pre_hooks):\n\u001b[0;32m-> 1501\u001b[0m     \u001b[38;5;28;01mreturn\u001b[39;00m \u001b[43mforward_call\u001b[49m\u001b[43m(\u001b[49m\u001b[38;5;241;43m*\u001b[39;49m\u001b[43margs\u001b[49m\u001b[43m,\u001b[49m\u001b[43m \u001b[49m\u001b[38;5;241;43m*\u001b[39;49m\u001b[38;5;241;43m*\u001b[39;49m\u001b[43mkwargs\u001b[49m\u001b[43m)\u001b[49m\n\u001b[1;32m   1502\u001b[0m \u001b[38;5;66;03m# Do not call functions when jit is used\u001b[39;00m\n\u001b[1;32m   1503\u001b[0m full_backward_hooks, non_full_backward_hooks \u001b[38;5;241m=\u001b[39m [], []\n",
      "File \u001b[0;32m~/.conda/envs/gcn/lib/python3.8/site-packages/grafog/transforms/transforms.py:48\u001b[0m, in \u001b[0;36mEdgeDrop.forward\u001b[0;34m(self, data)\u001b[0m\n\u001b[1;32m     45\u001b[0m edge_idx \u001b[38;5;241m=\u001b[39m data\u001b[38;5;241m.\u001b[39medge_index\n\u001b[1;32m     47\u001b[0m edge_idx \u001b[38;5;241m=\u001b[39m edge_idx\u001b[38;5;241m.\u001b[39mpermute(\u001b[38;5;241m1\u001b[39m, \u001b[38;5;241m0\u001b[39m)\n\u001b[0;32m---> 48\u001b[0m idx \u001b[38;5;241m=\u001b[39m \u001b[43mtorch\u001b[49m\u001b[38;5;241;43m.\u001b[39;49m\u001b[43mempty\u001b[49m\u001b[43m(\u001b[49m\u001b[43medge_idx\u001b[49m\u001b[38;5;241;43m.\u001b[39;49m\u001b[43msize\u001b[49m\u001b[43m(\u001b[49m\u001b[38;5;241;43m0\u001b[39;49m\u001b[43m)\u001b[49m\u001b[43m)\u001b[49m\u001b[38;5;241;43m.\u001b[39;49m\u001b[43muniform_\u001b[49m\u001b[43m(\u001b[49m\u001b[38;5;241;43m0\u001b[39;49m\u001b[43m,\u001b[49m\u001b[43m \u001b[49m\u001b[38;5;241;43m1\u001b[39;49m\u001b[43m)\u001b[49m\n\u001b[1;32m     49\u001b[0m edge_idx \u001b[38;5;241m=\u001b[39m edge_idx[torch\u001b[38;5;241m.\u001b[39mwhere(idx \u001b[38;5;241m>\u001b[39m\u001b[38;5;241m=\u001b[39m \u001b[38;5;28mself\u001b[39m\u001b[38;5;241m.\u001b[39mp)]\u001b[38;5;241m.\u001b[39mpermute(\u001b[38;5;241m1\u001b[39m, \u001b[38;5;241m0\u001b[39m)\n\u001b[1;32m     50\u001b[0m new_data \u001b[38;5;241m=\u001b[39m tg\u001b[38;5;241m.\u001b[39mdata\u001b[38;5;241m.\u001b[39mData(x\u001b[38;5;241m=\u001b[39mx, y\u001b[38;5;241m=\u001b[39my, edge_index\u001b[38;5;241m=\u001b[39medge_idx, train_mask\u001b[38;5;241m=\u001b[39mtrain_mask, test_mask\u001b[38;5;241m=\u001b[39mtest_mask)\n",
      "\u001b[0;31mKeyboardInterrupt\u001b[0m: "
     ]
    }
   ],
   "source": [
    "\n",
    "model = GAT(2,16,1,0.7)\n",
    "model.to(device)\n",
    "LR = 1e-3\n",
    "EPOCH =1000\n",
    "opt = torch.optim.AdamW(model.parameters(), lr=LR)\n",
    "scheduler = torch.optim.lr_scheduler.StepLR(opt, step_size=900, gamma=0.5)\n",
    "data = data.to(device)\n",
    "loss_function = nn.BCELoss()\n",
    "res = train(EPOCH,model, data, opt, loss_function, model_name=\"GATv2_v4\",scheduler=scheduler)"
   ]
  },
  {
   "cell_type": "code",
   "execution_count": 83,
   "id": "46f7ba33-6e44-455f-9e48-cd3b9ce82cc0",
   "metadata": {},
   "outputs": [
    {
     "data": {
      "text/plain": [
       "<Axes: >"
      ]
     },
     "execution_count": 83,
     "metadata": {},
     "output_type": "execute_result"
    },
    {
     "data": {
      "image/png": "[encoded data removed]",
      "text/plain": [
       "<Figure size 640x480 with 1 Axes>"
      ]
     },
     "metadata": {},
     "output_type": "display_data"
    }
   ],
   "source": [
    "pd.DataFrame(res).iloc[100:,[0,2]].plot()"
   ]
  },
  {
   "cell_type": "code",
   "execution_count": 46,
   "id": "289eedbf-4ee8-47d6-bc3e-b167aef9a3fd",
   "metadata": {},
   "outputs": [
    {
     "data": {
      "text/plain": [
       "<Axes: >"
      ]
     },
     "execution_count": 46,
     "metadata": {},
     "output_type": "execute_result"
    },
    {
     "data": {
      "image/png": "[encoded data removed]",
      "text/plain": [
       "<Figure size 640x480 with 1 Axes>"
      ]
     },
     "metadata": {},
     "output_type": "display_data"
    }
   ],
   "source": [
    "pd.DataFrame(res).iloc[:,[1,3]].plot()"
   ]
  },
  {
   "cell_type": "markdown",
   "id": "f3a085a6-49d6-4291-b0e4-795c96c9ec25",
   "metadata": {},
   "source": [
    "# Testing"
   ]
  },
  {
   "cell_type": "code",
   "execution_count": 70,
   "id": "44870c77-33d2-4e0d-98e5-3d64701db858",
   "metadata": {},
   "outputs": [],
   "source": [
    "def test(model, test_data):\n",
    "    model.eval()\n",
    "    out = model(test_data)\n",
    "    pred = out[test_data.mask].squeeze()\n",
    "    index = np.where(test_data.mask)[0]\n",
    "    return pd.DataFrame({\"node idx\":index,\"node anomaly score\":pred.detach().cpu().numpy()})\n",
    "    "
   ]
  },
  {
   "cell_type": "code",
   "execution_count": 71,
   "id": "f01a4c47-44c3-4a7e-8450-095ca393f4b6",
   "metadata": {},
   "outputs": [
    {
     "data": {
      "text/plain": [
       "Data(edge_index=[2, 7000540], feature=[39357, 10], mask=[39357], x=[39357, 10])"
      ]
     },
     "execution_count": 71,
     "metadata": {},
     "output_type": "execute_result"
    }
   ],
   "source": [
    "test_data = torch.load(\"./dataset/test_sub-graph_tensor_noLabel.pt\")\n",
    "test_data.mask = np.load(\"./dataset/test_mask.npy\")\n",
    "test_data.x= test_data.feature\n",
    "test_data.to(device)"
   ]
  },
  {
   "cell_type": "code",
   "execution_count": 80,
   "id": "d3cc22c7-54ab-457b-8f18-2c4076872c26",
   "metadata": {},
   "outputs": [],
   "source": [
    "model = torch.load(\"model.pth\")"
   ]
  },
  {
   "cell_type": "code",
   "execution_count": 81,
   "id": "fcdb2d37-f484-4034-8f6d-3ca80fd2bc7f",
   "metadata": {},
   "outputs": [],
   "source": [
    "output = test(model,test_data)"
   ]
  },
  {
   "cell_type": "code",
   "execution_count": 82,
   "id": "6f034dd6-3251-4f7c-ad57-22e2893ec61d",
   "metadata": {},
   "outputs": [
    {
     "data": {
      "text/plain": [
       "1200.1326"
      ]
     },
     "execution_count": 82,
     "metadata": {},
     "output_type": "execute_result"
    }
   ],
   "source": [
    "output['node anomaly score'].sum()"
   ]
  },
  {
   "cell_type": "code",
   "execution_count": 76,
   "id": "56f973e5-a526-4fe8-9417-7ab1042770e4",
   "metadata": {},
   "outputs": [
    {
     "data": {
      "text/plain": [
       "(15823, 39357)"
      ]
     },
     "execution_count": 76,
     "metadata": {},
     "output_type": "execute_result"
    }
   ],
   "source": [
    "test_data.mask.sum(),len(test_data.mask)"
   ]
  },
  {
   "cell_type": "code",
   "execution_count": 69,
   "id": "e5b1bc89-4292-4b69-91d8-05826a769dbb",
   "metadata": {},
   "outputs": [],
   "source": [
    "output.to_csv(\"submission.csv\",index =False)"
   ]
  }
 ],
 "metadata": {
  "kernelspec": {
   "display_name": "Python [conda env:.conda-gcn]",
   "language": "python",
   "name": "conda-env-.conda-gcn-py"
  },
  "language_info": {
   "codemirror_mode": {
    "name": "ipython",
    "version": 3
   },
   "file_extension": ".py",
   "mimetype": "text/x-python",
   "name": "python",
   "nbconvert_exporter": "python",
   "pygments_lexer": "ipython3",
   "version": "3.8.16"
  }
 },
 "nbformat": 4,
 "nbformat_minor": 5
}
