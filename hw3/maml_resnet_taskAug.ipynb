{
 "cells": [
  {
   "cell_type": "markdown",
   "id": "29f3848f-ec51-4ee4-b589-528c1f11ea42",
   "metadata": {},
   "source": [
    "## Task augmentation"
   ]
  },
  {
   "cell_type": "code",
   "execution_count": 1,
   "id": "485403e0-1325-4c2b-ae1e-a8b860bfc556",
   "metadata": {},
   "outputs": [
    {
     "name": "stderr",
     "output_type": "stream",
     "text": [
      "/home/samuel/.conda/envs/meta/lib/python3.9/site-packages/tqdm/auto.py:21: TqdmWarning: IProgress not found. Please update jupyter and ipywidgets. See https://ipywidgets.readthedocs.io/en/stable/user_install.html\n",
      "  from .autonotebook import tqdm as notebook_tqdm\n"
     ]
    }
   ],
   "source": [
    "import torch\n",
    "import torch.nn as nn\n",
    "import torchvision\n",
    "from torchvision import datasets, transforms\n",
    "from torchvision.models import resnet50\n",
    "from torch.utils.data import Dataset, DataLoader\n",
    "import torchvision.models as models\n",
    "import torch.nn.functional as F\n",
    "from tqdm.auto import tqdm,trange\n",
    "from pathlib import Path\n",
    "import pandas as pd\n",
    "import torch.nn.utils.prune as prune\n",
    "import numpy as np\n",
    "import random\n",
    "import learn2learn as l2l\n",
    "import pickle\n",
    "import matplotlib.pyplot as plt"
   ]
  },
  {
   "cell_type": "code",
   "execution_count": 2,
   "id": "497a860c-a5df-4d9e-891d-8161348a42c5",
   "metadata": {},
   "outputs": [],
   "source": [
    "seed = 42\n",
    "torch.manual_seed(seed)\n",
    "if torch.cuda.is_available():\n",
    "    torch.cuda.manual_seed_all(seed)\n",
    "np.random.seed(seed)\n",
    "random.seed(seed)\n",
    "torch.backends.cudnn.deterministic = True\n",
    "torch.backends.cudnn.benchmark = False\n",
    "device = \"cuda\" if torch.cuda.is_available() else \"cpu\""
   ]
  },
  {
   "cell_type": "code",
   "execution_count": 3,
   "id": "e3392284-4ea8-4c8f-add6-06de410b41a2",
   "metadata": {},
   "outputs": [],
   "source": [
    "ways = 5 \n",
    "shots =5"
   ]
  },
  {
   "cell_type": "code",
   "execution_count": 4,
   "id": "38e3a96c-1b56-4879-b1d6-ce5e12cb08db",
   "metadata": {},
   "outputs": [],
   "source": [
    "with open(\"./data/test.pkl\",'rb') as f:\n",
    "    test_data = pickle.load(f)\n",
    "with open(\"./data/train.pkl\",'rb') as f:\n",
    "    train_data = pickle.load(f)\n",
    "with open(\"./data/validation.pkl\",'rb') as f:\n",
    "    val_data = pickle.load(f)"
   ]
  },
  {
   "cell_type": "code",
   "execution_count": 5,
   "id": "1a45c492-fcea-41af-8755-36b68e319daf",
   "metadata": {},
   "outputs": [
    {
     "data": {
      "text/plain": [
       "(38400, 3, 84, 84)"
      ]
     },
     "execution_count": 5,
     "metadata": {},
     "output_type": "execute_result"
    }
   ],
   "source": [
    "train_data['images'].shape"
   ]
  },
  {
   "cell_type": "code",
   "execution_count": 6,
   "id": "cf2755e7-b558-466c-8552-bab0584b756b",
   "metadata": {},
   "outputs": [
    {
     "data": {
      "text/plain": [
       "(9600, 3, 84, 84)"
      ]
     },
     "execution_count": 6,
     "metadata": {},
     "output_type": "execute_result"
    }
   ],
   "source": [
    "val_data['images'].shape"
   ]
  },
  {
   "cell_type": "markdown",
   "id": "b2299aa1-eda0-4513-849a-e7fe41e03765",
   "metadata": {
    "tags": []
   },
   "source": [
    "# Task augmentation"
   ]
  },
  {
   "cell_type": "code",
   "execution_count": 7,
   "id": "7c2837d2-a5f2-4354-a7b6-131dc556ac64",
   "metadata": {},
   "outputs": [
    {
     "name": "stdout",
     "output_type": "stream",
     "text": [
      "CPU times: user 31 s, sys: 38.4 s, total: 1min 9s\n",
      "Wall time: 1min 9s\n"
     ]
    }
   ],
   "source": [
    "%%time\n",
    "images = train_data[\"images\"]\n",
    "labels = train_data[\"labels\"]\n",
    "num_labels = np.unique(labels).shape[0]\n",
    "num_new_labels = num_labels*3\n",
    "n_data = int(len(labels)/num_labels)\n",
    "for i in range(num_labels):\n",
    "    images_of_one_class = images[i*n_data:(i+1)*n_data] #600\n",
    "    new_img1 = np.array([np.rot90(img.copy(), axes=(2,1)) for img in images_of_one_class]) \n",
    "    new_img2 = np.array([np.rot90(img.copy(),2, axes=(2,1)) for img in images_of_one_class])\n",
    "    new_img3 = np.array([np.rot90(img.copy(),3, axes=(2,1)) for img in images_of_one_class])\n",
    "    train_data[\"images\"] = np.concatenate((train_data[\"images\"],new_img1,new_img2,new_img3))\n",
    "    train_data[\"labels\"] = np.concatenate((train_data[\"labels\"],[num_labels+3*i]*n_data,[num_labels+3*i+1]*n_data,[num_labels+3*i+2]*n_data))\n",
    "    \n",
    "    # print(train_data['labels'].shape)\n",
    "    # break"
   ]
  },
  {
   "cell_type": "code",
   "execution_count": 8,
   "id": "32deafaa-28b8-4fe9-a89a-ce0193a6a2cc",
   "metadata": {},
   "outputs": [
    {
     "data": {
      "text/plain": [
       "((153600, 3, 84, 84), (153600,))"
      ]
     },
     "execution_count": 8,
     "metadata": {},
     "output_type": "execute_result"
    }
   ],
   "source": [
    "train_data[\"images\"].shape,train_data[\"labels\"].shape"
   ]
  },
  {
   "cell_type": "code",
   "execution_count": 11,
   "id": "23f8d4ac-98e4-469b-bbff-0ca3d7a5e0e1",
   "metadata": {},
   "outputs": [
    {
     "name": "stdout",
     "output_type": "stream",
     "text": [
      "CPU times: user 2.33 s, sys: 3.12 s, total: 5.45 s\n",
      "Wall time: 5.45 s\n"
     ]
    }
   ],
   "source": [
    "%%time\n",
    "images = val_data[\"images\"]\n",
    "labels = val_data[\"labels\"]\n",
    "num_labels = np.unique(labels).shape[0]\n",
    "num_new_labels = num_labels*3\n",
    "n_data = int(len(labels)/num_labels)\n",
    "for i in range(num_labels):\n",
    "    images_of_one_class = images[i*n_data:(i+1)*n_data]\n",
    "    new_img1 = np.array([np.rot90(img.copy(), axes=(2,1)) for img in images_of_one_class]) \n",
    "    new_img2 = np.array([np.rot90(img.copy(),2, axes=(2,1)) for img in images_of_one_class])\n",
    "    new_img3 = np.array([np.rot90(img.copy(),3, axes=(2,1)) for img in images_of_one_class])\n",
    "    val_data[\"images\"] = np.concatenate((val_data[\"images\"],new_img1,new_img2,new_img3))\n",
    "    val_data[\"labels\"] = np.concatenate((val_data[\"labels\"],[num_labels+3*i]*n_data,[num_labels+3*i+1]*n_data,[num_labels+3*i+2]*n_data))"
   ]
  },
  {
   "cell_type": "code",
   "execution_count": 12,
   "id": "cfa425d0-259a-4c1a-935f-6e57281f9191",
   "metadata": {},
   "outputs": [
    {
     "data": {
      "text/plain": [
       "((38400, 3, 84, 84), (38400,))"
      ]
     },
     "execution_count": 12,
     "metadata": {},
     "output_type": "execute_result"
    }
   ],
   "source": [
    "val_data[\"images\"].shape,val_data[\"labels\"].shape"
   ]
  },
  {
   "cell_type": "code",
   "execution_count": 13,
   "id": "4be8e0b7-b2e9-410d-a104-a00339bebddb",
   "metadata": {},
   "outputs": [],
   "source": [
    "class Dataset(Dataset):\n",
    "    def __init__(self,data,transform = None):\n",
    "        self.transform = transform\n",
    "        self.data=data\n",
    "        self.images = np.transpose(self.data['images'],(0,2,3,1))\n",
    "        self.labels = data['labels']\n",
    "    def __len__(self): \n",
    "        return len(self.data['images'])\n",
    "    def __getitem__(self,index):\n",
    "        img = self.images[index]\n",
    "        label = self.labels[index]\n",
    "        if self.transform:\n",
    "            img = self.transform(img)\n",
    "        return img, label"
   ]
  },
  {
   "cell_type": "code",
   "execution_count": 14,
   "id": "ff2aec39-a131-473c-962c-4f4a0216eefb",
   "metadata": {},
   "outputs": [],
   "source": [
    "train_transform = transforms.Compose([\n",
    "        transforms.ToTensor(),\n",
    "        transforms.Normalize((0.5,), (0.5,)),\n",
    "        transforms.RandomHorizontalFlip(),\n",
    "        transforms.RandomAffine(degrees = 0, translate=(0.1,0.1)),\n",
    "    ])\n",
    "val_transform = transforms.Compose([\n",
    "        transforms.ToTensor(),\n",
    "        transforms.Normalize((0.5,), (0.5,)),\n",
    "        transforms.RandomHorizontalFlip(),\n",
    "        transforms.RandomAffine(degrees = 0, translate=(0.1,0.1))\n",
    "])"
   ]
  },
  {
   "cell_type": "code",
   "execution_count": 15,
   "id": "f790cf6e-bb5a-4c9d-a372-b4568decafc0",
   "metadata": {},
   "outputs": [],
   "source": [
    "train_dataset = Dataset(train_data,train_transform)\n",
    "val_dataset = Dataset(val_data, val_transform)"
   ]
  },
  {
   "cell_type": "code",
   "execution_count": 16,
   "id": "97bea3df-4d1e-47e7-afbe-90d5dc3303a5",
   "metadata": {},
   "outputs": [],
   "source": [
    "train_dataset = l2l.data.MetaDataset(train_dataset)\n",
    "val_dataset = l2l.data.MetaDataset(val_dataset)"
   ]
  },
  {
   "cell_type": "code",
   "execution_count": 17,
   "id": "10f80fda-220d-48ba-b150-6f39e7b2a7f3",
   "metadata": {},
   "outputs": [],
   "source": [
    "task_transforms = [\n",
    "    l2l.data.transforms.FusedNWaysKShots(train_dataset, n=ways, k=2*shots),\n",
    "    l2l.data.transforms.LoadData(train_dataset),\n",
    "    l2l.data.transforms.RemapLabels(train_dataset),\n",
    "    l2l.data.transforms.ConsecutiveLabels(train_dataset),\n",
    "    # l2l.vision.transforms.RandomClassRotation(train_dataset,degrees = [0,10,15,20])\n",
    "]\n",
    "train_taskset =  l2l.data.TaskDataset(train_dataset, task_transforms, num_tasks=20000)\n",
    "task_transforms = [\n",
    "    l2l.data.transforms.FusedNWaysKShots(val_dataset, n = ways, k=2*shots),\n",
    "    l2l.data.transforms.LoadData(val_dataset),\n",
    "    l2l.data.transforms.RemapLabels(val_dataset),\n",
    "    l2l.data.transforms.ConsecutiveLabels(val_dataset),\n",
    "    # l2l.vision.transforms.RandomClassRotation(val_dataset,degrees = [0,10,15,20])\n",
    "]\n",
    "val_taskset =  l2l.data.TaskDataset(val_dataset, task_transforms, num_tasks=20000)"
   ]
  },
  {
   "cell_type": "code",
   "execution_count": 19,
   "id": "0010410a-dcd5-40af-972e-a66eb3c6e23a",
   "metadata": {},
   "outputs": [],
   "source": [
    "def adaptation(task, learner, fas,loss_func, device):\n",
    "    data, labels = task\n",
    "    data = data.to(device)\n",
    "    labels = labels.to(device)\n",
    "    sup_mask = np.array(([False]*5+[True]*5)*5)\n",
    "    query_mask = ~sup_mask\n",
    "    sup_data , query_data = data[sup_mask], data[query_mask]\n",
    "    sup_labels , query_labels = labels[sup_mask], labels[query_mask]\n",
    "    for step in range(fas): # inner loop\n",
    "        pred = learner(sup_data)\n",
    "        train_loss = loss_func(pred, sup_labels)\n",
    "        learner.adapt(train_loss)\n",
    "    query_pred = learner(query_data)\n",
    "    query_loss = loss_func(query_pred,query_labels)\n",
    "    query_acc = (torch.argmax(query_pred,1)==query_labels).sum()/len(query_labels)\n",
    "    return query_loss, query_acc\n",
    "\n",
    "def train(EPOCHS, meta_model, train_taskset, val_taskset, loss_func, opt, device, model_name):\n",
    "    log_file = f\"./log/{model_name}.txt\"\n",
    "    res = {\n",
    "        \"train_acc_list\" : [],\n",
    "        \"val_acc_list\" : [],\n",
    "        \"train_loss_list\" : [],\n",
    "        \"val_loss_list\" : [],\n",
    "    }\n",
    "    last_val_loss=float(\"inf\")\n",
    "    for epoch in trange(EPOCHS):\n",
    "        opt.zero_grad()\n",
    "        train_loss = 0\n",
    "        train_acc = 0\n",
    "        val_loss = 0\n",
    "        val_acc = 0\n",
    "        for _ in range(meta_batch):\n",
    "            learner = meta_model.clone(first_order = False)\n",
    "            task = train_taskset.sample() # sample 一組 [50,3,84,84],[50]\n",
    "            query_loss, query_acc = adaptation(task, learner,fas, loss_func, device)\n",
    "            query_loss.backward()\n",
    "            train_loss += query_loss.item()\n",
    "            train_acc += query_acc.item()\n",
    "            #validation\n",
    "            learner = meta_model.clone(first_order = False)\n",
    "            task = val_taskset.sample() # sample 一組 [50,3,84,84],[50]\n",
    "            query_loss, query_acc = adaptation(task, learner,fas, loss_func, device)\n",
    "            val_loss+=query_loss.item()\n",
    "            val_acc +=query_acc.item()\n",
    "        res[\"train_acc_list\"].append((train_acc/meta_batch))\n",
    "        res[\"val_acc_list\"].append((val_acc/meta_batch))\n",
    "        res[\"train_loss_list\"].append((train_loss/meta_batch))\n",
    "        res[\"val_loss_list\"].append((val_loss/meta_batch))\n",
    "        for p in meta_model.parameters():\n",
    "            p.grad.data.mul_(1.0 / meta_batch)\n",
    "        opt.step()\n",
    "        \n",
    "        # write log file\n",
    "        out = {\n",
    "            \"Epoch\" : epoch,\n",
    "            \"train accuracy\" : (train_acc/meta_batch),\n",
    "            \"validation accuracy\" : (val_acc/meta_batch),\n",
    "            \"train loss\" : (train_loss/meta_batch),\n",
    "            \"validation loss\" : (val_loss/meta_batch)\n",
    "        }\n",
    "        with open(log_file,\"a\") as f:\n",
    "            f.write(str(out) + '\\n')\n",
    "            \n",
    "        # print log\n",
    "        if (epoch+1)%100==0:\n",
    "            print(f\"Epoch {epoch+1} | Train loss :{train_loss/meta_batch} | Train accuracy : {train_acc/meta_batch}\")\n",
    "            print(f\"Epoch {epoch+1} | Validation loss :{val_loss/meta_batch} | Validation accuracy : {val_acc/meta_batch}\")\n",
    "        # save model\n",
    "        if (epoch+1)%500==0:\n",
    "            MODEL_PATH=f\"./model/{model_name}\"\n",
    "            Path(MODEL_PATH).mkdir(parents=True, exist_ok=True)\n",
    "            torch.save(meta_model,Path(MODEL_PATH)/f\"model_{epoch+1}.pt\")\n",
    "        # early stop\n",
    "        n = 750\n",
    "        if len(res[\"val_loss_list\"])>n:\n",
    "            if (epoch+1)%n == 0:\n",
    "                avg_val_loss = sum(res[\"val_loss_list\"][-n:])/n\n",
    "                print(\"Average val_loss of last 500 epoch:\",avg_val_loss)\n",
    "                if last_val_loss < avg_val_loss:\n",
    "                    print(\"Early stop!!!\")\n",
    "                    return res\n",
    "                last_val_loss = avg_val_loss\n",
    "    return res"
   ]
  },
  {
   "cell_type": "code",
   "execution_count": 20,
   "id": "334f9672-48d5-45c2-b9d0-d840db048ff6",
   "metadata": {},
   "outputs": [],
   "source": [
    "def test(meta_model, test_data, loss_func, device):\n",
    "    test_loss = 0\n",
    "    test_acc = 0\n",
    "    test_sup_images = test_data['sup_images']\n",
    "    test_sup_labels = test_data['sup_labels']\n",
    "    test_qry_images = test_data['qry_images']\n",
    "    all_pred = []\n",
    "    for i in trange(len(test_sup_images)):\n",
    "        learner = meta_model.clone(first_order = False)\n",
    "        sup_image = torch.tensor(test_sup_images[i]).to(device)\n",
    "        sup_label = torch.tensor(test_sup_labels[i]).to(device)\n",
    "        qry_image = torch.tensor(test_qry_images[i]).to(device)\n",
    "        for step in range(fas): # inner loop\n",
    "            pred = learner(sup_image)\n",
    "            train_loss = loss_func(pred, sup_label)\n",
    "            learner.adapt(train_loss)\n",
    "        output_pred = torch.argmax(learner(qry_image),1).reshape(-1,1).detach().cpu().numpy()\n",
    "        all_pred += [item for sublist in output_pred for item in sublist]\n",
    "    return all_pred"
   ]
  },
  {
   "cell_type": "code",
   "execution_count": null,
   "id": "520369e9-aab3-411e-bf63-5b7de76a3b86",
   "metadata": {},
   "outputs": [
    {
     "name": "stderr",
     "output_type": "stream",
     "text": [
      "  1%|▏                  | 100/12000 [33:52<67:06:29, 20.30s/it]"
     ]
    },
    {
     "name": "stdout",
     "output_type": "stream",
     "text": [
      "Epoch 100 | Train loss :1.570712849497795 | Train accuracy : 0.32874999032355845\n",
      "Epoch 100 | Validation loss :1.5530204735696316 | Validation accuracy : 0.34249999141320586\n"
     ]
    },
    {
     "name": "stderr",
     "output_type": "stream",
     "text": [
      "  2%|▎                | 200/12000 [1:07:39<66:30:00, 20.29s/it]"
     ]
    },
    {
     "name": "stdout",
     "output_type": "stream",
     "text": [
      "Epoch 200 | Train loss :1.38582044839859 | Train accuracy : 0.40624998742714524\n",
      "Epoch 200 | Validation loss :1.4666130542755127 | Validation accuracy : 0.3537499886006117\n"
     ]
    },
    {
     "name": "stderr",
     "output_type": "stream",
     "text": [
      "  2%|▍                | 300/12000 [1:41:26<65:55:01, 20.28s/it]"
     ]
    },
    {
     "name": "stdout",
     "output_type": "stream",
     "text": [
      "Epoch 300 | Train loss :1.2795218210667372 | Train accuracy : 0.47124998830258846\n",
      "Epoch 300 | Validation loss :1.4203955307602882 | Validation accuracy : 0.40374998888000846\n"
     ]
    },
    {
     "name": "stderr",
     "output_type": "stream",
     "text": [
      "  3%|▌                | 400/12000 [2:15:14<65:34:45, 20.35s/it]"
     ]
    },
    {
     "name": "stdout",
     "output_type": "stream",
     "text": [
      "Epoch 400 | Train loss :1.3099637310951948 | Train accuracy : 0.43874998949468136\n",
      "Epoch 400 | Validation loss :1.4088043067604303 | Validation accuracy : 0.41249998891726136\n"
     ]
    },
    {
     "name": "stderr",
     "output_type": "stream",
     "text": [
      "  4%|▋                | 500/12000 [2:49:09<65:07:13, 20.39s/it]"
     ]
    },
    {
     "name": "stdout",
     "output_type": "stream",
     "text": [
      "Epoch 500 | Train loss :1.1541109550744295 | Train accuracy : 0.5374999875202775\n",
      "Epoch 500 | Validation loss :1.3580290339887142 | Validation accuracy : 0.3962499920744449\n"
     ]
    },
    {
     "name": "stderr",
     "output_type": "stream",
     "text": [
      "  5%|▊                | 600/12000 [3:23:08<64:40:49, 20.43s/it]"
     ]
    },
    {
     "name": "stdout",
     "output_type": "stream",
     "text": [
      "Epoch 600 | Train loss :1.1392588838934898 | Train accuracy : 0.5474999854341149\n",
      "Epoch 600 | Validation loss :1.3124375138431787 | Validation accuracy : 0.4587499899789691\n"
     ]
    },
    {
     "name": "stderr",
     "output_type": "stream",
     "text": [
      "  6%|▉                | 700/12000 [3:57:10<64:00:15, 20.39s/it]"
     ]
    },
    {
     "name": "stdout",
     "output_type": "stream",
     "text": [
      "Epoch 700 | Train loss :1.095608750358224 | Train accuracy : 0.566249992698431\n",
      "Epoch 700 | Validation loss :1.2518904879689217 | Validation accuracy : 0.4749999865889549\n"
     ]
    },
    {
     "name": "stderr",
     "output_type": "stream",
     "text": [
      "  7%|█▏               | 800/12000 [4:31:14<63:35:37, 20.44s/it]"
     ]
    },
    {
     "name": "stdout",
     "output_type": "stream",
     "text": [
      "Epoch 800 | Train loss :1.0472336914390326 | Train accuracy : 0.5799999828450382\n",
      "Epoch 800 | Validation loss :1.2039296869188547 | Validation accuracy : 0.5237499866634607\n"
     ]
    },
    {
     "name": "stderr",
     "output_type": "stream",
     "text": [
      "  8%|█▎               | 900/12000 [5:05:19<63:06:01, 20.47s/it]"
     ]
    },
    {
     "name": "stdout",
     "output_type": "stream",
     "text": [
      "Epoch 900 | Train loss :1.0173608688637614 | Train accuracy : 0.5949999829754233\n",
      "Epoch 900 | Validation loss :1.2143363747745752 | Validation accuracy : 0.47624998819082975\n"
     ]
    },
    {
     "name": "stderr",
     "output_type": "stream",
     "text": [
      "  8%|█▎              | 1000/12000 [5:39:26<62:38:02, 20.50s/it]"
     ]
    },
    {
     "name": "stdout",
     "output_type": "stream",
     "text": [
      "Epoch 1000 | Train loss :0.9909851755946875 | Train accuracy : 0.5924999862909317\n",
      "Epoch 1000 | Validation loss :1.2419708389788866 | Validation accuracy : 0.4862499851733446\n"
     ]
    },
    {
     "name": "stderr",
     "output_type": "stream",
     "text": [
      "  9%|█▍              | 1100/12000 [6:13:33<61:56:44, 20.46s/it]"
     ]
    },
    {
     "name": "stdout",
     "output_type": "stream",
     "text": [
      "Epoch 1100 | Train loss :0.8984892787411809 | Train accuracy : 0.657499979250133\n",
      "Epoch 1100 | Validation loss :1.1141134984791279 | Validation accuracy : 0.5362499877810478\n"
     ]
    },
    {
     "name": "stderr",
     "output_type": "stream",
     "text": [
      " 10%|█▌              | 1200/12000 [6:47:41<61:27:36, 20.49s/it]"
     ]
    },
    {
     "name": "stdout",
     "output_type": "stream",
     "text": [
      "Epoch 1200 | Train loss :0.9865195043385029 | Train accuracy : 0.6187499845400453\n",
      "Epoch 1200 | Validation loss :1.2251667939126492 | Validation accuracy : 0.4912499859929085\n"
     ]
    },
    {
     "name": "stderr",
     "output_type": "stream",
     "text": [
      " 11%|█▋              | 1300/12000 [7:21:49<60:49:32, 20.46s/it]"
     ]
    },
    {
     "name": "stdout",
     "output_type": "stream",
     "text": [
      "Epoch 1300 | Train loss :0.8876569923013449 | Train accuracy : 0.6449999818578362\n",
      "Epoch 1300 | Validation loss :1.0850266385823488 | Validation accuracy : 0.5637499820441008\n"
     ]
    },
    {
     "name": "stderr",
     "output_type": "stream",
     "text": [
      " 12%|█▊              | 1400/12000 [7:55:59<60:21:31, 20.50s/it]"
     ]
    },
    {
     "name": "stdout",
     "output_type": "stream",
     "text": [
      "Epoch 1400 | Train loss :0.9475674843415618 | Train accuracy : 0.6037499820813537\n",
      "Epoch 1400 | Validation loss :1.0870873052626848 | Validation accuracy : 0.5549999866634607\n"
     ]
    },
    {
     "name": "stderr",
     "output_type": "stream",
     "text": [
      " 12%|██              | 1500/12000 [8:31:16<60:01:08, 20.58s/it]"
     ]
    },
    {
     "name": "stdout",
     "output_type": "stream",
     "text": [
      "Epoch 1500 | Train loss :0.8623901894316077 | Train accuracy : 0.6674999836832285\n",
      "Epoch 1500 | Validation loss :1.0550154130905867 | Validation accuracy : 0.5399999879300594\n",
      "Average val_loss of last 500 epoch: 1.1692930254812042\n"
     ]
    },
    {
     "name": "stderr",
     "output_type": "stream",
     "text": [
      " 13%|██▏             | 1600/12000 [9:05:27<59:12:14, 20.49s/it]"
     ]
    },
    {
     "name": "stdout",
     "output_type": "stream",
     "text": [
      "Epoch 1600 | Train loss :0.857006604783237 | Train accuracy : 0.662499981932342\n",
      "Epoch 1600 | Validation loss :1.14059142395854 | Validation accuracy : 0.5412499848753214\n"
     ]
    },
    {
     "name": "stderr",
     "output_type": "stream",
     "text": [
      " 14%|██▎             | 1700/12000 [9:40:10<58:38:54, 20.50s/it]"
     ]
    },
    {
     "name": "stdout",
     "output_type": "stream",
     "text": [
      "Epoch 1700 | Train loss :0.8806136418133974 | Train accuracy : 0.6537499842233956\n",
      "Epoch 1700 | Validation loss :1.0537420641630888 | Validation accuracy : 0.5599999874830246\n"
     ]
    },
    {
     "name": "stderr",
     "output_type": "stream",
     "text": [
      " 15%|██▎            | 1800/12000 [10:14:22<58:06:12, 20.51s/it]"
     ]
    },
    {
     "name": "stdout",
     "output_type": "stream",
     "text": [
      "Epoch 1800 | Train loss :0.8286666385829449 | Train accuracy : 0.678749980404973\n",
      "Epoch 1800 | Validation loss :0.9949292801320553 | Validation accuracy : 0.5999999800696969\n"
     ]
    },
    {
     "name": "stderr",
     "output_type": "stream",
     "text": [
      " 16%|██▍            | 1900/12000 [10:48:33<57:34:25, 20.52s/it]"
     ]
    },
    {
     "name": "stdout",
     "output_type": "stream",
     "text": [
      "Epoch 1900 | Train loss :0.8331728307530284 | Train accuracy : 0.6724999789148569\n",
      "Epoch 1900 | Validation loss :1.0567252319306135 | Validation accuracy : 0.5662499880418181\n"
     ]
    },
    {
     "name": "stderr",
     "output_type": "stream",
     "text": [
      " 17%|██▌            | 2000/12000 [11:22:45<57:01:18, 20.53s/it]"
     ]
    },
    {
     "name": "stdout",
     "output_type": "stream",
     "text": [
      "Epoch 2000 | Train loss :0.7290941849350929 | Train accuracy : 0.702499981969595\n",
      "Epoch 2000 | Validation loss :0.9380176682025194 | Validation accuracy : 0.618749987334013\n"
     ]
    },
    {
     "name": "stderr",
     "output_type": "stream",
     "text": [
      " 18%|██▋            | 2100/12000 [11:56:57<56:25:37, 20.52s/it]"
     ]
    },
    {
     "name": "stdout",
     "output_type": "stream",
     "text": [
      "Epoch 2100 | Train loss :0.8267566082067788 | Train accuracy : 0.683749983087182\n",
      "Epoch 2100 | Validation loss :1.0906707849353552 | Validation accuracy : 0.5599999874830246\n"
     ]
    },
    {
     "name": "stderr",
     "output_type": "stream",
     "text": [
      " 18%|██▊            | 2200/12000 [12:31:06<55:39:43, 20.45s/it]"
     ]
    },
    {
     "name": "stdout",
     "output_type": "stream",
     "text": [
      "Epoch 2200 | Train loss :0.7567527676001191 | Train accuracy : 0.7124999798834324\n",
      "Epoch 2200 | Validation loss :1.0072479220107198 | Validation accuracy : 0.6162499841302633\n"
     ]
    },
    {
     "name": "stderr",
     "output_type": "stream",
     "text": [
      " 19%|██▊            | 2250/12000 [12:48:10<55:28:20, 20.48s/it]"
     ]
    },
    {
     "name": "stdout",
     "output_type": "stream",
     "text": [
      "Average val_loss of last 500 epoch: 1.0531685971257587\n"
     ]
    },
    {
     "name": "stderr",
     "output_type": "stream",
     "text": [
      " 19%|██▉            | 2300/12000 [13:05:14<55:13:02, 20.49s/it]"
     ]
    },
    {
     "name": "stdout",
     "output_type": "stream",
     "text": [
      "Epoch 2300 | Train loss :0.7463441910222173 | Train accuracy : 0.7037499863654375\n",
      "Epoch 2300 | Validation loss :0.9180787429213524 | Validation accuracy : 0.6412499826401472\n"
     ]
    },
    {
     "name": "stderr",
     "output_type": "stream",
     "text": [
      " 20%|███            | 2400/12000 [13:39:21<54:32:18, 20.45s/it]"
     ]
    },
    {
     "name": "stdout",
     "output_type": "stream",
     "text": [
      "Epoch 2400 | Train loss :0.696585207246244 | Train accuracy : 0.7437499761581421\n",
      "Epoch 2400 | Validation loss :1.0358286164700985 | Validation accuracy : 0.5724999913945794\n"
     ]
    },
    {
     "name": "stderr",
     "output_type": "stream",
     "text": [
      " 21%|███▏           | 2500/12000 [14:13:26<53:57:50, 20.45s/it]"
     ]
    },
    {
     "name": "stdout",
     "output_type": "stream",
     "text": [
      "Epoch 2500 | Train loss :0.7615073553752154 | Train accuracy : 0.6962499786168337\n",
      "Epoch 2500 | Validation loss :0.9732493152841926 | Validation accuracy : 0.5924999872222543\n"
     ]
    },
    {
     "name": "stderr",
     "output_type": "stream",
     "text": [
      " 22%|███▎           | 2600/12000 [14:47:31<53:24:11, 20.45s/it]"
     ]
    },
    {
     "name": "stdout",
     "output_type": "stream",
     "text": [
      "Epoch 2600 | Train loss :0.7009940398856997 | Train accuracy : 0.7262499816715717\n",
      "Epoch 2600 | Validation loss :0.9650092059746385 | Validation accuracy : 0.6037499867379665\n"
     ]
    },
    {
     "name": "stderr",
     "output_type": "stream",
     "text": [
      " 22%|███▍           | 2700/12000 [15:21:34<52:49:56, 20.45s/it]"
     ]
    },
    {
     "name": "stdout",
     "output_type": "stream",
     "text": [
      "Epoch 2700 | Train loss :0.7028951831161976 | Train accuracy : 0.722499979659915\n",
      "Epoch 2700 | Validation loss :0.9412793992087245 | Validation accuracy : 0.6287499833852053\n"
     ]
    },
    {
     "name": "stderr",
     "output_type": "stream",
     "text": [
      " 23%|███▌           | 2800/12000 [15:55:37<52:17:51, 20.46s/it]"
     ]
    },
    {
     "name": "stdout",
     "output_type": "stream",
     "text": [
      "Epoch 2800 | Train loss :0.6796522475779057 | Train accuracy : 0.7312499769032001\n",
      "Epoch 2800 | Validation loss :0.9909855024889112 | Validation accuracy : 0.6112499851733446\n"
     ]
    },
    {
     "name": "stderr",
     "output_type": "stream",
     "text": [
      " 24%|███▋           | 2900/12000 [16:29:40<51:40:03, 20.44s/it]"
     ]
    },
    {
     "name": "stdout",
     "output_type": "stream",
     "text": [
      "Epoch 2900 | Train loss :0.6539186351001263 | Train accuracy : 0.7687499802559614\n",
      "Epoch 2900 | Validation loss :0.9820780791342258 | Validation accuracy : 0.6137499855831265\n"
     ]
    },
    {
     "name": "stderr",
     "output_type": "stream",
     "text": [
      " 25%|███▊           | 3000/12000 [17:03:41<50:58:26, 20.39s/it]"
     ]
    },
    {
     "name": "stdout",
     "output_type": "stream",
     "text": [
      "Epoch 3000 | Train loss :0.6432654019445181 | Train accuracy : 0.7637499738484621\n",
      "Epoch 3000 | Validation loss :0.9600678272545338 | Validation accuracy : 0.6087499791756272\n",
      "Average val_loss of last 500 epoch: 0.9890074621954312\n"
     ]
    },
    {
     "name": "stderr",
     "output_type": "stream",
     "text": [
      " 26%|███▉           | 3100/12000 [17:37:43<50:27:49, 20.41s/it]"
     ]
    },
    {
     "name": "stdout",
     "output_type": "stream",
     "text": [
      "Epoch 3100 | Train loss :0.6218223357573152 | Train accuracy : 0.762499975040555\n",
      "Epoch 3100 | Validation loss :0.9648890178650618 | Validation accuracy : 0.587499983375892\n"
     ]
    },
    {
     "name": "stderr",
     "output_type": "stream",
     "text": [
      " 27%|████           | 3200/12000 [18:11:44<49:53:13, 20.41s/it]"
     ]
    },
    {
     "name": "stdout",
     "output_type": "stream",
     "text": [
      "Epoch 3200 | Train loss :0.562789237126708 | Train accuracy : 0.7837499808520079\n",
      "Epoch 3200 | Validation loss :1.013189798220992 | Validation accuracy : 0.5849999850615859\n"
     ]
    },
    {
     "name": "stderr",
     "output_type": "stream",
     "text": [
      " 28%|████▏          | 3300/12000 [18:45:45<49:22:12, 20.43s/it]"
     ]
    },
    {
     "name": "stdout",
     "output_type": "stream",
     "text": [
      "Epoch 3300 | Train loss :0.5091496123932302 | Train accuracy : 0.8124999795109034\n",
      "Epoch 3300 | Validation loss :0.9198005357757211 | Validation accuracy : 0.663749978877604\n"
     ]
    },
    {
     "name": "stderr",
     "output_type": "stream",
     "text": [
      " 28%|████▎          | 3400/12000 [19:19:46<48:42:19, 20.39s/it]"
     ]
    },
    {
     "name": "stdout",
     "output_type": "stream",
     "text": [
      "Epoch 3400 | Train loss :0.6262475796975195 | Train accuracy : 0.7649999763816595\n",
      "Epoch 3400 | Validation loss :0.9794522617012262 | Validation accuracy : 0.617499983869493\n"
     ]
    },
    {
     "name": "stderr",
     "output_type": "stream",
     "text": [
      " 29%|████▍          | 3500/12000 [19:53:43<48:07:10, 20.38s/it]"
     ]
    },
    {
     "name": "stdout",
     "output_type": "stream",
     "text": [
      "Epoch 3500 | Train loss :0.6467301771044731 | Train accuracy : 0.7487499797716737\n",
      "Epoch 3500 | Validation loss :0.9574658563360572 | Validation accuracy : 0.593749986961484\n"
     ]
    },
    {
     "name": "stderr",
     "output_type": "stream",
     "text": [
      " 30%|████▌          | 3600/12000 [20:28:07<50:38:09, 21.70s/it]"
     ]
    },
    {
     "name": "stdout",
     "output_type": "stream",
     "text": [
      "Epoch 3600 | Train loss :0.6269261424895376 | Train accuracy : 0.7637499831616879\n",
      "Epoch 3600 | Validation loss :0.9270792594179511 | Validation accuracy : 0.6374999834224582\n"
     ]
    },
    {
     "name": "stderr",
     "output_type": "stream",
     "text": [
      " 31%|████▋          | 3700/12000 [21:02:32<46:52:30, 20.33s/it]"
     ]
    },
    {
     "name": "stdout",
     "output_type": "stream",
     "text": [
      "Epoch 3700 | Train loss :0.5636445572599769 | Train accuracy : 0.7912499811500311\n",
      "Epoch 3700 | Validation loss :0.9328939588740468 | Validation accuracy : 0.6437499783933163\n"
     ]
    },
    {
     "name": "stderr",
     "output_type": "stream",
     "text": [
      " 31%|████▋          | 3750/12000 [21:19:29<46:36:32, 20.34s/it]"
     ]
    },
    {
     "name": "stdout",
     "output_type": "stream",
     "text": [
      "Average val_loss of last 500 epoch: 0.9348789933913698\n"
     ]
    },
    {
     "name": "stderr",
     "output_type": "stream",
     "text": [
      " 32%|████▊          | 3800/12000 [21:36:27<46:19:04, 20.33s/it]"
     ]
    },
    {
     "name": "stdout",
     "output_type": "stream",
     "text": [
      "Epoch 3800 | Train loss :0.5582282887771726 | Train accuracy : 0.7737499745562673\n",
      "Epoch 3800 | Validation loss :0.8357252394780517 | Validation accuracy : 0.6612499784678221\n"
     ]
    },
    {
     "name": "stderr",
     "output_type": "stream",
     "text": [
      " 32%|████▉          | 3900/12000 [22:10:23<45:46:10, 20.34s/it]"
     ]
    },
    {
     "name": "stdout",
     "output_type": "stream",
     "text": [
      "Epoch 3900 | Train loss :0.6313612057128921 | Train accuracy : 0.7687499774619937\n",
      "Epoch 3900 | Validation loss :0.91527886595577 | Validation accuracy : 0.6299999840557575\n"
     ]
    },
    {
     "name": "stderr",
     "output_type": "stream",
     "text": [
      " 33%|█████          | 4000/12000 [22:44:18<45:15:11, 20.36s/it]"
     ]
    },
    {
     "name": "stdout",
     "output_type": "stream",
     "text": [
      "Epoch 4000 | Train loss :0.4645992508158088 | Train accuracy : 0.8162499740719795\n",
      "Epoch 4000 | Validation loss :0.8625044822692871 | Validation accuracy : 0.6562499888241291\n"
     ]
    },
    {
     "name": "stderr",
     "output_type": "stream",
     "text": [
      " 34%|█████          | 4096/12000 [23:16:54<44:43:25, 20.37s/it]"
     ]
    }
   ],
   "source": [
    "maml_lr = 0.5\n",
    "lr = 1e-3\n",
    "EPOCHS = 12000\n",
    "meta_batch = 32\n",
    "fas = 1\n",
    "model = l2l.vision.models.ResNet12(output_size=ways).to(device)\n",
    "meta_model = l2l.algorithms.MAML(model, lr=maml_lr,first_order=False)\n",
    "opt = torch.optim.AdamW(meta_model.parameters(), lr=lr)\n",
    "loss_func = nn.CrossEntropyLoss(reduction='mean')\n",
    "results  = train(EPOCHS, meta_model, train_taskset, val_taskset, loss_func,opt, device, \"resnet_task_augmentation_v2\")"
   ]
  },
  {
   "cell_type": "code",
   "execution_count": null,
   "id": "0156fee5-9783-46a7-a39d-ee5d382ec30f",
   "metadata": {},
   "outputs": [],
   "source": [
    "def moving_average(x, w):\n",
    "    return np.convolve(x, np.ones(w), 'valid') / w\n",
    "df1 = pd.DataFrame(results[\"train_acc_list\"],columns=['train_accuracy'])\n",
    "df2 = pd.DataFrame([i for i in results[\"val_acc_list\"]],columns=['val_accuracy'])\n",
    "df = pd.concat([df1,df2],axis=1)\n",
    "df.plot()"
   ]
  },
  {
   "cell_type": "code",
   "execution_count": null,
   "id": "6588bce0-c22c-4ce1-96b6-1759cb83b90d",
   "metadata": {},
   "outputs": [],
   "source": [
    "df1 = pd.DataFrame(results[\"train_loss_list\"][1000:],columns=['train_loss'])\n",
    "df2 = pd.DataFrame([i for i in results[\"val_loss_list\"][1000:]],columns=['val_loss'])\n",
    "df = pd.concat([df1,df2],axis=1)\n",
    "df.plot()"
   ]
  }
 ],
 "metadata": {
  "kernelspec": {
   "display_name": "Python [conda env:.conda-meta]",
   "language": "python",
   "name": "conda-env-.conda-meta-py"
  },
  "language_info": {
   "codemirror_mode": {
    "name": "ipython",
    "version": 3
   },
   "file_extension": ".py",
   "mimetype": "text/x-python",
   "name": "python",
   "nbconvert_exporter": "python",
   "pygments_lexer": "ipython3",
   "version": "3.9.16"
  }
 },
 "nbformat": 4,
 "nbformat_minor": 5
}
