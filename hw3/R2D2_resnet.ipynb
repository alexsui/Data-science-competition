{
 "cells": [
  {
   "cell_type": "markdown",
   "id": "8c016de8-bcb8-4f7a-af2d-3d197b49c7a4",
   "metadata": {},
   "source": [
    "# R2D2\n",
    "訓練不起來"
   ]
  },
  {
   "cell_type": "code",
   "execution_count": 1,
   "id": "485403e0-1325-4c2b-ae1e-a8b860bfc556",
   "metadata": {},
   "outputs": [
    {
     "name": "stderr",
     "output_type": "stream",
     "text": [
      "/home/samuel/.conda/envs/meta/lib/python3.9/site-packages/tqdm/auto.py:21: TqdmWarning: IProgress not found. Please update jupyter and ipywidgets. See https://ipywidgets.readthedocs.io/en/stable/user_install.html\n",
      "  from .autonotebook import tqdm as notebook_tqdm\n"
     ]
    }
   ],
   "source": [
    "import torch\n",
    "import torch.nn as nn\n",
    "import torchvision\n",
    "from torchvision import datasets, transforms\n",
    "from torchvision.models import resnet50\n",
    "from torch.utils.data import Dataset, DataLoader\n",
    "import torchvision.models as models\n",
    "import torch.nn.functional as F\n",
    "from tqdm.auto import tqdm,trange\n",
    "from pathlib import Path\n",
    "import pandas as pd\n",
    "import torch.nn.utils.prune as prune\n",
    "import numpy as np\n",
    "import random\n",
    "import learn2learn as l2l\n",
    "import pickle\n",
    "import matplotlib.pyplot as plt"
   ]
  },
  {
   "cell_type": "code",
   "execution_count": 2,
   "id": "497a860c-a5df-4d9e-891d-8161348a42c5",
   "metadata": {},
   "outputs": [],
   "source": [
    "seed = 42\n",
    "torch.manual_seed(seed)\n",
    "if torch.cuda.is_available():\n",
    "    torch.cuda.manual_seed_all(seed)\n",
    "np.random.seed(seed)\n",
    "random.seed(seed)\n",
    "torch.backends.cudnn.deterministic = True\n",
    "torch.backends.cudnn.benchmark = False\n",
    "device = \"cuda\" if torch.cuda.is_available() else \"cpu\""
   ]
  },
  {
   "cell_type": "code",
   "execution_count": 3,
   "id": "e3392284-4ea8-4c8f-add6-06de410b41a2",
   "metadata": {},
   "outputs": [],
   "source": [
    "kways = 5 \n",
    "train_shots =5\n",
    "train_querys =6\n",
    "val_shots =5\n",
    "val_querys =15\n",
    "test_shots =5\n",
    "test_querys =5"
   ]
  },
  {
   "cell_type": "code",
   "execution_count": 4,
   "id": "38e3a96c-1b56-4879-b1d6-ce5e12cb08db",
   "metadata": {},
   "outputs": [],
   "source": [
    "with open(\"./data/test.pkl\",'rb') as f:\n",
    "    test_data = pickle.load(f)\n",
    "with open(\"./data/train.pkl\",'rb') as f:\n",
    "    train_data = pickle.load(f)\n",
    "with open(\"./data/validation.pkl\",'rb') as f:\n",
    "    val_data = pickle.load(f)"
   ]
  },
  {
   "cell_type": "code",
   "execution_count": 5,
   "id": "1a45c492-fcea-41af-8755-36b68e319daf",
   "metadata": {},
   "outputs": [
    {
     "data": {
      "text/plain": [
       "(38400, 3, 84, 84)"
      ]
     },
     "execution_count": 5,
     "metadata": {},
     "output_type": "execute_result"
    }
   ],
   "source": [
    "train_data['images'].shape"
   ]
  },
  {
   "cell_type": "code",
   "execution_count": 6,
   "id": "cf2755e7-b558-466c-8552-bab0584b756b",
   "metadata": {},
   "outputs": [
    {
     "data": {
      "text/plain": [
       "(9600, 3, 84, 84)"
      ]
     },
     "execution_count": 6,
     "metadata": {},
     "output_type": "execute_result"
    }
   ],
   "source": [
    "val_data['images'].shape"
   ]
  },
  {
   "cell_type": "markdown",
   "id": "b2299aa1-eda0-4513-849a-e7fe41e03765",
   "metadata": {
    "tags": []
   },
   "source": [
    "# Task augmentation"
   ]
  },
  {
   "cell_type": "code",
   "execution_count": 7,
   "id": "7c2837d2-a5f2-4354-a7b6-131dc556ac64",
   "metadata": {},
   "outputs": [
    {
     "name": "stdout",
     "output_type": "stream",
     "text": [
      "CPU times: user 18.4 s, sys: 21.1 s, total: 39.5 s\n",
      "Wall time: 39.5 s\n"
     ]
    }
   ],
   "source": [
    "%%time\n",
    "images = train_data[\"images\"]\n",
    "labels = train_data[\"labels\"]\n",
    "num_labels = np.unique(labels).shape[0]\n",
    "num_new_labels = num_labels*3\n",
    "n_data = int(len(labels)/num_labels)\n",
    "for i in range(num_labels):\n",
    "    images_of_one_class = images[i*n_data:(i+1)*n_data] #600\n",
    "    new_img1 = np.array([np.rot90(img.copy(), axes=(2,1)) for img in images_of_one_class]) \n",
    "    # new_img2 = np.array([np.rot90(img.copy(),2, axes=(2,1)) for img in images_of_one_class])\n",
    "    # new_img3 = np.array([np.rot90(img.copy(),3, axes=(2,1)) for img in images_of_one_class])\n",
    "    train_data[\"images\"] = np.concatenate((train_data[\"images\"],new_img1))\n",
    "    train_data[\"labels\"] = np.concatenate((train_data[\"labels\"],[num_labels+i]*n_data))"
   ]
  },
  {
   "cell_type": "code",
   "execution_count": 8,
   "id": "32deafaa-28b8-4fe9-a89a-ce0193a6a2cc",
   "metadata": {},
   "outputs": [
    {
     "data": {
      "text/plain": [
       "((76800, 3, 84, 84), (76800,))"
      ]
     },
     "execution_count": 8,
     "metadata": {},
     "output_type": "execute_result"
    }
   ],
   "source": [
    "train_data[\"images\"].shape,train_data[\"labels\"].shape"
   ]
  },
  {
   "cell_type": "code",
   "execution_count": 10,
   "id": "23f8d4ac-98e4-469b-bbff-0ca3d7a5e0e1",
   "metadata": {},
   "outputs": [
    {
     "name": "stdout",
     "output_type": "stream",
     "text": [
      "CPU times: user 1.35 s, sys: 1.53 s, total: 2.89 s\n",
      "Wall time: 2.88 s\n"
     ]
    }
   ],
   "source": [
    "%%time\n",
    "images = val_data[\"images\"]\n",
    "labels = val_data[\"labels\"]\n",
    "num_labels = np.unique(labels).shape[0]\n",
    "num_new_labels = num_labels*3\n",
    "n_data = int(len(labels)/num_labels)\n",
    "for i in range(num_labels):\n",
    "    images_of_one_class = images[i*n_data:(i+1)*n_data]\n",
    "    new_img1 = np.array([np.rot90(img.copy(), axes=(2,1)) for img in images_of_one_class]) \n",
    "    # new_img2 = np.array([np.rot90(img.copy(),2, axes=(2,1)) for img in images_of_one_class])\n",
    "    # new_img3 = np.array([np.rot90(img.copy(),3, axes=(2,1)) for img in images_of_one_class])\n",
    "    val_data[\"images\"] = np.concatenate((val_data[\"images\"],new_img1))\n",
    "    val_data[\"labels\"] = np.concatenate((val_data[\"labels\"],[num_labels+i]*n_data))"
   ]
  },
  {
   "cell_type": "code",
   "execution_count": 11,
   "id": "cfa425d0-259a-4c1a-935f-6e57281f9191",
   "metadata": {},
   "outputs": [
    {
     "data": {
      "text/plain": [
       "((19200, 3, 84, 84), (19200,))"
      ]
     },
     "execution_count": 11,
     "metadata": {},
     "output_type": "execute_result"
    }
   ],
   "source": [
    "val_data[\"images\"].shape,val_data[\"labels\"].shape"
   ]
  },
  {
   "cell_type": "code",
   "execution_count": 7,
   "id": "ef4f94b4-487e-423f-92a3-0f553e937dd5",
   "metadata": {},
   "outputs": [],
   "source": [
    "def set_seed(seed):\n",
    "    torch.manual_seed(seed)\n",
    "    if torch.cuda.is_available():\n",
    "        torch.cuda.manual_seed_all(seed)\n",
    "    np.random.seed(seed)\n",
    "    random.seed(seed)"
   ]
  },
  {
   "cell_type": "code",
   "execution_count": 8,
   "id": "4be8e0b7-b2e9-410d-a104-a00339bebddb",
   "metadata": {},
   "outputs": [],
   "source": [
    "class Dataset(Dataset):\n",
    "    def __init__(self,data,transform = None):\n",
    "        self.transform = transform\n",
    "        self.data=data\n",
    "        self.images = np.transpose(self.data['images'],(0,2,3,1))\n",
    "        self.labels = data['labels']\n",
    "    def __len__(self): \n",
    "        return len(self.data['images'])\n",
    "    def __getitem__(self,index):\n",
    "        img = self.images[index]\n",
    "        label = self.labels[index]\n",
    "        if self.transform:\n",
    "            img = self.transform(img)\n",
    "        return img, label"
   ]
  },
  {
   "cell_type": "code",
   "execution_count": 9,
   "id": "ff2aec39-a131-473c-962c-4f4a0216eefb",
   "metadata": {},
   "outputs": [],
   "source": [
    "train_transform = transforms.Compose([\n",
    "        transforms.ToTensor(),\n",
    "        transforms.Normalize((0.5,), (0.5,)),\n",
    "        # transforms.RandomHorizontalFlip(),\n",
    "        # transforms.RandomAffine(degrees = 0, translate=(0.1,0.1)),\n",
    "        # transforms.RandomRotation(20),#原本是10\n",
    "\n",
    "    ])\n",
    "val_transform = transforms.Compose([\n",
    "        transforms.ToTensor(),\n",
    "        transforms.Normalize((0.5,), (0.5,)),\n",
    "        # transforms.RandomHorizontalFlip(),\n",
    "        # # transforms.RandomRotation(20),#原本是10\n",
    "        # transforms.RandomAffine(degrees = 0, translate=(0.1,0.1))\n",
    "])"
   ]
  },
  {
   "cell_type": "code",
   "execution_count": 10,
   "id": "f790cf6e-bb5a-4c9d-a372-b4568decafc0",
   "metadata": {},
   "outputs": [],
   "source": [
    "train_dataset = Dataset(train_data,train_transform)\n",
    "val_dataset = Dataset(val_data, val_transform)"
   ]
  },
  {
   "cell_type": "code",
   "execution_count": 11,
   "id": "97bea3df-4d1e-47e7-afbe-90d5dc3303a5",
   "metadata": {},
   "outputs": [],
   "source": [
    "train_dataset = l2l.data.MetaDataset(train_dataset)\n",
    "val_dataset = l2l.data.MetaDataset(val_dataset)"
   ]
  },
  {
   "cell_type": "code",
   "execution_count": 12,
   "id": "10f80fda-220d-48ba-b150-6f39e7b2a7f3",
   "metadata": {},
   "outputs": [],
   "source": [
    "train_task_transforms = [\n",
    "    l2l.data.transforms.FusedNWaysKShots(train_dataset, n=kways, k=train_querys+train_shots),\n",
    "    l2l.data.transforms.LoadData(train_dataset),\n",
    "    l2l.data.transforms.RemapLabels(train_dataset),\n",
    "    l2l.data.transforms.ConsecutiveLabels(train_dataset),\n",
    "]\n",
    "val_task_transforms = [\n",
    "    l2l.data.transforms.FusedNWaysKShots(val_dataset, n = kways, k=val_querys+val_shots),\n",
    "    l2l.data.transforms.LoadData(val_dataset),\n",
    "    l2l.data.transforms.RemapLabels(val_dataset),\n",
    "    l2l.data.transforms.ConsecutiveLabels(val_dataset),\n",
    "]"
   ]
  },
  {
   "cell_type": "code",
   "execution_count": 13,
   "id": "a239fd42-9acd-4452-9fa9-91a4999d7084",
   "metadata": {},
   "outputs": [],
   "source": [
    "def computeGramMatrix(A, B):\n",
    "    \"\"\"\n",
    "    Constructs a linear kernel matrix between A and B.\n",
    "    We assume that each row in A and B represents a d-dimensional feature vector.\n",
    "    \n",
    "    Parameters:\n",
    "      A:  a (n_batch, n, d) Tensor.\n",
    "      B:  a (n_batch, m, d) Tensor.\n",
    "    Returns: a (n_batch, n, m) Tensor.\n",
    "    \"\"\"\n",
    "    \n",
    "    assert(A.dim() == 3)\n",
    "    assert(B.dim() == 3)\n",
    "    assert(A.size(0) == B.size(0) and A.size(2) == B.size(2))\n",
    "\n",
    "    return torch.bmm(A, B.transpose(1,2))\n",
    "\n",
    "\n",
    "def binv(b_mat):\n",
    "    \"\"\"\n",
    "    Computes an inverse of each matrix in the batch.\n",
    "    Pytorch 0.4.1 does not support batched matrix inverse.\n",
    "    Hence, we are solving AX=I.\n",
    "    \n",
    "    Parameters:\n",
    "      b_mat:  a (n_batch, n, n) Tensor.\n",
    "    Returns: a (n_batch, n, n) Tensor.\n",
    "    \"\"\"\n",
    "\n",
    "    id_matrix = b_mat.new_ones(b_mat.size(-1)).diag().expand_as(b_mat).cuda()\n",
    "    b_inv = torch.linalg.solve(id_matrix, b_mat)\n",
    "    \n",
    "    return b_inv\n",
    "\n",
    "\n",
    "def one_hot(indices, depth):\n",
    "    \"\"\"\n",
    "    Returns a one-hot tensor.\n",
    "    This is a PyTorch equivalent of Tensorflow's tf.one_hot.\n",
    "        \n",
    "    Parameters:\n",
    "      indices:  a (n_batch, m) Tensor or (m) Tensor.\n",
    "      depth: a scalar. Represents the depth of the one hot dimension.\n",
    "    Returns: a (n_batch, m, depth) Tensor or (m, depth) Tensor.\n",
    "    \"\"\"\n",
    "\n",
    "    encoded_indicies = torch.zeros(indices.size() + torch.Size([depth])).cuda()\n",
    "    index = indices.view(indices.size()+torch.Size([1]))\n",
    "    encoded_indicies = encoded_indicies.scatter_(1,index,1)\n",
    "    \n",
    "    return encoded_indicies\n",
    "def R2D2_Woodbury(query, support, support_labels, n_way, n_shot, l2_regularizer_lambda=50.0):\n",
    "    tasks_per_batch = query.size(0)\n",
    "    n_support = support.size(1)\n",
    "\n",
    "    assert(query.dim() == 3)\n",
    "    assert(support.dim() == 3)\n",
    "    assert(query.size(0) == support.size(0) and query.size(2) == support.size(2))\n",
    "    assert(n_support == n_way * n_shot)      # n_support must equal to n_way * n_shot\n",
    "\n",
    "    support_labels_one_hot = one_hot(support_labels.view(tasks_per_batch * n_support), n_way)\n",
    "    support_labels_one_hot = support_labels_one_hot.view(tasks_per_batch, n_support, n_way)\n",
    "\n",
    "    id_matrix = torch.eye(n_support).expand(tasks_per_batch, n_support, n_support).cuda()\n",
    "\n",
    "    # Compute the dual form solution of the ridge regression.\n",
    "    # W = X^T(X X^T - lambda * I)^(-1) Y\n",
    "    ridge_sol = computeGramMatrix(support, support) + l2_regularizer_lambda * id_matrix\n",
    "    ridge_sol = binv(ridge_sol)\n",
    "    ridge_sol = torch.bmm(support.transpose(1,2), ridge_sol)\n",
    "    ridge_sol = torch.bmm(ridge_sol, support_labels_one_hot)\n",
    "\n",
    "    # Compute the classification score.\n",
    "    # score = W X\n",
    "    logits = torch.bmm(query, ridge_sol)\n",
    "\n",
    "    return logits\n",
    "def R2D2_conv_block(in_channels, out_channels, retain_activation=True, keep_prob=1.0):\n",
    "    block = nn.Sequential(\n",
    "        nn.Conv2d(in_channels, out_channels, 3, padding=1),\n",
    "        nn.BatchNorm2d(out_channels),\n",
    "        nn.MaxPool2d(2)\n",
    "    )\n",
    "    if retain_activation:\n",
    "        block.add_module(\"LeakyReLU\", nn.LeakyReLU(0.1))\n",
    "\n",
    "    if keep_prob < 1.0:\n",
    "        block.add_module(\"Dropout\", nn.Dropout(p=1 - keep_prob, inplace=False))\n",
    "\n",
    "    return block\n",
    "class R2D2Embedding(nn.Module):\n",
    "    def __init__(self, x_dim=3, h1_dim=96, h2_dim=192, h3_dim=384, z_dim=512, \\\n",
    "                 retain_last_activation=False):\n",
    "        super(R2D2Embedding, self).__init__()\n",
    "\n",
    "        self.block1 = R2D2_conv_block(x_dim, h1_dim)\n",
    "        self.block2 = R2D2_conv_block(h1_dim, h2_dim)\n",
    "        self.block3 = R2D2_conv_block(h2_dim, h3_dim, keep_prob=0.9)\n",
    "        # In the last conv block, we disable activation function to boost the classification accuracy.\n",
    "        # This trick was proposed by Gidaris et al. (CVPR 2018).\n",
    "        # With this trick, the accuracy goes up from 50% to 51%.\n",
    "        # Although the authors of R2D2 did not mention this trick in the paper,\n",
    "        # we were unable to reproduce the result of Bertinetto et al. without resorting to this trick.\n",
    "        self.block4 = R2D2_conv_block(h3_dim, z_dim, retain_activation=retain_last_activation, keep_prob=0.7)\n",
    "  \n",
    "    def forward(self, x):\n",
    "        b1 = self.block1(x)\n",
    "        b2 = self.block2(b1)\n",
    "        b3 = self.block3(b2)\n",
    "        b4 = self.block4(b3)\n",
    "        # Flatten and concatenate the output of the 3rd and 4th conv blocks as proposed in R2D2 paper.\n",
    "        return torch.cat((b3.view(b3.size(0), -1), b4.view(b4.size(0), -1)), 1)\n",
    "\n",
    "class R2D2Head(nn.Module):\n",
    "    def __init__(self, affine=True):\n",
    "        super(R2D2Head, self).__init__()\n",
    "\n",
    "        # Add a learnable scale\n",
    "        self.affine = affine\n",
    "        if affine:\n",
    "            self.scale = nn.Parameter(torch.FloatTensor([1.0]))\n",
    "            self.bias = nn.Parameter(torch.FloatTensor([0.0]))\n",
    "\n",
    "    def forward(self, query, support, support_labels, n_way, n_shot, **kwargs):\n",
    "        if self.affine:\n",
    "            return self.scale * R2D2_Woodbury(query, support, support_labels, n_way, n_shot, **kwargs) + self.bias\n",
    "        else:\n",
    "            return R2D2_Woodbury(query, support, support_labels, n_way, n_shot, **kwargs)\n",
    "\n",
    "    def extra_repr(self):\n",
    "        return 'affine={affine}'.format(**self.__dict__)"
   ]
  },
  {
   "cell_type": "code",
   "execution_count": 40,
   "id": "0010410a-dcd5-40af-972e-a66eb3c6e23a",
   "metadata": {},
   "outputs": [],
   "source": [
    "def adaption(epoch,embedding,cls_head, task, ways, shots, query_num, loss_func, device=None):\n",
    "    if device is None:\n",
    "        device = model.device()\n",
    "    data, labels = task\n",
    "    data = data.to(device)\n",
    "    labels = labels.to(device)\n",
    "    \n",
    "    sort = torch.sort(labels)\n",
    "    data = data[sort.indices]\n",
    "    labels = labels[sort.indices]\n",
    "    # print(labels)\n",
    "    # Compute support and query embeddings\n",
    "    embed = embedding(data)\n",
    "    # print(embedding.shape)\n",
    "    support_indices = np.array(([True]*shots+[False]*query_num)*ways)\n",
    "    query_indices = torch.from_numpy(~support_indices)\n",
    "    support_indices = torch.from_numpy(support_indices)\n",
    "    support = embed[support_indices].unsqueeze(0) #(25,1024)\n",
    "    support_labels = labels[support_indices].long()\n",
    "    query = embed[query_indices].unsqueeze(0) #(25,1024)\n",
    "    query_labels = labels[query_indices].long().view(-1)\n",
    "    logit_query = cls_head(query, support, support_labels, ways, shots)\n",
    "    logit_query = logit_query.view(-1, ways)\n",
    "    if epoch==2:\n",
    "        print(\"logits_query:\",logit_query)\n",
    "        print(\"query_labels:\",query_labels)\n",
    "        print(\"loss:\",loss_func(logit_query, query_labels))\n",
    "        print(\"pred_labels:\",torch.argmax(logit_query,dim=1))\n",
    "        print(\"labels:\",query_labels)\n",
    "    loss = loss_func(logit_query, query_labels)\n",
    "    acc = torch.sum(torch.argmax(logit_query,dim=1)==query_labels)/len(query_labels)\n",
    "    return loss, acc\n",
    "\n",
    "def train(EPOCH,model,embedding,cls_head,train_dataset, val_dataset,loss_func,opt, device,model_name, scheduler = None):\n",
    "    res={\n",
    "        \"train_loss\":[],\n",
    "        \"train_accuracy\":[],\n",
    "        \"val_loss\":[],\n",
    "        \"val_accuracy\":[],  \n",
    "    }\n",
    "    log_file = f\"./log/{model_name}.txt\"\n",
    "    for epoch in trange(1, EPOCH + 1):\n",
    "        train_batch_acc = 0\n",
    "        train_batch_loss = 0\n",
    "        set_seed(epoch)\n",
    "        train_taskset =  l2l.data.TaskDataset(train_dataset, train_task_transforms, num_tasks=8000)\n",
    "        train_dataloader = DataLoader(train_taskset,batch_size=batch_size,shuffle =True)\n",
    "        for batch_task in train_dataloader:\n",
    "            train_total_loss = 0\n",
    "            train_total_acc = 0\n",
    "            opt.zero_grad()\n",
    "            for task in zip(batch_task[0],batch_task[1]):\n",
    "                # print(task[1])\n",
    "                train_loss, train_acc = adaption(epoch,embedding,cls_head,\n",
    "                                       task,\n",
    "                                       kways,\n",
    "                                       train_shots,\n",
    "                                       train_querys,\n",
    "                                       loss_func,\n",
    "                                       device=device)\n",
    "                # print(train_acc)\n",
    "                train_total_loss += train_loss.item()\n",
    "                train_total_acc += train_acc.item()\n",
    "                # print(\"train_total_acc\",train_total_acc)\n",
    "                train_loss.backward()\n",
    "                # for p in embedding.parameters(): \n",
    "                #     # if p.grad.data==None:\n",
    "                #     print(p.grad.data)\n",
    "                # break    \n",
    "            opt.step()\n",
    "            train_batch_loss += train_total_loss/batch_size\n",
    "            train_batch_acc += train_total_acc/batch_size\n",
    "            # print(\"train_batch_acc:\",train_total_acc/batch_size)\n",
    "        res['train_loss'].append(train_batch_loss/len(train_dataloader))\n",
    "        res['train_accuracy'].append(train_batch_acc/len(train_dataloader))\n",
    "        if scheduler:\n",
    "            scheduler.step()\n",
    "        \n",
    "        model.eval()\n",
    "        with torch.inference_mode():\n",
    "            val_batch_acc = 0\n",
    "            val_batch_loss = 0\n",
    "            val_taskset =  l2l.data.TaskDataset(val_dataset, val_task_transforms, num_tasks=2000)\n",
    "            val_dataloader = DataLoader(val_taskset,batch_size=batch_size//2,shuffle =True)\n",
    "            for batch_task in val_dataloader:\n",
    "                val_total_loss = 0\n",
    "                val_total_acc = 0\n",
    "                for task in zip(batch_task[0],batch_task[1]):\n",
    "                    val_loss, val_acc = adaption(epoch,embedding,cls_head,\n",
    "                                           task,\n",
    "                                           kways,\n",
    "                                           val_shots,\n",
    "                                           val_querys,\n",
    "                                           loss_func,\n",
    "                                           device=device)\n",
    "\n",
    "                    val_total_loss += val_loss.item()\n",
    "                    val_total_acc += val_acc.item()\n",
    "                val_batch_loss += val_total_loss/(batch_size/2)\n",
    "                val_batch_acc += val_total_acc/(batch_size/2)\n",
    "            # val_epoch_loss.append(val_total_loss/(batch_size//2))\n",
    "            res['val_loss'].append(val_batch_loss/len(val_dataloader))\n",
    "            res['val_accuracy'].append(val_batch_acc/len(val_dataloader))\n",
    "\n",
    "        out = {\n",
    "        \"Epoch\" : epoch,\n",
    "        \"train accuracy\" : (train_batch_acc/len(train_dataloader)),\n",
    "        \"validation accuracy\" : (val_batch_acc/len(val_dataloader)),\n",
    "        \"train loss\" : (train_batch_loss/len(train_dataloader)),\n",
    "        \"validation loss\" : (val_batch_loss/len(val_dataloader))\n",
    "        }\n",
    "        with open(log_file,\"a\") as f:\n",
    "            f.write(str(out) + '\\n')\n",
    "        if epoch%10==0:\n",
    "            MODEL_PATH = Path(f\"./model/{model_name}\")\n",
    "            MODEL_PATH.mkdir(exist_ok=True,parents=True)\n",
    "            torch.save(model.state_dict(),MODEL_PATH/f\"model_{epoch}.pt\")\n",
    "        print(out)  \n",
    "        # early stop\n",
    "        # n = 100\n",
    "        # if len(res[\"val_loss_list\"])>n:\n",
    "        #     if (epoch+1)%n == 0:\n",
    "        #         avg_val_loss = sum(res[\"val_loss_list\"][-n:])/n\n",
    "        #         print(\"Average val_loss of last 500 epoch:\",avg_val_loss)\n",
    "        #         if last_val_loss < avg_val_loss:\n",
    "        #             print(\"Early stop!!!\")\n",
    "        #             return res\n",
    "        #         last_val_loss = avg_val_loss\n",
    "    return res"
   ]
  },
  {
   "cell_type": "code",
   "execution_count": 41,
   "id": "88c800bd-4699-472d-bcfa-b79f8c15b6a5",
   "metadata": {},
   "outputs": [],
   "source": [
    "# for i in range(2):    \n",
    "#     set_seed(i)\n",
    "#     train_taskset =  l2l.data.TaskDataset(train_dataset, task_transforms, num_tasks=8000)\n",
    "#     for x,y in train_dataset:\n",
    "#         print(x)\n",
    "#         break"
   ]
  },
  {
   "cell_type": "code",
   "execution_count": 42,
   "id": "334f9672-48d5-45c2-b9d0-d840db048ff6",
   "metadata": {},
   "outputs": [],
   "source": [
    "def test(embedding,cls_head, test_data, loss_func, device):\n",
    "    \n",
    "    test_loss = 0\n",
    "    test_acc = 0\n",
    "    test_sup_images = test_data['sup_images']\n",
    "    test_sup_labels = test_data['sup_labels']\n",
    "    test_qry_images = test_data['qry_images']\n",
    "    all_pred = []\n",
    "    model.eval()\n",
    "    with torch.inference_mode():\n",
    "        for i in trange(len(test_sup_images)):\n",
    "            test_sup_image = test_sup_images[i].to(device)\n",
    "            test_sup_label = test_sup_labels[i].to(device)\n",
    "            query = test_qry_images[i].to(device)\n",
    "            sup_embed = embedding(test_sup_image)\n",
    "            query_embed = embedding(query)\n",
    "            logit_query = cls_head(query_embed, sup_embed, test_sup_label, kways, test_shots)\n",
    "            logit_query = logit_query.view(-1, kways)\n",
    "            pred = torch.argmax(logit_query,dim=1).detach().cpu().numpy()\n",
    "            all_pred += [item for sublist in pred for item in sublist]\n",
    "    return all_pred"
   ]
  },
  {
   "cell_type": "code",
   "execution_count": null,
   "id": "520369e9-aab3-411e-bf63-5b7de76a3b86",
   "metadata": {},
   "outputs": [],
   "source": [
    "lr = 0.1\n",
    "EPOCHS = 60\n",
    "batch_size = 8\n",
    "embedding = R2D2Embedding().to(device)\n",
    "cls_head = R2D2Head().to(device)\n",
    "_, _ = [x.train() for x in (embedding, cls_head)]\n",
    "model = nn.Sequential(embedding, cls_head)\n",
    "opt = torch.optim.AdamW(model.parameters(), lr=lr)\n",
    "lambda_epoch = lambda e: 1.0 if e < 30 else (0.5 if e < 40 else 0.25 if e < 50 else (0.125))\n",
    "scheduler = torch.optim.lr_scheduler.LambdaLR(opt, lr_lambda=lambda_epoch)\n",
    "loss_func = nn.CrossEntropyLoss(reduction='mean')\n",
    "results  = train(EPOCHS, model, embedding,cls_head,train_dataset, val_dataset, loss_func,opt, device, \"R2D2\",scheduler = scheduler)"
   ]
  },
  {
   "cell_type": "code",
   "execution_count": null,
   "id": "b4dc0111-c6dc-4580-8c9e-b1469c97c073",
   "metadata": {},
   "outputs": [],
   "source": [
    "torch.save(meta_model.state_dict(),\"./model/resnet_task_augmentation/final_model.pt\")"
   ]
  },
  {
   "cell_type": "code",
   "execution_count": 78,
   "id": "0156fee5-9783-46a7-a39d-ee5d382ec30f",
   "metadata": {},
   "outputs": [
    {
     "data": {
      "text/plain": [
       "<Axes: >"
      ]
     },
     "execution_count": 78,
     "metadata": {},
     "output_type": "execute_result"
    },
    {
     "data": {
      "image/png": "[encoded data removed]",
      "text/plain": [
       "<Figure size 640x480 with 1 Axes>"
      ]
     },
     "metadata": {},
     "output_type": "display_data"
    }
   ],
   "source": [
    "def moving_average(x, w):\n",
    "    return np.convolve(x, np.ones(w), 'valid') / w\n",
    "df1 = pd.DataFrame(results[\"train_acc_list\"],columns=['train_accuracy'])\n",
    "df2 = pd.DataFrame([i for i in results[\"val_acc_list\"]],columns=['val_accuracy'])\n",
    "df = pd.concat([df1,df2],axis=1)\n",
    "df.plot()"
   ]
  },
  {
   "cell_type": "code",
   "execution_count": 79,
   "id": "6588bce0-c22c-4ce1-96b6-1759cb83b90d",
   "metadata": {},
   "outputs": [
    {
     "data": {
      "text/plain": [
       "<Axes: >"
      ]
     },
     "execution_count": 79,
     "metadata": {},
     "output_type": "execute_result"
    },
    {
     "data": {
      "image/png": "[encoded data removed]",
      "text/plain": [
       "<Figure size 640x480 with 1 Axes>"
      ]
     },
     "metadata": {},
     "output_type": "display_data"
    }
   ],
   "source": [
    "df1 = pd.DataFrame(results[\"train_loss_list\"][1000:],columns=['train_loss'])\n",
    "df2 = pd.DataFrame([i for i in results[\"val_loss_list\"][1000:]],columns=['val_loss'])\n",
    "df = pd.concat([df1,df2],axis=1)\n",
    "df.plot()"
   ]
  },
  {
   "cell_type": "markdown",
   "id": "48265fbe-2d6b-4763-a098-72a2d33fd78f",
   "metadata": {
    "tags": []
   },
   "source": [
    "# Testing"
   ]
  },
  {
   "cell_type": "code",
   "execution_count": null,
   "id": "9a12489e-12ec-4f8a-9876-3306fc5b3351",
   "metadata": {},
   "outputs": [],
   "source": [
    "pred_res = test(embedding,cls_head, test_data, loss_func, device)\n",
    "df = pd.concat([pd.Series(range(15000)),pd.Series(pred_res)],axis = 1)\n",
    "df = df.rename(columns={df.columns[0]:\"Id\",df.columns[1]:\"Category\"})\n",
    "df.to_csv(\"submission_R2D2.csv\", index =False)"
   ]
  },
  {
   "cell_type": "code",
   "execution_count": 289,
   "id": "9fe3089d-4d31-492e-b432-0e9f5c78bf13",
   "metadata": {},
   "outputs": [
    {
     "name": "stderr",
     "output_type": "stream",
     "text": [
      "100%|████████████████████████| 600/600 [00:27<00:00, 22.04it/s]\n",
      "100%|████████████████████████| 600/600 [00:27<00:00, 21.82it/s]\n",
      "100%|████████████████████████| 600/600 [00:27<00:00, 21.71it/s]\n"
     ]
    }
   ],
   "source": [
    "for i in range(3):\n",
    "    model_param=f\"./model/resnet_task_augmentation/model_{8000+500*i}.pt\"\n",
    "\n",
    "    model = l2l.vision.models.ResNet12(output_size=ways).to(device)\n",
    "    meta_model = l2l.algorithms.MAML(model, lr=maml_lr,first_order=False)\n",
    "    param = torch.load(model_param)\n",
    "    \n",
    "    meta_model.load_state_dict(param)\n",
    "    meta_model = meta_model.to(device)\n",
    "    meta_model.eval()\n",
    "    pred_res = test(meta_model, test_data, loss_func, device)\n",
    "    df = pd.concat([pd.Series(range(15000)),pd.Series(pred_res)],axis = 1)\n",
    "    df = df.rename(columns={df.columns[0]:\"Id\",df.columns[1]:\"Category\"})\n",
    "    df.to_csv(f\"submission_{7500+500*i}.csv\", index =False)"
   ]
  },
  {
   "cell_type": "code",
   "execution_count": 80,
   "id": "86d54144-1cdf-4b37-ae1d-991d93e8d2e2",
   "metadata": {},
   "outputs": [
    {
     "ename": "NameError",
     "evalue": "name 'test' is not defined",
     "output_type": "error",
     "traceback": [
      "\u001b[0;31m---------------------------------------------------------------------------\u001b[0m",
      "\u001b[0;31mNameError\u001b[0m                                 Traceback (most recent call last)",
      "Cell \u001b[0;32mIn[80], line 10\u001b[0m\n\u001b[1;32m      8\u001b[0m meta_model \u001b[38;5;241m=\u001b[39m meta_model\u001b[38;5;241m.\u001b[39mto(device)\n\u001b[1;32m      9\u001b[0m meta_model\u001b[38;5;241m.\u001b[39meval()\n\u001b[0;32m---> 10\u001b[0m pred_res \u001b[38;5;241m=\u001b[39m \u001b[43mtest\u001b[49m(meta_model, test_data, loss_func, device)\n\u001b[1;32m     11\u001b[0m df \u001b[38;5;241m=\u001b[39m pd\u001b[38;5;241m.\u001b[39mconcat([pd\u001b[38;5;241m.\u001b[39mSeries(\u001b[38;5;28mrange\u001b[39m(\u001b[38;5;241m15000\u001b[39m)),pd\u001b[38;5;241m.\u001b[39mSeries(pred_res)],axis \u001b[38;5;241m=\u001b[39m \u001b[38;5;241m1\u001b[39m)\n\u001b[1;32m     12\u001b[0m df \u001b[38;5;241m=\u001b[39m df\u001b[38;5;241m.\u001b[39mrename(columns\u001b[38;5;241m=\u001b[39m{df\u001b[38;5;241m.\u001b[39mcolumns[\u001b[38;5;241m0\u001b[39m]:\u001b[38;5;124m\"\u001b[39m\u001b[38;5;124mId\u001b[39m\u001b[38;5;124m\"\u001b[39m,df\u001b[38;5;241m.\u001b[39mcolumns[\u001b[38;5;241m1\u001b[39m]:\u001b[38;5;124m\"\u001b[39m\u001b[38;5;124mCategory\u001b[39m\u001b[38;5;124m\"\u001b[39m})\n",
      "\u001b[0;31mNameError\u001b[0m: name 'test' is not defined"
     ]
    }
   ],
   "source": [
    "model_param=f\"./model/resnet_task_augmentation/final_model.pt\"\n",
    "\n",
    "model = l2l.vision.models.ResNet12(output_size=ways).to(device)\n",
    "meta_model = l2l.algorithms.MAML(model, lr=maml_lr,first_order=False)\n",
    "param = torch.load(model_param)\n",
    "\n",
    "meta_model.load_state_dict(param)\n",
    "meta_model = meta_model.to(device)\n",
    "meta_model.eval()\n",
    "pred_res = test(meta_model, test_data, loss_func, device)\n",
    "df = pd.concat([pd.Series(range(15000)),pd.Series(pred_res)],axis = 1)\n",
    "df = df.rename(columns={df.columns[0]:\"Id\",df.columns[1]:\"Category\"})\n",
    "df.to_csv(f\"submission_final.csv\", index =False)"
   ]
  },
  {
   "cell_type": "code",
   "execution_count": 83,
   "id": "96fac1e4-0d1f-48d8-9c99-f3e414fcf91d",
   "metadata": {},
   "outputs": [
    {
     "name": "stderr",
     "output_type": "stream",
     "text": [
      "100%|████████████████████████| 600/600 [00:27<00:00, 22.11it/s]\n"
     ]
    }
   ],
   "source": [
    "meta_model.eval()\n",
    "pred_res = test(meta_model, test_data, loss_func, device)\n",
    "df = pd.concat([pd.Series(range(15000)),pd.Series(pred_res)],axis = 1)\n",
    "df = df.rename(columns={df.columns[0]:\"Id\",df.columns[1]:\"Category\"})\n",
    "df.to_csv(\"submission_final.csv\", index =False)"
   ]
  },
  {
   "cell_type": "code",
   "execution_count": null,
   "id": "1b49ff33-b4a5-454b-baeb-420d2d98274d",
   "metadata": {},
   "outputs": [],
   "source": []
  },
  {
   "cell_type": "code",
   "execution_count": 29,
   "id": "7b859483-6ae7-4756-8ae4-77a3927ac273",
   "metadata": {},
   "outputs": [],
   "source": [
    "logits = torch.tensor([[1.0773e+11, 7.5959e+10, 9.5308e+10, 9.5373e+10, 8.2082e+10],\n",
    "        [1.0872e+11, 7.7008e+10, 9.7003e+10, 9.7210e+10, 8.2911e+10],\n",
    "        [1.3146e+11, 8.9390e+10, 1.1798e+11, 1.1846e+11, 9.5987e+10],\n",
    "        [9.6601e+10, 6.8279e+10, 8.6316e+10, 8.6446e+10, 7.3083e+10],\n",
    "        [1.5807e+11, 1.0857e+11, 1.4200e+11, 1.4148e+11, 1.1695e+11],\n",
    "        [1.9288e+11, 1.3134e+11, 1.7155e+11, 1.7217e+11, 1.4263e+11],\n",
    "        [8.0842e+10, 5.6430e+10, 7.3589e+10, 7.3264e+10, 5.9902e+10],\n",
    "        [8.9487e+10, 6.3348e+10, 8.0035e+10, 8.0303e+10, 6.7513e+10],\n",
    "        [9.1129e+10, 6.4436e+10, 8.1607e+10, 8.1385e+10, 6.8834e+10],\n",
    "        [1.3238e+11, 8.9931e+10, 1.2053e+11, 1.1930e+11, 9.6356e+10],\n",
    "        [7.1343e+10, 5.1808e+10, 6.2693e+10, 6.3131e+10, 5.5865e+10],\n",
    "        [9.5055e+10, 6.7091e+10, 8.5261e+10, 8.5491e+10, 7.1819e+10],\n",
    "        [1.2407e+11, 8.5590e+10, 1.1115e+11, 1.1158e+11, 9.2132e+10],\n",
    "        [1.0568e+11, 7.3634e+10, 9.5151e+10, 9.5010e+10, 7.9253e+10],\n",
    "        [1.1085e+11, 7.6870e+10, 1.0025e+11, 9.9342e+10, 8.2713e+10],\n",
    "        [1.4068e+11, 9.7320e+10, 1.2621e+11, 1.2581e+11, 1.0432e+11],\n",
    "        [1.4971e+11, 1.0320e+11, 1.3305e+11, 1.3250e+11, 1.1204e+11],\n",
    "        [9.9841e+10, 6.9068e+10, 8.9609e+10, 8.9962e+10, 7.4221e+10],\n",
    "        [1.1739e+11, 8.1278e+10, 1.0460e+11, 1.0525e+11, 8.7834e+10],\n",
    "        [1.1226e+11, 7.6731e+10, 1.0142e+11, 1.0131e+11, 8.2174e+10],\n",
    "        [1.3801e+11, 9.5380e+10, 1.2355e+11, 1.2435e+11, 1.0241e+11],\n",
    "        [2.4232e+11, 1.6236e+11, 2.1895e+11, 2.1657e+11, 1.7662e+11],\n",
    "        [1.0592e+11, 7.4917e+10, 9.4161e+10, 9.4877e+10, 8.0816e+10],\n",
    "        [1.9733e+11, 1.3240e+11, 1.7805e+11, 1.7661e+11, 1.4313e+11],\n",
    "        [1.0051e+11, 7.0930e+10, 9.0287e+10, 9.0371e+10, 7.6299e+10],\n",
    "        [9.8819e+10, 6.9744e+10, 8.8567e+10, 8.8700e+10, 7.4947e+10],\n",
    "        [6.3783e+10, 4.6203e+10, 5.7181e+10, 5.7600e+10, 4.8943e+10],\n",
    "        [1.0337e+11, 7.3024e+10, 9.1732e+10, 9.2028e+10, 7.9126e+10],\n",
    "        [8.5237e+10, 6.0404e+10, 7.5636e+10, 7.6461e+10, 6.4740e+10],\n",
    "        [1.3051e+11, 8.9346e+10, 1.1654e+11, 1.1686e+11, 9.6425e+10]])\n",
    "label =torch.tensor([0, 0, 0, 0, 0, 0, 1, 1, 1, 1, 1, 1, 2, 2, 2, 2, 2, 2, 3, 3, 3, 3, 3, 3,\n",
    "        4, 4, 4, 4, 4, 4]).long()\n",
    "# nn.CrossEntropyLoss(logits,label)"
   ]
  },
  {
   "cell_type": "code",
   "execution_count": 35,
   "id": "0dbf82a3-9f28-463c-9923-e00e9a02d7ae",
   "metadata": {},
   "outputs": [
    {
     "data": {
      "text/plain": [
       "tensor(1.5954e+10)"
      ]
     },
     "execution_count": 35,
     "metadata": {},
     "output_type": "execute_result"
    }
   ],
   "source": [
    "nn.CrossEntropyLoss()(logits,label)"
   ]
  },
  {
   "cell_type": "code",
   "execution_count": null,
   "id": "00946634-068b-4711-9dd6-c9b09bdd6dca",
   "metadata": {},
   "outputs": [],
   "source": []
  }
 ],
 "metadata": {
  "kernelspec": {
   "display_name": "Python [conda env:.conda-meta]",
   "language": "python",
   "name": "conda-env-.conda-meta-py"
  },
  "language_info": {
   "codemirror_mode": {
    "name": "ipython",
    "version": 3
   },
   "file_extension": ".py",
   "mimetype": "text/x-python",
   "name": "python",
   "nbconvert_exporter": "python",
   "pygments_lexer": "ipython3",
   "version": "3.9.16"
  }
 },
 "nbformat": 4,
 "nbformat_minor": 5
}
