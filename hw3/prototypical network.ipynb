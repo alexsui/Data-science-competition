{
 "cells": [
  {
   "cell_type": "markdown",
   "id": "6234de8a-9d10-4fef-bbfb-0ff53d1a839e",
   "metadata": {},
   "source": [
    "# Prototypical Network + task augmentation"
   ]
  },
  {
   "cell_type": "code",
   "execution_count": 1,
   "id": "485403e0-1325-4c2b-ae1e-a8b860bfc556",
   "metadata": {},
   "outputs": [
    {
     "name": "stderr",
     "output_type": "stream",
     "text": [
      "/home/samuel/.conda/envs/meta/lib/python3.9/site-packages/tqdm/auto.py:21: TqdmWarning: IProgress not found. Please update jupyter and ipywidgets. See https://ipywidgets.readthedocs.io/en/stable/user_install.html\n",
      "  from .autonotebook import tqdm as notebook_tqdm\n"
     ]
    }
   ],
   "source": [
    "import torch\n",
    "import torch.nn as nn\n",
    "import torchvision\n",
    "from torchvision import datasets, transforms\n",
    "from torch.utils.data import Dataset, DataLoader\n",
    "import torchvision.models as models\n",
    "import torch.nn.functional as F\n",
    "from tqdm.auto import tqdm,trange\n",
    "from pathlib import Path\n",
    "import pandas as pd\n",
    "import torch.nn.utils.prune as prune\n",
    "import numpy as np\n",
    "import random\n",
    "import learn2learn as l2l\n",
    "import pickle\n",
    "import matplotlib.pyplot as plt"
   ]
  },
  {
   "cell_type": "code",
   "execution_count": 2,
   "id": "497a860c-a5df-4d9e-891d-8161348a42c5",
   "metadata": {},
   "outputs": [],
   "source": [
    "seed = 42\n",
    "torch.manual_seed(seed)\n",
    "if torch.cuda.is_available():\n",
    "    torch.cuda.manual_seed_all(seed)\n",
    "np.random.seed(seed)\n",
    "random.seed(seed)\n",
    "torch.backends.cudnn.deterministic = True\n",
    "torch.backends.cudnn.benchmark = False\n",
    "device = \"cuda\" if torch.cuda.is_available() else \"cpu\""
   ]
  },
  {
   "cell_type": "code",
   "execution_count": 128,
   "id": "e3392284-4ea8-4c8f-add6-06de410b41a2",
   "metadata": {},
   "outputs": [],
   "source": [
    "train_ways = 5\n",
    "train_sups = 5\n",
    "train_querys = 5\n",
    "val_ways = 5\n",
    "val_sups =5\n",
    "val_querys =5"
   ]
  },
  {
   "cell_type": "code",
   "execution_count": 129,
   "id": "38e3a96c-1b56-4879-b1d6-ce5e12cb08db",
   "metadata": {},
   "outputs": [],
   "source": [
    "with open(\"./data/test.pkl\",'rb') as f:\n",
    "    test_data = pickle.load(f)\n",
    "with open(\"./data/train.pkl\",'rb') as f:\n",
    "    train_data = pickle.load(f)\n",
    "with open(\"./data/validation.pkl\",'rb') as f:\n",
    "    val_data = pickle.load(f)"
   ]
  },
  {
   "cell_type": "code",
   "execution_count": 130,
   "id": "e24cd57f-ab9f-4dfa-ba43-d378a2701d23",
   "metadata": {},
   "outputs": [
    {
     "name": "stdout",
     "output_type": "stream",
     "text": [
      "CPU times: user 49 s, sys: 56.5 s, total: 1min 45s\n",
      "Wall time: 1min 45s\n"
     ]
    }
   ],
   "source": [
    "%%time\n",
    "images = train_data[\"images\"]\n",
    "labels = train_data[\"labels\"]\n",
    "num_labels = np.unique(labels).shape[0]\n",
    "num_new_labels = num_labels*3\n",
    "n_data = int(len(labels)/num_labels)\n",
    "for i in range(num_labels):\n",
    "    images_of_one_class = images[i*n_data:(i+1)*n_data]\n",
    "    new_img1 = np.array([np.rot90(img.copy(), axes=(2,1)) for img in images_of_one_class]) \n",
    "    new_img2 = np.array([np.rot90(img.copy(),2, axes=(2,1)) for img in images_of_one_class])\n",
    "    train_data[\"images\"] =np.append(train_data[\"images\"],new_img1,axis=0)\n",
    "    train_data[\"images\"] =np.append(train_data[\"images\"],new_img2,axis=0)\n",
    "    train_data[\"labels\"]=np.append(train_data[\"labels\"],[num_labels+2*i]*n_data)\n",
    "    train_data[\"labels\"]=np.append(train_data[\"labels\"],[num_labels+2*i+1]*n_data)"
   ]
  },
  {
   "cell_type": "code",
   "execution_count": 131,
   "id": "3081aaf0-502c-4d15-8050-6bcdb5651b3b",
   "metadata": {},
   "outputs": [
    {
     "data": {
      "text/plain": [
       "(115200, 3, 84, 84)"
      ]
     },
     "execution_count": 131,
     "metadata": {},
     "output_type": "execute_result"
    }
   ],
   "source": [
    "train_data[\"images\"].shape"
   ]
  },
  {
   "cell_type": "code",
   "execution_count": 132,
   "id": "4be8e0b7-b2e9-410d-a104-a00339bebddb",
   "metadata": {},
   "outputs": [],
   "source": [
    "class Dataset(Dataset):\n",
    "    def __init__(self,data,transform = None):\n",
    "        self.transform = transform\n",
    "        self.data=data\n",
    "        self.images = np.transpose(self.data['images'],(0,2,3,1))\n",
    "        self.labels = data['labels']\n",
    "    def __len__(self): \n",
    "        return len(self.data['images'])\n",
    "    def __getitem__(self,index):\n",
    "        img = self.images[index]\n",
    "        label = self.labels[index]\n",
    "        if self.transform:\n",
    "            img = self.transform(img)\n",
    "        return img, label"
   ]
  },
  {
   "cell_type": "code",
   "execution_count": 133,
   "id": "ff2aec39-a131-473c-962c-4f4a0216eefb",
   "metadata": {},
   "outputs": [],
   "source": [
    "train_transform = transforms.Compose([\n",
    "        transforms.ToTensor(),\n",
    "        transforms.Normalize((0.5,), (0.5,)),\n",
    "        # transforms.RandomHorizontalFlip(),\n",
    "        # transforms.RandomRotation(10),\n",
    "        # transforms.RandomAffine(degrees = 0, translate=(0.1,0.1))\n",
    "    ])\n",
    "val_transform = transforms.Compose([\n",
    "        transforms.ToTensor(),\n",
    "        transforms.Normalize((0.5,), (0.5,)),\n",
    "        # transforms.RandomHorizontalFlip(),\n",
    "        # transforms.RandomRotation(10),\n",
    "        # transforms.RandomAffine(degrees = 0, translate=(0.1,0.1))\n",
    "])"
   ]
  },
  {
   "cell_type": "code",
   "execution_count": 134,
   "id": "f790cf6e-bb5a-4c9d-a372-b4568decafc0",
   "metadata": {},
   "outputs": [],
   "source": [
    "train_dataset = Dataset(train_data,train_transform)\n",
    "val_dataset = Dataset(val_data, val_transform)"
   ]
  },
  {
   "cell_type": "code",
   "execution_count": 135,
   "id": "97bea3df-4d1e-47e7-afbe-90d5dc3303a5",
   "metadata": {},
   "outputs": [],
   "source": [
    "train_dataset = l2l.data.MetaDataset(train_dataset)\n",
    "val_dataset = l2l.data.MetaDataset(val_dataset)"
   ]
  },
  {
   "cell_type": "code",
   "execution_count": 136,
   "id": "10f80fda-220d-48ba-b150-6f39e7b2a7f3",
   "metadata": {},
   "outputs": [],
   "source": [
    "task_transforms = [\n",
    "    l2l.data.transforms.FusedNWaysKShots(train_dataset, n=train_ways, k=train_sups+train_querys),\n",
    "    l2l.data.transforms.LoadData(train_dataset),\n",
    "    l2l.data.transforms.RemapLabels(train_dataset),\n",
    "    l2l.data.transforms.ConsecutiveLabels(train_dataset),\n",
    "    # l2l.vision.transforms.RandomClassRotation(train_dataset,degrees = [0,10,15,20])\n",
    "]\n",
    "train_taskset =  l2l.data.TaskDataset(train_dataset, task_transforms)\n",
    "task_transforms = [\n",
    "    l2l.data.transforms.FusedNWaysKShots(val_dataset, n = val_ways, k=val_sups+val_querys),\n",
    "    l2l.data.transforms.LoadData(val_dataset),\n",
    "    l2l.data.transforms.RemapLabels(val_dataset),\n",
    "    l2l.data.transforms.ConsecutiveLabels(val_dataset),\n",
    "    # l2l.vision.transforms.RandomClassRotation(val_dataset,degrees = [0,10,15,20])\n",
    "]\n",
    "val_taskset =  l2l.data.TaskDataset(val_dataset, task_transforms, num_tasks=200)"
   ]
  },
  {
   "cell_type": "code",
   "execution_count": 137,
   "id": "f50de0e5-7690-4bc2-a367-7a473b717c70",
   "metadata": {},
   "outputs": [],
   "source": [
    "import torch.nn as nn\n",
    "import math\n",
    "\n",
    "class ConvBlock(nn.Module):\n",
    "    def __init__(self, in_channels, out_channels, retain_activation=True, pool='max'):\n",
    "        super(ConvBlock, self).__init__()\n",
    "        \n",
    "        self.block = nn.Sequential(\n",
    "            nn.Conv2d(in_channels, out_channels, kernel_size=3, stride=1, padding=1, bias=False),\n",
    "            nn.BatchNorm2d(out_channels)\n",
    "        )\n",
    "        \n",
    "        if retain_activation:\n",
    "            self.block.add_module(\"ReLU\", nn.ReLU(inplace=True))\n",
    "\n",
    "        if pool == 'max':\n",
    "            self.block.add_module(\"Pool2d\", nn.MaxPool2d(kernel_size=2, stride=2, padding=0))\n",
    "        elif pool == 'avg':\n",
    "            self.block.add_module(\"Pool2d\", nn.AvgPool2d(kernel_size=2, stride=2, padding=0))\n",
    "        \n",
    "    def forward(self, x):\n",
    "        out = self.block(x)\n",
    "        return out\n",
    "\n",
    "# Embedding network used in Matching Networks (Vinyals et al., NIPS 2016), Meta-LSTM (Ravi & Larochelle, ICLR 2017),\n",
    "# MAML (w/ h_dim=z_dim=32) (Finn et al., ICML 2017), Prototypical Networks (Snell et al. NIPS 2017).\n",
    "\n",
    "class ProtoNetEmbedding(nn.Module):\n",
    "    def __init__(self, x_dim=3, h_dim=64, z_dim=64, retain_last_activation=True, pool='max'):\n",
    "        super(ProtoNetEmbedding, self).__init__()\n",
    "        self.encoder = nn.Sequential(\n",
    "          ConvBlock(x_dim, h_dim, pool=pool),\n",
    "          ConvBlock(h_dim, h_dim, pool=pool),\n",
    "          ConvBlock(h_dim, h_dim, pool=pool),\n",
    "          ConvBlock(h_dim, z_dim, retain_activation=retain_last_activation, pool=pool),\n",
    "        )\n",
    "        self.x_dim = x_dim\n",
    "        self.h_dim = h_dim\n",
    "        self.z_dim = z_dim\n",
    "        self.retain_last_activation = retain_last_activation\n",
    "        self.pool = pool\n",
    "        for m in self.modules():\n",
    "            if isinstance(m, nn.Conv2d):\n",
    "                n = m.kernel_size[0] * m.kernel_size[1] * m.out_channels\n",
    "                m.weight.data.normal_(0, math.sqrt(2. / n))\n",
    "            elif isinstance(m, nn.BatchNorm2d):\n",
    "                m.weight.data.fill_(1)\n",
    "                m.bias.data.zero_()\n",
    "\n",
    "    def forward(self, x):\n",
    "        x = self.encoder(x)\n",
    "        return x.view(x.size(0), -1)\n",
    "\n",
    "    def __repr__(self):\n",
    "        return self.__class__.__name__ + '(' \\\n",
    "               + 'x_dim=' + str(self.x_dim) + ', ' \\\n",
    "               + 'h_dim=' + str(self.h_dim) + ', ' \\\n",
    "               + 'z_dim=' + str(self.z_dim) + ', ' \\\n",
    "               + 'retain_last_activation=' + str(self.retain_last_activation) + ', ' \\\n",
    "               + 'pool=' + self.pool + ')'"
   ]
  },
  {
   "cell_type": "code",
   "execution_count": 148,
   "id": "5b5306e9-8b48-4328-b49d-25b897819b6a",
   "metadata": {},
   "outputs": [],
   "source": [
    "from learn2learn.nn import PrototypicalClassifier\n",
    "def pairwise_distances_logits(a, b):\n",
    "    n = a.shape[0]\n",
    "    m = b.shape[0]\n",
    "    logits = -((a.unsqueeze(1).expand(n, m, -1) -\n",
    "                b.unsqueeze(0).expand(n, m, -1))**2).sum(dim=2)\n",
    "    return logits\n",
    "def adaption(model, task, ways, shot, query_num, metric=None, device=None):\n",
    "    if metric is None:\n",
    "        metric = pairwise_distances_logits\n",
    "    if device is None:\n",
    "        device = model.device()\n",
    "    data, labels = task\n",
    "    data = data.to(device)\n",
    "    labels = labels.to(device)\n",
    "    classifier = PrototypicalClassifier(distance = \"euclidean\",normalize=True)\n",
    "    \n",
    "    sort = torch.sort(labels)\n",
    "    data = data[sort.indices]\n",
    "    labels = labels[sort.indices]\n",
    "    \n",
    "    # Compute support and query embeddings\n",
    "    embeddings = model(data)\n",
    "    support_indices = np.array(([True]*shot+[False]*query_num)*ways)\n",
    "    query_indices = torch.from_numpy(~support_indices)\n",
    "    support_indices = torch.from_numpy(support_indices)\n",
    "    \n",
    "    #method 1\n",
    "    # support = embeddings[support_indices] #(25,1024)\n",
    "    # support_labels = labels[support_indices].long()\n",
    "    # query = embeddings[query_indices] #(25,1024)\n",
    "    # query_labels = labels[query_indices].long()\n",
    "    # classifier.fit_(support,support_labels)\n",
    "    # logits = classifier(query)\n",
    "    \n",
    "    #method 2\n",
    "    support = embeddings[support_indices] #(25,1024)\n",
    "    query = embeddings[query_indices] #(25,1024)\n",
    "    query_labels = labels[query_indices].long()\n",
    "    proto = support.reshape(ways,shots,-1).mean(dim=1)\n",
    "    logits = pairwise_distances_logits(query,proto)\n",
    "    \n",
    "    loss = F.cross_entropy(logits, query_labels)\n",
    "    acc = torch.sum(torch.argmax(logits,dim=1)==query_labels)/len(labels)\n",
    "    return loss, acc"
   ]
  },
  {
   "cell_type": "code",
   "execution_count": 149,
   "id": "0010410a-dcd5-40af-972e-a66eb3c6e23a",
   "metadata": {},
   "outputs": [],
   "source": [
    "def train(EPOCH,model,train_taskset, val_taskset,loss_function,opt, device,model_name, scheduler = None):\n",
    "    res={\n",
    "        \"train_loss\":[],\n",
    "        \"train_accuracy\":[],\n",
    "        \"val_loss\":[],\n",
    "        \"val_accuracy\":[],  \n",
    "    }\n",
    "    log_file = f\"./log/{model_name}.txt\"\n",
    "    for epoch in trange(1, EPOCH + 1):\n",
    "        model.train()\n",
    "        train_total_loss = 0\n",
    "        train_total_acc = 0\n",
    "\n",
    "        for i in range(fas):\n",
    "            task = train_taskset.sample()\n",
    "            train_loss, train_acc = adaption(model,\n",
    "                                   task,\n",
    "                                   train_ways,\n",
    "                                   train_sups,\n",
    "                                   train_querys,\n",
    "                                   metric=pairwise_distances_logits,\n",
    "                                   device=device)\n",
    "\n",
    "            train_total_loss += train_loss.item()\n",
    "            train_total_acc += train_acc.item()\n",
    "\n",
    "            opt.zero_grad()\n",
    "            train_loss.backward()\n",
    "            opt.step()\n",
    "        res['train_loss'].append(train_total_loss/fas)\n",
    "        res['train_accuracy'].append(train_total_acc/fas)\n",
    "\n",
    "        model.eval()\n",
    "\n",
    "        val_total_loss = 0\n",
    "        val_total_acc = 0\n",
    "        with torch.inference_mode():\n",
    "            for i, task in enumerate(val_taskset):\n",
    "                val_loss, val_acc = adaption(model,\n",
    "                                       task,\n",
    "                                       val_ways,\n",
    "                                       val_sups,\n",
    "                                       val_querys,\n",
    "                                       metric=pairwise_distances_logits,\n",
    "                                       device=device)\n",
    "                val_total_loss += val_loss.item()\n",
    "                val_total_acc += val_acc.item()\n",
    "        res['val_loss'].append(val_total_loss/len(val_taskset))\n",
    "        res['val_accuracy'].append(val_total_acc/len(val_taskset))\n",
    "        if scheduler:\n",
    "            scheduler.step(val_total_loss/len(val_taskset))\n",
    "        out = {\n",
    "        \"Epoch\" : epoch,\n",
    "        \"train accuracy\" : (train_total_acc/fas),\n",
    "        \"validation accuracy\" : (val_total_acc/len(val_taskset)),\n",
    "        \"train loss\" : (train_total_loss/fas),\n",
    "        \"validation loss\" : (val_total_loss/len(val_taskset))\n",
    "        }\n",
    "        with open(log_file,\"a\") as f:\n",
    "            f.write(str(out) + '\\n')\n",
    "        if epoch%50==0:\n",
    "            MODEL_PATH = Path(f\"./model/{model_name}\")\n",
    "            MODEL_PATH.mkdir(exist_ok=True,parents=True)\n",
    "            torch.save(model.state_dict(),MODEL_PATH/f\"model_{epoch}.pt\")\n",
    "            print(out)\n",
    "    return res\n",
    "                        "
   ]
  },
  {
   "cell_type": "code",
   "execution_count": 150,
   "id": "334f9672-48d5-45c2-b9d0-d840db048ff6",
   "metadata": {},
   "outputs": [],
   "source": [
    "def test(model, test_data, loss_func, device):\n",
    "    \n",
    "    test_loss = 0\n",
    "    test_acc = 0\n",
    "    test_sup_images = test_data['sup_images']\n",
    "    test_sup_labels = test_data['sup_labels']\n",
    "    test_qry_images = test_data['qry_images']\n",
    "    all_pred = []\n",
    "    model.eval()\n",
    "    with torch.inference_mode():\n",
    "        for i in trange(len(test_sup_images)):\n",
    "            test_sup_image = test_sup_images[i].to(device)\n",
    "            query = test_qry_images[i].to(device)\n",
    "            sup_embed = model(test_sup_image)\n",
    "            proto = sup_embed.reshape(ways,shots,-1).mean(dim=1)\n",
    "            logits = pairwise_distances_logits(query, proto)\n",
    "            pred = torch.argmax(logits,dim=1).detach().cpu().numpy()\n",
    "            all_pred += [item for sublist in pred for item in sublist]\n",
    "    return all_pred"
   ]
  },
  {
   "cell_type": "code",
   "execution_count": 151,
   "id": "520369e9-aab3-411e-bf63-5b7de76a3b86",
   "metadata": {},
   "outputs": [
    {
     "name": "stderr",
     "output_type": "stream",
     "text": [
      "  0%|                                  | 0/500 [00:00<?, ?it/s]/home/samuel/.conda/envs/meta/lib/python3.9/site-packages/torch/optim/lr_scheduler.py:152: UserWarning: The epoch parameter in `scheduler.step()` was not necessary and is being deprecated where possible. Please use `scheduler.step()` to step the scheduler. During the deprecation, if epoch is different from None, the closed form is used instead of the new chainable form, where available. Please open an issue if you are unable to replicate your use case: https://github.com/pytorch/pytorch/issues/new/choose.\n",
      "  warnings.warn(EPOCH_DEPRECATION_WARNING, UserWarning)\n",
      " 10%|██▎                    | 50/500 [20:13<3:02:08, 24.29s/it]"
     ]
    },
    {
     "name": "stdout",
     "output_type": "stream",
     "text": [
      "{'Epoch': 50, 'train accuracy': 0.294199992120266, 'validation accuracy': 0.25529999304562806, 'train loss': 1.0371270921826363, 'validation loss': 1.333881276845932}\n"
     ]
    },
    {
     "name": "stderr",
     "output_type": "stream",
     "text": [
      " 20%|████▍                 | 100/500 [40:27<2:41:51, 24.28s/it]"
     ]
    },
    {
     "name": "stdout",
     "output_type": "stream",
     "text": [
      "{'Epoch': 100, 'train accuracy': 0.3293999907374382, 'validation accuracy': 0.28989999286830426, 'train loss': 0.8980241018533707, 'validation loss': 1.0980892853438855}\n"
     ]
    },
    {
     "name": "stderr",
     "output_type": "stream",
     "text": [
      " 30%|██████              | 150/500 [1:00:41<2:21:51, 24.32s/it]"
     ]
    },
    {
     "name": "stdout",
     "output_type": "stream",
     "text": [
      "{'Epoch': 150, 'train accuracy': 0.3453999915719032, 'validation accuracy': 0.29759999372065066, 'train loss': 0.810985982120037, 'validation loss': 1.0560856357216835}\n"
     ]
    },
    {
     "name": "stderr",
     "output_type": "stream",
     "text": [
      " 40%|████████            | 200/500 [1:20:55<2:01:20, 24.27s/it]"
     ]
    },
    {
     "name": "stdout",
     "output_type": "stream",
     "text": [
      "{'Epoch': 200, 'train accuracy': 0.37159998893737795, 'validation accuracy': 0.3266999915242195, 'train loss': 0.6921299666911364, 'validation loss': 0.9028659883141518}\n"
     ]
    },
    {
     "name": "stderr",
     "output_type": "stream",
     "text": [
      " 50%|██████████          | 250/500 [1:41:08<1:41:10, 24.28s/it]"
     ]
    },
    {
     "name": "stdout",
     "output_type": "stream",
     "text": [
      "{'Epoch': 250, 'train accuracy': 0.38059998989105226, 'validation accuracy': 0.32879999212920663, 'train loss': 0.6507824172079563, 'validation loss': 0.9683634334802628}\n"
     ]
    },
    {
     "name": "stderr",
     "output_type": "stream",
     "text": [
      " 60%|████████████        | 300/500 [2:01:22<1:20:52, 24.26s/it]"
     ]
    },
    {
     "name": "stdout",
     "output_type": "stream",
     "text": [
      "{'Epoch': 300, 'train accuracy': 0.3919999897480011, 'validation accuracy': 0.3271999907493591, 'train loss': 0.5760338498651981, 'validation loss': 1.0578773136436939}\n"
     ]
    },
    {
     "name": "stderr",
     "output_type": "stream",
     "text": [
      " 70%|██████████████      | 350/500 [2:21:35<1:00:45, 24.30s/it]"
     ]
    },
    {
     "name": "stdout",
     "output_type": "stream",
     "text": [
      "{'Epoch': 350, 'train accuracy': 0.395599989593029, 'validation accuracy': 0.343099992275238, 'train loss': 0.5634828222543001, 'validation loss': 0.8736975404620171}\n"
     ]
    },
    {
     "name": "stderr",
     "output_type": "stream",
     "text": [
      " 80%|█████████████████▌    | 400/500 [2:41:48<40:27, 24.28s/it]"
     ]
    },
    {
     "name": "stdout",
     "output_type": "stream",
     "text": [
      "{'Epoch': 400, 'train accuracy': 0.4011999887228012, 'validation accuracy': 0.34379999086260793, 'train loss': 0.5338518978655338, 'validation loss': 0.8690567252039909}\n"
     ]
    },
    {
     "name": "stderr",
     "output_type": "stream",
     "text": [
      " 90%|███████████████████▊  | 450/500 [3:02:01<20:12, 24.24s/it]"
     ]
    },
    {
     "name": "stdout",
     "output_type": "stream",
     "text": [
      "{'Epoch': 450, 'train accuracy': 0.41619998663663865, 'validation accuracy': 0.3567999901622534, 'train loss': 0.4575879243016243, 'validation loss': 0.7690677815675735}\n"
     ]
    },
    {
     "name": "stderr",
     "output_type": "stream",
     "text": [
      "100%|██████████████████████| 500/500 [3:22:15<00:00, 24.27s/it]"
     ]
    },
    {
     "name": "stdout",
     "output_type": "stream",
     "text": [
      "{'Epoch': 500, 'train accuracy': 0.4201999884843826, 'validation accuracy': 0.3535999897122383, 'train loss': 0.4562939759716392, 'validation loss': 0.758504229336977}\n"
     ]
    },
    {
     "name": "stderr",
     "output_type": "stream",
     "text": [
      "\n"
     ]
    }
   ],
   "source": [
    "lr = 1e-3\n",
    "EPOCHS = 500\n",
    "fas = 100\n",
    "model = l2l.vision.models.ResNet12Backbone().to(device)\n",
    "opt = torch.optim.AdamW(model.parameters(), lr=lr)\n",
    "loss_func = nn.CrossEntropyLoss(reduction='mean')\n",
    "scheduler = torch.optim.lr_scheduler.StepLR(opt, step_size=20, gamma=0.5)\n",
    "# scheduler =torch.optim.lr_scheduler.ReduceLROnPlateau(opt, patience=10, factor=0.5)\n",
    "results  = train(EPOCHS, model, train_taskset, val_taskset, loss_func,opt, device, \"protonet_ProtoNetEmbedding\",scheduler = scheduler)"
   ]
  },
  {
   "cell_type": "code",
   "execution_count": 152,
   "id": "0156fee5-9783-46a7-a39d-ee5d382ec30f",
   "metadata": {},
   "outputs": [
    {
     "data": {
      "text/plain": [
       "<Axes: >"
      ]
     },
     "execution_count": 152,
     "metadata": {},
     "output_type": "execute_result"
    },
    {
     "data": {
      "image/png": "[encoded data removed]",
      "text/plain": [
       "<Figure size 640x480 with 1 Axes>"
      ]
     },
     "metadata": {},
     "output_type": "display_data"
    }
   ],
   "source": [
    "def moving_average(x, w):\n",
    "    return np.convolve(x, np.ones(w), 'valid') / w\n",
    "df1 = pd.DataFrame(results[\"train_accuracy\"],columns=['train_accuracy'])\n",
    "df2 = pd.DataFrame([i for i in results[\"val_accuracy\"]],columns=['val_accuracy'])\n",
    "df = pd.concat([df1,df2],axis=1)\n",
    "df.plot()"
   ]
  },
  {
   "cell_type": "code",
   "execution_count": 87,
   "id": "6588bce0-c22c-4ce1-96b6-1759cb83b90d",
   "metadata": {},
   "outputs": [
    {
     "data": {
      "text/plain": [
       "<Axes: >"
      ]
     },
     "execution_count": 87,
     "metadata": {},
     "output_type": "execute_result"
    },
    {
     "data": {
      "image/png": "[encoded data removed]",
      "text/plain": [
       "<Figure size 640x480 with 1 Axes>"
      ]
     },
     "metadata": {},
     "output_type": "display_data"
    }
   ],
   "source": [
    "df1 = pd.DataFrame(results[\"train_loss\"][20:],columns=['train_loss'])\n",
    "df2 = pd.DataFrame([i for i in results[\"val_loss\"]][20:],columns=['val_loss'])\n",
    "df = pd.concat([df1,df2],axis=1)\n",
    "df.plot()"
   ]
  }
 ],
 "metadata": {
  "kernelspec": {
   "display_name": "Python [conda env:.conda-meta]",
   "language": "python",
   "name": "conda-env-.conda-meta-py"
  },
  "language_info": {
   "codemirror_mode": {
    "name": "ipython",
    "version": 3
   },
   "file_extension": ".py",
   "mimetype": "text/x-python",
   "name": "python",
   "nbconvert_exporter": "python",
   "pygments_lexer": "ipython3",
   "version": "3.9.16"
  }
 },
 "nbformat": 4,
 "nbformat_minor": 5
}
