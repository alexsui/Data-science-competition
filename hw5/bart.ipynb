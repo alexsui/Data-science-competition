{
 "cells": [
  {
   "cell_type": "code",
   "execution_count": 3,
   "id": "5544e24a-c39b-4085-987f-8880c2152e65",
   "metadata": {},
   "outputs": [
    {
     "name": "stderr",
     "output_type": "stream",
     "text": [
      "/home/samuel/.conda/envs/text/lib/python3.8/site-packages/tqdm/auto.py:21: TqdmWarning: IProgress not found. Please update jupyter and ipywidgets. See https://ipywidgets.readthedocs.io/en/stable/user_install.html\n",
      "  from .autonotebook import tqdm as notebook_tqdm\n"
     ]
    }
   ],
   "source": [
    "import torch \n",
    "import numpy as np\n",
    "import pandas as pd\n",
    "import transformers\n",
    "import random\n",
    "import json\n",
    "import datasets\n",
    "import html\n",
    "from matplotlib import pyplot as plt"
   ]
  },
  {
   "cell_type": "code",
   "execution_count": null,
   "id": "aa50d9c6-7da5-47aa-91b3-8f055b84dfc9",
   "metadata": {},
   "outputs": [],
   "source": [
    "from transformers import DataCollatorForSeq2Seq\n",
    "from transformers import AutoTokenizer, BartForConditionalGeneration\n",
    "import evaluate"
   ]
  },
  {
   "cell_type": "code",
   "execution_count": 39,
   "id": "e37bd219-120f-42c2-894f-77ab955fb742",
   "metadata": {},
   "outputs": [],
   "source": [
    "seed = 42\n",
    "torch.manual_seed(seed)\n",
    "if torch.cuda.is_available():\n",
    "    torch.cuda.manual_seed_all(seed)\n",
    "np.random.seed(seed)\n",
    "random.seed(seed)\n",
    "torch.backends.cudnn.deterministic = True  \n",
    "torch.backends.cudnn.benchmark = False\n",
    "device = \"cuda\" if torch.cuda.is_available() else \"cpu\""
   ]
  },
  {
   "cell_type": "markdown",
   "id": "367da444-81d2-425d-bf72-41d19c2a66b7",
   "metadata": {},
   "source": [
    "## Data preprocess"
   ]
  },
  {
   "cell_type": "code",
   "execution_count": 40,
   "id": "3596ff2f-80ba-4126-8358-4a73327256d2",
   "metadata": {},
   "outputs": [],
   "source": [
    "with open(\"./data/train.json\",\"r\") as f:\n",
    "    data = f.readlines()"
   ]
  },
  {
   "cell_type": "code",
   "execution_count": 41,
   "id": "9a582c15-5a66-4382-a3a6-74581b94666e",
   "metadata": {
    "scrolled": true,
    "tags": []
   },
   "outputs": [
    {
     "name": "stdout",
     "output_type": "stream",
     "text": [
      "{\"body\":null,\"title\":\"Prince William Just Followed in Mom Princess Diana's Footsteps with This Emotional Trip\"}\n",
      "\n",
      "{\"body\":null,\"title\":\"The one part of life that means more than friends, pets, faith and jobs\"}\n",
      "\n",
      "{\"body\":null,\"title\":\"This is LA's secret parking-lot pizza\"}\n",
      "\n",
      "{\"body\":null,\"title\":\"Meet a cuddly baby dugong named Marium\"}\n",
      "\n",
      "{\"body\":null,\"title\":\"Madonna - God Control (Official Music Video)\"}\n",
      "\n",
      "{\"body\":null,\"title\":\"How to Make a Flip-Down Coat Rack\"}\n",
      "\n",
      "{\"body\":null,\"title\":\"The best OTC pain reliever for every kind of ache\"}\n",
      "\n",
      "{\"body\":null,\"title\":\"Nadal plays down row over Wimbledon seeding\"}\n",
      "\n",
      "{\"body\":null,\"title\":\"2020 Jeep Gladiator Towing Test\"}\n",
      "\n",
      "{\"body\":null,\"title\":\"Americans agree on one part of the U.S.-Russia relationship. But just one.\"}\n",
      "\n",
      "{\"body\":null,\"title\":\"How does the 2020 Jeep Gladiator stack up against the competition?\"}\n",
      "\n",
      "{\"body\":null,\"title\":\"20 most commonly overlooked cancer symptoms\"}\n",
      "\n",
      "{\"body\":null,\"title\":\"'I'm not ready to die': Paige Winter, teen that survived North Carolina shark attack, describes horrifying ordeal\"}\n",
      "\n",
      "{\"body\":null,\"title\":\"Fan reaction to the NFL protest issue? Meh\"}\n",
      "\n",
      "{\"body\":null,\"title\":\"This Cheeseburger Is An Egg Lover's Dream\"}\n",
      "\n",
      "{\"body\":null,\"title\":\"How to Cook the Perfect Hard Boiled Eggs\"}\n",
      "\n",
      "{\"body\":null,\"title\":\"Adorable little boy cries listening to dad's high-pitched laugh\"}\n",
      "\n",
      "{\"body\":null,\"title\":\"29 Genius Father's Day Gadgets For Every Type Of Dad\"}\n",
      "\n",
      "{\"body\":null,\"title\":\"Trump slams 'terrible' Jimmy Carter as 'forgotten president' after suggestion 2016 win was 'illegitimate'\"}\n",
      "\n",
      "{\"body\":null,\"title\":\"NBA Troll Enes Kanter Called Zion Williamson A 'Overhyped' Julius Randle\"}\n",
      "\n",
      "{\"body\":null,\"title\":\"Is the 2019 Ford F-150 Raptor worth $75,000?\"}\n",
      "\n",
      "{\"body\":null,\"title\":\"Lung cancer symptoms in women and men that you need to know\"}\n",
      "\n",
      "{\"body\":null,\"title\":\"Phillies are streaking, thanks to a bamboo plant\"}\n",
      "\n",
      "{\"body\":null,\"title\":\"Mark Gastineau Finishes Colon Cancer Treatment\"}\n",
      "\n",
      "{\"body\":null,\"title\":\"President Donald Trump has huge plan for July 4th bash\"}\n",
      "\n",
      "{\"body\":null,\"title\":\"Poll finds sharp divisions over Mueller report\"}\n",
      "\n",
      "{\"body\":null,\"title\":\"Watch Stadium's Mayweather-McGregor preview show live\"}\n",
      "\n",
      "{\"body\":null,\"title\":\"Things you're doing before noon that are making you fat\"}\n",
      "\n",
      "{\"body\":null,\"title\":\"Bills Shaq Lawson To Pay Funeral Cost Of 11-year-old Shooting Victim\"}\n",
      "\n",
      "{\"body\":null,\"title\":\"50 Everyday Habits That Reduce Your Risk of Dementia\"}\n",
      "\n",
      "{\"body\":null,\"title\":\"Ames encounter with Phoenix police last May 3\"}\n",
      "\n",
      "{\"body\":null,\"title\":\"Gauff, 15, ousts Venus in 1st round of Wimbledon\"}\n",
      "\n",
      "{\"body\":null,\"title\":\"NFL fans roasted Tom Brady and Peyton Manning selfie\"}\n",
      "\n",
      "{\"body\":null,\"title\":\"You Have to see these Snow-Loving Dogs\"}\n",
      "\n",
      "{\"body\":null,\"title\":\"High School Recruit Dylan Cardwell Will Transfer To McEachern, Has Interest From Duke\"}\n",
      "\n",
      "{\"body\":null,\"title\":\"For many Americans, getting off the couch is exercise enough\"}\n",
      "\n",
      "{\"body\":null,\"title\":\"World Cup: USWNT Sips Tea, Advance To World Cup Final\"}\n",
      "\n",
      "{\"body\":null,\"title\":\"Unexpected signs of an unhealthy heart\"}\n",
      "\n",
      "{\"body\":null,\"title\":\"Ex-Kentucky star QB Lorenzen battling serious health issues\"}\n",
      "\n",
      "{\"body\":null,\"title\":\"Corona Fit Packs\"}\n",
      "\n",
      "{\"body\":null,\"title\":\"This Interaction Between a Boy and his Baby Brother will Make Your Day\"}\n",
      "\n",
      "{\"body\":null,\"title\":\"Kellyanne Conway calls AOC's border visit a photo op: 'People need to challenge this'\"}\n",
      "\n",
      "{\"body\":null,\"title\":\"Katelyn Ohashi (UCLA) 2019 Floor vs Oklahoma 10.0\"}\n",
      "\n",
      "{\"body\":null,\"title\":\"This GTO-El Camino mashup is the muscle truck of our dreams\"}\n",
      "\n",
      "{\"body\":null,\"title\":\"Former NBA Coach Don Nelson Is Now A Marijuana Farmer\"}\n",
      "\n",
      "{\"body\":null,\"title\":\"Tom Brady Takes A Shot At Max Kellerman With Workout Photo\"}\n",
      "\n",
      "{\"body\":null,\"title\":\"Pompeo blames Iran for tanker attacks, says US does not want war but will take action if needed\"}\n",
      "\n",
      "\n",
      "\n"
     ]
    }
   ],
   "source": [
    "train_data = []\n",
    "for d in data:\n",
    "    try:\n",
    "        train_data.append(eval(d))\n",
    "    except Exception as e:\n",
    "        print(d)"
   ]
  },
  {
   "cell_type": "code",
   "execution_count": 42,
   "id": "9e0daddc-24e6-443a-a668-9c5bb3f8d085",
   "metadata": {},
   "outputs": [],
   "source": [
    "df = pd.DataFrame(train_data)\n",
    "df['body'] = df['body'].str.encode('utf-8', 'replace').str.decode('utf-8')\n",
    "df['title'] = df['title'].str.encode('utf-8', 'replace').str.decode('utf-8')"
   ]
  },
  {
   "cell_type": "code",
   "execution_count": 43,
   "id": "4e5c121d-92ac-46c6-ba3e-d9630ae3237d",
   "metadata": {},
   "outputs": [],
   "source": [
    "df['title_length'] = df['title'].apply(lambda x : len(x.split()))\n",
    "df['body_length'] = df['body'].apply(lambda x : len(x.split()))"
   ]
  },
  {
   "cell_type": "code",
   "execution_count": 44,
   "id": "9d236eba-fbb9-4b0f-9066-14015c1ba466",
   "metadata": {},
   "outputs": [
    {
     "data": {
      "text/html": [
       "<div>\n",
       "<style scoped>\n",
       "    .dataframe tbody tr th:only-of-type {\n",
       "        vertical-align: middle;\n",
       "    }\n",
       "\n",
       "    .dataframe tbody tr th {\n",
       "        vertical-align: top;\n",
       "    }\n",
       "\n",
       "    .dataframe thead th {\n",
       "        text-align: right;\n",
       "    }\n",
       "</style>\n",
       "<table border=\"1\" class=\"dataframe\">\n",
       "  <thead>\n",
       "    <tr style=\"text-align: right;\">\n",
       "      <th></th>\n",
       "      <th>body</th>\n",
       "      <th>title</th>\n",
       "      <th>title_length</th>\n",
       "      <th>body_length</th>\n",
       "    </tr>\n",
       "  </thead>\n",
       "  <tbody>\n",
       "    <tr>\n",
       "      <th>0</th>\n",
       "      <td>Only FIVE internationals allowed, count em, FI...</td>\n",
       "      <td>Predicting Atlanta United's lineup against Col...</td>\n",
       "      <td>12</td>\n",
       "      <td>509</td>\n",
       "    </tr>\n",
       "    <tr>\n",
       "      <th>1</th>\n",
       "      <td>WASHINGTON -- Senate Majority Leader Mitch McC...</td>\n",
       "      <td>Mitch McConnell: DC statehood push is 'full bo...</td>\n",
       "      <td>9</td>\n",
       "      <td>364</td>\n",
       "    </tr>\n",
       "    <tr>\n",
       "      <th>2</th>\n",
       "      <td>NORTH HIGHLANDS (CBS13)   Fire damaged a home ...</td>\n",
       "      <td>Home In North Highlands Damaged By Fire</td>\n",
       "      <td>7</td>\n",
       "      <td>65</td>\n",
       "    </tr>\n",
       "    <tr>\n",
       "      <th>3</th>\n",
       "      <td>Meghan McCain is speaking out after a journali...</td>\n",
       "      <td>Meghan McCain blames 'liberal media' and 'thir...</td>\n",
       "      <td>16</td>\n",
       "      <td>28</td>\n",
       "    </tr>\n",
       "    <tr>\n",
       "      <th>4</th>\n",
       "      <td>1714: George I becomes King Georg Ludwig, Elec...</td>\n",
       "      <td>Today in History: Aug 1</td>\n",
       "      <td>5</td>\n",
       "      <td>272</td>\n",
       "    </tr>\n",
       "    <tr>\n",
       "      <th>...</th>\n",
       "      <td>...</td>\n",
       "      <td>...</td>\n",
       "      <td>...</td>\n",
       "      <td>...</td>\n",
       "    </tr>\n",
       "    <tr>\n",
       "      <th>99948</th>\n",
       "      <td>CHICAGO (CBS)  It's a battle that one south su...</td>\n",
       "      <td>Woman Fights To Prove Her Gender After Decades...</td>\n",
       "      <td>12</td>\n",
       "      <td>357</td>\n",
       "    </tr>\n",
       "    <tr>\n",
       "      <th>99949</th>\n",
       "      <td>Check out the news! Dak Prescott loves Amari C...</td>\n",
       "      <td>Cowboys news: Dak Prescott is on board with Am...</td>\n",
       "      <td>13</td>\n",
       "      <td>1179</td>\n",
       "    </tr>\n",
       "    <tr>\n",
       "      <th>99950</th>\n",
       "      <td>(Reuters) - Shares of Tesla Inc fell 1.7% on T...</td>\n",
       "      <td>Tesla faces delivery bottleneck at close of se...</td>\n",
       "      <td>9</td>\n",
       "      <td>325</td>\n",
       "    </tr>\n",
       "    <tr>\n",
       "      <th>99951</th>\n",
       "      <td>Cleveland is rolling out the red carpet as mor...</td>\n",
       "      <td>Jim Thome and Sandy Alomar Jr. named Grand Mar...</td>\n",
       "      <td>17</td>\n",
       "      <td>238</td>\n",
       "    </tr>\n",
       "    <tr>\n",
       "      <th>99952</th>\n",
       "      <td>Charlotte Hornets GM Mitch Kupchak isn't doing...</td>\n",
       "      <td>Hornets GM Mitch Kupchak roasted for bizarre c...</td>\n",
       "      <td>11</td>\n",
       "      <td>294</td>\n",
       "    </tr>\n",
       "  </tbody>\n",
       "</table>\n",
       "<p>99953 rows × 4 columns</p>\n",
       "</div>"
      ],
      "text/plain": [
       "                                                    body   \n",
       "0      Only FIVE internationals allowed, count em, FI...  \\\n",
       "1      WASHINGTON -- Senate Majority Leader Mitch McC...   \n",
       "2      NORTH HIGHLANDS (CBS13)   Fire damaged a home ...   \n",
       "3      Meghan McCain is speaking out after a journali...   \n",
       "4      1714: George I becomes King Georg Ludwig, Elec...   \n",
       "...                                                  ...   \n",
       "99948  CHICAGO (CBS)  It's a battle that one south su...   \n",
       "99949  Check out the news! Dak Prescott loves Amari C...   \n",
       "99950  (Reuters) - Shares of Tesla Inc fell 1.7% on T...   \n",
       "99951  Cleveland is rolling out the red carpet as mor...   \n",
       "99952  Charlotte Hornets GM Mitch Kupchak isn't doing...   \n",
       "\n",
       "                                                   title  title_length   \n",
       "0      Predicting Atlanta United's lineup against Col...            12  \\\n",
       "1      Mitch McConnell: DC statehood push is 'full bo...             9   \n",
       "2                Home In North Highlands Damaged By Fire             7   \n",
       "3      Meghan McCain blames 'liberal media' and 'thir...            16   \n",
       "4                                Today in History: Aug 1             5   \n",
       "...                                                  ...           ...   \n",
       "99948  Woman Fights To Prove Her Gender After Decades...            12   \n",
       "99949  Cowboys news: Dak Prescott is on board with Am...            13   \n",
       "99950  Tesla faces delivery bottleneck at close of se...             9   \n",
       "99951  Jim Thome and Sandy Alomar Jr. named Grand Mar...            17   \n",
       "99952  Hornets GM Mitch Kupchak roasted for bizarre c...            11   \n",
       "\n",
       "       body_length  \n",
       "0              509  \n",
       "1              364  \n",
       "2               65  \n",
       "3               28  \n",
       "4              272  \n",
       "...            ...  \n",
       "99948          357  \n",
       "99949         1179  \n",
       "99950          325  \n",
       "99951          238  \n",
       "99952          294  \n",
       "\n",
       "[99953 rows x 4 columns]"
      ]
     },
     "execution_count": 44,
     "metadata": {},
     "output_type": "execute_result"
    }
   ],
   "source": [
    "df"
   ]
  },
  {
   "cell_type": "code",
   "execution_count": 45,
   "id": "d3ac6199-697f-421e-96d7-5583f345ff44",
   "metadata": {},
   "outputs": [],
   "source": [
    "mask1 =(df['body_length']>10) & (df['body_length']<10000)\n",
    "mask2 = df['body']!=df['title']\n",
    "mask3 = (df['title_length']<df['body_length'])\n",
    "df_filtered = df[mask2&mask1&mask3].reset_index(drop=True)"
   ]
  },
  {
   "cell_type": "code",
   "execution_count": 46,
   "id": "2f7e31e9-dcc6-467b-8a0c-053ab9d9e612",
   "metadata": {},
   "outputs": [
    {
     "data": {
      "text/html": [
       "<div>\n",
       "<style scoped>\n",
       "    .dataframe tbody tr th:only-of-type {\n",
       "        vertical-align: middle;\n",
       "    }\n",
       "\n",
       "    .dataframe tbody tr th {\n",
       "        vertical-align: top;\n",
       "    }\n",
       "\n",
       "    .dataframe thead th {\n",
       "        text-align: right;\n",
       "    }\n",
       "</style>\n",
       "<table border=\"1\" class=\"dataframe\">\n",
       "  <thead>\n",
       "    <tr style=\"text-align: right;\">\n",
       "      <th></th>\n",
       "      <th>body_length</th>\n",
       "    </tr>\n",
       "  </thead>\n",
       "  <tbody>\n",
       "    <tr>\n",
       "      <th>count</th>\n",
       "      <td>96814.000000</td>\n",
       "    </tr>\n",
       "    <tr>\n",
       "      <th>mean</th>\n",
       "      <td>564.406935</td>\n",
       "    </tr>\n",
       "    <tr>\n",
       "      <th>std</th>\n",
       "      <td>660.858417</td>\n",
       "    </tr>\n",
       "    <tr>\n",
       "      <th>min</th>\n",
       "      <td>11.000000</td>\n",
       "    </tr>\n",
       "    <tr>\n",
       "      <th>25%</th>\n",
       "      <td>183.000000</td>\n",
       "    </tr>\n",
       "    <tr>\n",
       "      <th>50%</th>\n",
       "      <td>383.000000</td>\n",
       "    </tr>\n",
       "    <tr>\n",
       "      <th>75%</th>\n",
       "      <td>722.000000</td>\n",
       "    </tr>\n",
       "    <tr>\n",
       "      <th>max</th>\n",
       "      <td>9993.000000</td>\n",
       "    </tr>\n",
       "  </tbody>\n",
       "</table>\n",
       "</div>"
      ],
      "text/plain": [
       "        body_length\n",
       "count  96814.000000\n",
       "mean     564.406935\n",
       "std      660.858417\n",
       "min       11.000000\n",
       "25%      183.000000\n",
       "50%      383.000000\n",
       "75%      722.000000\n",
       "max     9993.000000"
      ]
     },
     "execution_count": 46,
     "metadata": {},
     "output_type": "execute_result"
    }
   ],
   "source": [
    "df_filtered[['body_length']].describe()"
   ]
  },
  {
   "cell_type": "code",
   "execution_count": 47,
   "id": "e14dd469-a296-445a-aba2-0ca10eee12a5",
   "metadata": {},
   "outputs": [
    {
     "data": {
      "text/plain": [
       "<Axes: ylabel='Frequency'>"
      ]
     },
     "execution_count": 47,
     "metadata": {},
     "output_type": "execute_result"
    },
    {
     "data": {
      "image/png": "[encoded data removed]",
      "text/plain": [
       "<Figure size 640x480 with 1 Axes>"
      ]
     },
     "metadata": {},
     "output_type": "display_data"
    }
   ],
   "source": [
    "plt.style.use('ggplot')\n",
    "df_filtered['title_length'].plot(kind=\"hist\",bins=100)"
   ]
  },
  {
   "cell_type": "code",
   "execution_count": 48,
   "id": "7f1f7830-606e-403f-b0a6-c524f4768364",
   "metadata": {},
   "outputs": [],
   "source": [
    "df_filtered['body'] = df_filtered['body'].apply(lambda x: html.unescape(x))\n",
    "df_filtered['title'] = df_filtered['title'].apply(lambda x: html.unescape(x))"
   ]
  },
  {
   "cell_type": "code",
   "execution_count": 49,
   "id": "006ca20a-48c0-40d9-a7fe-605763ee611b",
   "metadata": {},
   "outputs": [
    {
     "data": {
      "text/plain": [
       "0        Only FIVE internationals allowed, count em, FI...\n",
       "1        WASHINGTON -- Senate Majority Leader Mitch McC...\n",
       "2        NORTH HIGHLANDS (CBS13)   Fire damaged a home ...\n",
       "3        Meghan McCain is speaking out after a journali...\n",
       "4        1714: George I becomes King Georg Ludwig, Elec...\n",
       "                               ...                        \n",
       "96809    CHICAGO (CBS)  It's a battle that one south su...\n",
       "96810    Check out the news! Dak Prescott loves Amari C...\n",
       "96811    (Reuters) - Shares of Tesla Inc fell 1.7% on T...\n",
       "96812    Cleveland is rolling out the red carpet as mor...\n",
       "96813    Charlotte Hornets GM Mitch Kupchak isn't doing...\n",
       "Name: body, Length: 96814, dtype: object"
      ]
     },
     "execution_count": 49,
     "metadata": {},
     "output_type": "execute_result"
    }
   ],
   "source": [
    "df_filtered['body']"
   ]
  },
  {
   "cell_type": "code",
   "execution_count": 55,
   "id": "3fc4d7e2-4a8e-4635-a0ff-4557addf5e32",
   "metadata": {},
   "outputs": [],
   "source": [
    "dataset = datasets.Dataset.from_pandas(df_filtered)\n",
    "all_dataset = dataset.train_test_split(train_size=0.8, seed=42)\n",
    "all_dataset['val'] = all_dataset.pop('test')"
   ]
  },
  {
   "cell_type": "code",
   "execution_count": 56,
   "id": "ab9649f5-9ebd-450a-8e50-4854ddaa9fc6",
   "metadata": {},
   "outputs": [
    {
     "data": {
      "text/plain": [
       "Dataset({\n",
       "    features: ['body', 'title', 'title_length', 'body_length'],\n",
       "    num_rows: 19363\n",
       "})"
      ]
     },
     "execution_count": 56,
     "metadata": {},
     "output_type": "execute_result"
    }
   ],
   "source": [
    "all_dataset['val']"
   ]
  },
  {
   "cell_type": "code",
   "execution_count": 57,
   "id": "fd84bfed-bb88-4ab6-8ccb-520498a631e2",
   "metadata": {},
   "outputs": [],
   "source": [
    "def preprocess(data):\n",
    "    model_inputs = tokenizer(data[\"body\"],padding=True, max_length=1024,truncation=True, return_tensors='pt')\n",
    "\n",
    "    labels = tokenizer(text_target=data[\"title\"], padding=True, max_length=40, truncation=True, return_tensors='pt')\n",
    "\n",
    "    model_inputs[\"labels\"] = labels[\"input_ids\"]\n",
    "    return model_inputs"
   ]
  },
  {
   "cell_type": "code",
   "execution_count": 7,
   "id": "eb5f9d97-2280-4ef1-af07-5d8e1da19b7d",
   "metadata": {},
   "outputs": [],
   "source": [
    "model = BartForConditionalGeneration.from_pretrained(\"facebook/bart-base\")                                     \n",
    "tokenizer = AutoTokenizer.from_pretrained(\"facebook/bart-base\")"
   ]
  },
  {
   "cell_type": "code",
   "execution_count": 59,
   "id": "45615eed-bde5-4761-9d3a-88f4de5672d3",
   "metadata": {},
   "outputs": [
    {
     "name": "stderr",
     "output_type": "stream",
     "text": [
      "                                                                                            \r"
     ]
    }
   ],
   "source": [
    "all_dataset['train'] = all_dataset['train'].map(preprocess,batched=True,remove_columns=all_dataset['train'].column_names)\n",
    "all_dataset['val'] = all_dataset['val'].map(preprocess,batched=True,remove_columns=all_dataset['val'].column_names)"
   ]
  },
  {
   "cell_type": "code",
   "execution_count": 60,
   "id": "a3a7218a-ca42-473c-85f8-a53ac7d32c3b",
   "metadata": {},
   "outputs": [
    {
     "data": {
      "text/plain": [
       "(77451, 19363)"
      ]
     },
     "execution_count": 60,
     "metadata": {},
     "output_type": "execute_result"
    }
   ],
   "source": [
    "len(all_dataset['train'] ),len(all_dataset['val'] )"
   ]
  },
  {
   "cell_type": "code",
   "execution_count": 61,
   "id": "2ba0f78b-ab36-4c7c-af63-dc72b85a455e",
   "metadata": {},
   "outputs": [],
   "source": [
    "data_collator = DataCollatorForSeq2Seq(tokenizer=tokenizer,model =\"facebook/bart-base\" )"
   ]
  },
  {
   "cell_type": "code",
   "execution_count": 62,
   "id": "bb248927-e1e7-4ad1-b34f-b6db93c6b723",
   "metadata": {},
   "outputs": [],
   "source": [
    "metric_rouge = evaluate.load(\"rouge\", rouge_types=[\"rouge1\", \"rouge2\", \"rougeL\"])\n",
    "metric_bertscore = evaluate.load(\"bertscore\")\n",
    "\n",
    "def compute_metrics(eval_pred):\n",
    "    predictions, labels = eval_pred\n",
    "    decoded_preds = tokenizer.batch_decode(predictions, skip_special_tokens=True)\n",
    "    labels = np.where(labels != -100, labels, tokenizer.pad_token_id)\n",
    "    decoded_labels = tokenizer.batch_decode(labels, skip_special_tokens=True)\n",
    "    rouge_result = metric_rouge.compute(predictions=decoded_preds, references=decoded_labels, use_stemmer=True)\n",
    "    bertscore_result = metric_bertscore.compute(predictions=decoded_preds, references=decoded_labels, lang=\"en\")\n",
    "    prediction_lens = [np.count_nonzero(pred != tokenizer.pad_token_id) for pred in predictions]\n",
    "    output = {k: round(v, 4) for k, v in rouge_result.items()}\n",
    "    output[\"bertscore\"] = np.mean(bertscore_result['precision'])\n",
    "    output[\"gen_len\"] = np.mean(prediction_lens)\n",
    "    return output"
   ]
  },
  {
   "cell_type": "code",
   "execution_count": 63,
   "id": "3d436028-f6b4-4f2a-80ec-c580ab3fdbf8",
   "metadata": {},
   "outputs": [],
   "source": [
    "from transformers import Seq2SeqTrainingArguments, Seq2SeqTrainer\n",
    "training_args = Seq2SeqTrainingArguments(\n",
    "    output_dir=\"version2_bart_30epoch\",\n",
    "    learning_rate=5.6e-5,\n",
    "    per_device_train_batch_size=8,\n",
    "    per_device_eval_batch_size=8,\n",
    "    weight_decay=0.01,\n",
    "    save_total_limit=10,\n",
    "    num_train_epochs=30,\n",
    "    predict_with_generate=True,\n",
    "    fp16=True,\n",
    "    save_strategy =\"steps\",\n",
    "    evaluation_strategy=\"steps\",\n",
    "    logging_strategy=\"steps\",\n",
    "    load_best_model_at_end =True,\n",
    "    save_steps = 5000,\n",
    "    logging_steps = 5000,\n",
    "    eval_steps = 5000,\n",
    "    eval_delay =500,\n",
    "    logging_dir = 'logs',\n",
    "    metric_for_best_model =\"bertscore\"\n",
    ")\n",
    "trainer = Seq2SeqTrainer(\n",
    "    model=model,\n",
    "    args=training_args,\n",
    "    train_dataset=all_dataset['train'],\n",
    "    eval_dataset=all_dataset['val'],\n",
    "    tokenizer=tokenizer,\n",
    "    data_collator=data_collator,\n",
    "    compute_metrics=compute_metrics,\n",
    ")"
   ]
  },
  {
   "cell_type": "code",
   "execution_count": null,
   "id": "f488594b-dc96-4974-afab-350a4df8f9c2",
   "metadata": {},
   "outputs": [
    {
     "name": "stderr",
     "output_type": "stream",
     "text": [
      "/home/samuel/.conda/envs/text/lib/python3.8/site-packages/transformers/optimization.py:407: FutureWarning: This implementation of AdamW is deprecated and will be removed in a future version. Use the PyTorch implementation torch.optim.AdamW instead, or set `no_deprecation_warning=True` to disable this warning\n",
      "  warnings.warn(\n",
      "You're using a BartTokenizerFast tokenizer. Please note that with a fast tokenizer, using the `__call__` method is faster than using a method to encode the text followed by a call to the `pad` method to get a padded encoding.\n"
     ]
    },
    {
     "data": {
      "text/html": [
       "\n",
       "    <div>\n",
       "      \n",
       "      <progress value='12001' max='290460' style='width:300px; height:20px; vertical-align: middle;'></progress>\n",
       "      [ 12001/290460 2:03:50 < 47:53:59, 1.61 it/s, Epoch 1.24/30]\n",
       "    </div>\n",
       "    <table border=\"1\" class=\"dataframe\">\n",
       "  <thead>\n",
       " <tr style=\"text-align: left;\">\n",
       "      <th>Step</th>\n",
       "      <th>Training Loss</th>\n",
       "      <th>Validation Loss</th>\n",
       "      <th>Rouge1</th>\n",
       "      <th>Rouge2</th>\n",
       "      <th>Rougel</th>\n",
       "      <th>Rougelsum</th>\n",
       "      <th>Bertscore</th>\n",
       "      <th>Gen Len</th>\n",
       "    </tr>\n",
       "  </thead>\n",
       "  <tbody>\n",
       "    <tr>\n",
       "      <td>2000</td>\n",
       "      <td>0.979000</td>\n",
       "      <td>0.853932</td>\n",
       "      <td>0.436500</td>\n",
       "      <td>0.260600</td>\n",
       "      <td>0.401600</td>\n",
       "      <td>0.401600</td>\n",
       "      <td>0.901183</td>\n",
       "      <td>15.701028</td>\n",
       "    </tr>\n",
       "    <tr>\n",
       "      <td>4000</td>\n",
       "      <td>0.943400</td>\n",
       "      <td>0.841035</td>\n",
       "      <td>0.449400</td>\n",
       "      <td>0.272700</td>\n",
       "      <td>0.414600</td>\n",
       "      <td>0.414600</td>\n",
       "      <td>0.903047</td>\n",
       "      <td>15.331767</td>\n",
       "    </tr>\n",
       "    <tr>\n",
       "      <td>6000</td>\n",
       "      <td>0.909300</td>\n",
       "      <td>0.812102</td>\n",
       "      <td>0.454200</td>\n",
       "      <td>0.276500</td>\n",
       "      <td>0.419300</td>\n",
       "      <td>0.419500</td>\n",
       "      <td>0.905989</td>\n",
       "      <td>15.072458</td>\n",
       "    </tr>\n",
       "    <tr>\n",
       "      <td>8000</td>\n",
       "      <td>0.909600</td>\n",
       "      <td>0.804749</td>\n",
       "      <td>0.455800</td>\n",
       "      <td>0.278800</td>\n",
       "      <td>0.421900</td>\n",
       "      <td>0.422000</td>\n",
       "      <td>0.907511</td>\n",
       "      <td>14.979342</td>\n",
       "    </tr>\n",
       "    <tr>\n",
       "      <td>10000</td>\n",
       "      <td>0.829000</td>\n",
       "      <td>0.809476</td>\n",
       "      <td>0.463200</td>\n",
       "      <td>0.284400</td>\n",
       "      <td>0.427600</td>\n",
       "      <td>0.427800</td>\n",
       "      <td>0.907411</td>\n",
       "      <td>15.241182</td>\n",
       "    </tr>\n",
       "  </tbody>\n",
       "</table><p>\n",
       "    <div>\n",
       "      \n",
       "      <progress value='555' max='2421' style='width:300px; height:20px; vertical-align: middle;'></progress>\n",
       "      [ 555/2421 03:27 < 11:38, 2.67 it/s]\n",
       "    </div>\n",
       "    "
      ],
      "text/plain": [
       "<IPython.core.display.HTML object>"
      ]
     },
     "metadata": {},
     "output_type": "display_data"
    }
   ],
   "source": [
    "trainer.train()"
   ]
  },
  {
   "cell_type": "code",
   "execution_count": 81,
   "id": "423cfd90-bc83-4560-b18e-6f5c8f0c6129",
   "metadata": {},
   "outputs": [
    {
     "data": {
      "text/plain": [
       "'version2_bart_30epoch/checkpoint-18000'"
      ]
     },
     "execution_count": 81,
     "metadata": {},
     "output_type": "execute_result"
    }
   ],
   "source": [
    "trainer.state.best_model_checkpoint"
   ]
  },
  {
   "cell_type": "code",
   "execution_count": 32,
   "id": "b0478160-b117-4314-b02b-acb974ef70c0",
   "metadata": {},
   "outputs": [
    {
     "data": {
      "text/plain": [
       "'Trailer 3, 3- halftime camaraderie'"
      ]
     },
     "execution_count": 32,
     "metadata": {},
     "output_type": "execute_result"
    }
   ],
   "source": [
    "# model output\n",
    "model = BartForConditionalGeneration.from_pretrained(\"version2_bart_30epoch/checkpoint-290000/\")\n",
    "inputs = tokenizer(\"Trailer 3\", return_tensors=\"pt\").input_ids\n",
    "outputs  = model.generate(inputs, max_new_tokens=30, do_sample=False)\n",
    "tokenizer.decode(outputs[0], skip_special_tokens=True)"
   ]
  },
  {
   "cell_type": "code",
   "execution_count": 111,
   "id": "71f9c794-3455-4607-be4e-2bacd04239db",
   "metadata": {},
   "outputs": [
    {
     "data": {
      "text/plain": [
       "'Pittsburgh-based company, Astrobotic awarded NASA contract to deliver moon rover'"
      ]
     },
     "execution_count": 111,
     "metadata": {},
     "output_type": "execute_result"
    }
   ],
   "source": [
    "#label \n",
    "dataset[-10]['title']"
   ]
  },
  {
   "cell_type": "code",
   "execution_count": null,
   "id": "11094078-fb48-4c6c-acb7-d13fd846bc77",
   "metadata": {},
   "outputs": [],
   "source": [
    "l = []\n",
    "train_loss= {}\n",
    "for obj in trainer.state.log_history:\n",
    "    train_loss['loss'] =train_loss.get(\"loss\",[])\n",
    "    train_loss['step'] =train_loss.get(\"step\",[])\n",
    "    if \"eval_loss\" in obj.keys():\n",
    "        l.append(obj)\n",
    "    else:\n",
    "        train_loss['loss'].append(obj['loss'])\n",
    "        train_loss['step'].append(obj['step'])"
   ]
  },
  {
   "cell_type": "code",
   "execution_count": null,
   "id": "635418e9-20a2-402e-9b31-b113da4728c0",
   "metadata": {},
   "outputs": [],
   "source": [
    "dic = {}\n",
    "for d in l:\n",
    "    for k,v in d.items():\n",
    "        dic[k] = dic.get(k,[])\n",
    "        dic[k].append(v)\n",
    "df_eval = pd.DataFrame(dic)"
   ]
  },
  {
   "cell_type": "code",
   "execution_count": 70,
   "id": "a70ed422-50cb-4d5a-a773-2028fe0026f7",
   "metadata": {},
   "outputs": [
    {
     "data": {
      "text/plain": [
       "<Axes: title={'center': 'train loss(per 1000 steps)'}>"
      ]
     },
     "execution_count": 70,
     "metadata": {},
     "output_type": "execute_result"
    },
    {
     "data": {
      "image/png": "[encoded data removed]",
      "text/plain": [
       "<Figure size 640x480 with 1 Axes>"
      ]
     },
     "metadata": {},
     "output_type": "display_data"
    }
   ],
   "source": [
    "df_train = pd.DataFrame(train_loss)\n",
    "loss = pd.concat([df_eval[['eval_loss']],df_train['loss']],axis=1)\n",
    "loss.plot(title=\"train & validation loss(per 1000 steps)\")"
   ]
  },
  {
   "cell_type": "code",
   "execution_count": 73,
   "id": "f20979ec-095f-4720-bb6f-40ed7525319d",
   "metadata": {},
   "outputs": [
    {
     "data": {
      "image/png": "[encoded data removed]",
      "text/plain": [
       "<Figure size 640x480 with 1 Axes>"
      ]
     },
     "metadata": {},
     "output_type": "display_data"
    }
   ],
   "source": [
    "dic = {}\n",
    "for d in l:\n",
    "    for k,v in d.items():\n",
    "        dic[k] = dic.get(k,[])\n",
    "        dic[k].append(v)\n",
    "df = pd.DataFrame(dic)\n",
    "ax = df.loc[:,\"eval_bertscore\"].plot(title=\"bert_score(per 2000 steps)\")"
   ]
  },
  {
   "cell_type": "code",
   "execution_count": 72,
   "id": "aafb62cc-f628-415d-8ef4-44dad62772ff",
   "metadata": {},
   "outputs": [
    {
     "data": {
      "image/png": "[encoded data removed]",
      "text/plain": [
       "<Figure size 640x480 with 1 Axes>"
      ]
     },
     "metadata": {},
     "output_type": "display_data"
    }
   ],
   "source": [
    "ax = df.loc[:,[\"eval_rougeL\",\"eval_rouge1\",\"eval_rouge2\"]].plot(title=\"rouge score(per 2000 steps)\")"
   ]
  },
  {
   "cell_type": "code",
   "execution_count": 1,
   "id": "482ff497-5776-4be6-9746-6991aa6e368f",
   "metadata": {},
   "outputs": [
    {
     "name": "stderr",
     "output_type": "stream",
     "text": [
      "/home/samuel/.conda/envs/text/lib/python3.8/site-packages/tqdm/auto.py:21: TqdmWarning: IProgress not found. Please update jupyter and ipywidgets. See https://ipywidgets.readthedocs.io/en/stable/user_install.html\n",
      "  from .autonotebook import tqdm as notebook_tqdm\n"
     ]
    }
   ],
   "source": [
    "from transformers import AutoTokenizer, BartForConditionalGeneration\n",
    "from tqdm import tqdm\n",
    "model_path=\"version2_bart_30epoch/checkpoint-290000/\"\n",
    "model = BartForConditionalGeneration.from_pretrained(model_path)\n",
    "tokenizer = AutoTokenizer.from_pretrained(model_path)"
   ]
  },
  {
   "cell_type": "code",
   "execution_count": 16,
   "id": "bb1d434f-be90-43bd-924a-36fc7f82848b",
   "metadata": {},
   "outputs": [
    {
     "name": "stdout",
     "output_type": "stream",
     "text": [
      "13763\n"
     ]
    },
    {
     "name": "stderr",
     "output_type": "stream",
     "text": [
      "  0%|                                                             | 0/13763 [00:00<?, ?it/s]"
     ]
    },
    {
     "name": "stdout",
     "output_type": "stream",
     "text": [
      "Minnesota United to host FC Pachuca for international friendly\n"
     ]
    },
    {
     "name": "stderr",
     "output_type": "stream",
     "text": [
      "\n"
     ]
    }
   ],
   "source": [
    "res = []\n",
    "with open(\"data/test.json\",\"r\") as f:\n",
    "    data = f.readlines()\n",
    "    for d in tqdm(data[:-1]):\n",
    "        try:\n",
    "            d = eval(d)\n",
    "            inputs = tokenizer(d['body'], return_tensors=\"pt\",truncation=True).input_ids\n",
    "            outputs  = model.generate(inputs, max_new_tokens=30, do_sample=False)\n",
    "            outputs=tokenizer.decode(outputs[0], skip_special_tokens=True)\n",
    "            # print(outputs)\n",
    "            res.append({\"title\":outputs})\n",
    "            print(outputs)\n",
    "            break\n",
    "        except Exception as e:\n",
    "            res.append({\"title\":None})\n",
    "            "
   ]
  },
  {
   "cell_type": "code",
   "execution_count": 9,
   "id": "6bb208f1-11a3-406d-a055-7239be200b66",
   "metadata": {},
   "outputs": [],
   "source": [
    "import json\n",
    "with open(\"311707046.json\", \"w\") as file:\n",
    "    for item in res:\n",
    "        json.dump(item, file)\n",
    "        file.write('\\n')"
   ]
  },
  {
   "cell_type": "code",
   "execution_count": 2,
   "id": "1975b904-a952-4041-8573-75b1141d6a9f",
   "metadata": {},
   "outputs": [],
   "source": [
    "res=[]\n",
    "with open(\"requirements.txt\", \"r\") as f:\n",
    "    data = f.readlines()\n",
    "    for d in data:\n",
    "        res.append(d.strip().split(\"@\")[0])\n",
    "with open(\"requirements.txt\", \"w\") as f:  \n",
    "    for r in res:\n",
    "        f.write(r+\"\\n\")"
   ]
  },
  {
   "cell_type": "code",
   "execution_count": null,
   "id": "5edf708a-358a-4ea5-88fa-6fa62bcf230c",
   "metadata": {},
   "outputs": [],
   "source": []
  }
 ],
 "metadata": {
  "kernelspec": {
   "display_name": "Python [conda env:.conda-text]",
   "language": "python",
   "name": "conda-env-.conda-text-py"
  },
  "language_info": {
   "codemirror_mode": {
    "name": "ipython",
    "version": 3
   },
   "file_extension": ".py",
   "mimetype": "text/x-python",
   "name": "python",
   "nbconvert_exporter": "python",
   "pygments_lexer": "ipython3",
   "version": "3.8.16"
  }
 },
 "nbformat": 4,
 "nbformat_minor": 5
}
