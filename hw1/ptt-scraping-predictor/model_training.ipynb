{
 "cells": [
  {
   "cell_type": "code",
   "execution_count": 6,
   "id": "b4130f26-e90e-4191-8ff0-19af7dcf8dd9",
   "metadata": {},
   "outputs": [],
   "source": [
    "import torch \n",
    "import sklearn\n",
    "import torchvision\n",
    "import torch.nn as nn\n",
    "from torch.utils.data import DataLoader\n",
    "from torchvision import datasets, transforms\n",
    "import os\n",
    "import torchinfo\n",
    "from tqdm.auto import tqdm"
   ]
  },
  {
   "cell_type": "code",
   "execution_count": 43,
   "id": "fe7e345d-8f38-4e1d-8d1b-5f96d76efa81",
   "metadata": {},
   "outputs": [],
   "source": [
    "device = \"cuda\" if torch.cuda.is_available() else \"cpu\""
   ]
  },
  {
   "cell_type": "markdown",
   "id": "e259e5ea-2e46-4e7c-b1c3-b3c5247d0550",
   "metadata": {},
   "source": [
    "# Method 1 :Popular or not_popular binary classfication"
   ]
  },
  {
   "cell_type": "code",
   "execution_count": 34,
   "id": "8c6b3365-7a22-4549-b0a8-d202c5f77b5c",
   "metadata": {},
   "outputs": [],
   "source": [
    "import glob\n",
    "from pathlib import Path\n",
    "data_path = Path(\"./ver1_data/\")\n",
    "image_path = data_path\n",
    "train_dir = image_path/\"train\"\n",
    "test_dir = image_path/\"test\"\n",
    "image_path_list = list(Path(image_path).glob(\"*/*/*\"))"
   ]
  },
  {
   "cell_type": "code",
   "execution_count": 4,
   "id": "b43e6068-02ce-48ec-89c6-21f56923e741",
   "metadata": {},
   "outputs": [],
   "source": [
    "def train_step(model, train_dataloader,opt,loss_function, device):\n",
    "    train_acc = 0\n",
    "    train_loss = 0\n",
    "    model.train()\n",
    "    for x,y in train_dataloader:\n",
    "        x,y = x.to(device), y.to(device).float()\n",
    "        pred_y = torch.sigmoid(model(x)).squeeze()\n",
    "        loss = loss_function(pred_y,y)\n",
    "        opt.zero_grad()\n",
    "        loss.backward()\n",
    "        opt.step()\n",
    "        train_loss += loss.item()\n",
    "        train_acc += (torch.round(pred_y)==y).sum().item()/len(pred_y)\n",
    "    return train_loss/len(train_dataloader), train_acc/len(train_dataloader)\n",
    "\n",
    "def test_step(model, test_dataloader, loss_function, device): \n",
    "    test_acc = 0\n",
    "    test_loss = 0\n",
    "    model.eval()\n",
    "    with torch.inference_mode():\n",
    "        for x,y in test_dataloader:\n",
    "            x,y = x.to(device), y.to(device).float()\n",
    "            pred_y = torch.sigmoid(model(x)).squeeze()\n",
    "            loss = loss_function(pred_y,y) \n",
    "            test_loss += loss.item()\n",
    "            test_acc += (torch.round(pred_y)==y).sum().item()/len(pred_y)\n",
    "    return test_loss/len(test_dataloader), test_acc/len(test_dataloader)\n",
    "def train(epochs, model, train_dataloader, test_dataloader, opt, scheduler, loss_function, device):\n",
    "    results ={\n",
    "        \"train_loss\":[],\n",
    "        \"train_acc\":[],\n",
    "        \"test_loss\":[],\n",
    "        \"test_acc\":[]\n",
    "    }\n",
    "    for epoch in tqdm(range(epochs)):\n",
    "        train_loss, train_acc = train_step(model=model,\n",
    "                                          train_dataloader=train_dataloader,\n",
    "                                          loss_function=loss_function,\n",
    "                                          opt=opt,\n",
    "                                          device=device)\n",
    "        test_loss, test_acc = test_step(model=model,\n",
    "                                          test_dataloader=test_dataloader,\n",
    "                                          loss_function=loss_function,\n",
    "                                          device=device)\n",
    "        scheduler.step(test_loss)\n",
    "        print(\n",
    "          f\"Epoch: {epoch+1} | \"\n",
    "          f\"train_loss: {train_loss:.4f} | \"\n",
    "          f\"train_acc: {train_acc:.4f} | \"\n",
    "          f\"test_loss: {test_loss:.4f} | \"\n",
    "          f\"test_acc: {test_acc:.4f}\"\n",
    "        )\n",
    "\n",
    "      # Update results dictionary\n",
    "        results[\"train_loss\"].append(train_loss)\n",
    "        results[\"train_acc\"].append(train_acc)\n",
    "        results[\"test_loss\"].append(test_loss)\n",
    "        results[\"test_acc\"].append(test_acc)\n",
    "        if (epoch+1)%10 == 0:\n",
    "            MODEL_PATH = Path(\"models\")\n",
    "            MODEL_PATH.mkdir(parents=True, # create parent directories if needed\n",
    "                             exist_ok=True # if models directory already exists, don't error\n",
    "            )\n",
    "\n",
    "            # Create model save path\n",
    "            MODEL_NAME = f\"model_{epoch+1}.pth\"\n",
    "            MODEL_SAVE_PATH = MODEL_PATH / MODEL_NAME\n",
    "\n",
    "            # Save the model state dict\n",
    "            print(f\"Saving model to: {MODEL_SAVE_PATH}\")\n",
    "            torch.save(obj=model.state_dict(), # only saving the state_dict() only saves the learned parameters\n",
    "                       f=MODEL_SAVE_PATH)\n",
    "    return results"
   ]
  },
  {
   "cell_type": "code",
   "execution_count": 5,
   "id": "ce59c93f-4c7e-4e6f-993c-390e115862a4",
   "metadata": {},
   "outputs": [],
   "source": [
    "train_transform = transforms.Compose([\n",
    "    transforms.Resize(size=(232,232)),\n",
    "    # transforms.ColorJitter(brightness=0.4, contrast=0.4, saturation=0.4, hue=0.2),\n",
    "    transforms.RandomRotation(30),\n",
    "    transforms.RandomHorizontalFlip(),\n",
    "    transforms.ToTensor(),\n",
    "    transforms.Normalize(mean=[0.485, 0.456, 0.406],\n",
    "                                 std=[0.229, 0.224, 0.225])\n",
    "    \n",
    "])\n",
    "test_transform = transforms.Compose([\n",
    "    transforms.Resize(size=(232,232)),\n",
    "    transforms.ToTensor(),\n",
    "    transforms.Normalize(mean=[0.485, 0.456, 0.406],\n",
    "                                 std=[0.229, 0.224, 0.225])\n",
    "])"
   ]
  },
  {
   "cell_type": "code",
   "execution_count": 6,
   "id": "99fce82b-74d3-4adb-8008-36f4f1752892",
   "metadata": {},
   "outputs": [],
   "source": [
    "train_data = datasets.ImageFolder(root=train_dir, \n",
    "                                  transform= train_transform,\n",
    "                                  target_transform=None) \n",
    "test_data = datasets.ImageFolder(root = test_dir, transform = test_transform)"
   ]
  },
  {
   "cell_type": "code",
   "execution_count": 7,
   "id": "a271b97c-7fd0-4f78-8b63-58d00fc07087",
   "metadata": {},
   "outputs": [
    {
     "data": {
      "text/plain": [
       "({'not_popular': 0, 'popular': 1}, {'not_popular': 0, 'popular': 1})"
      ]
     },
     "execution_count": 7,
     "metadata": {},
     "output_type": "execute_result"
    }
   ],
   "source": [
    "test_data.class_to_idx,train_data.class_to_idx"
   ]
  },
  {
   "cell_type": "code",
   "execution_count": 13,
   "id": "b88d644f-0016-4b9c-a6a3-ed0930ef3fab",
   "metadata": {},
   "outputs": [],
   "source": [
    "weights = torchvision.models.ResNet101_Weights.DEFAULT\n",
    "transform = weights.transforms()\n",
    "model = torchvision.models.resnet101(weights =weights)"
   ]
  },
  {
   "cell_type": "code",
   "execution_count": 14,
   "id": "c8714e54-d943-4f58-82ea-7cdcc4642d8f",
   "metadata": {},
   "outputs": [],
   "source": [
    "k = 0\n",
    "for child in model.children():\n",
    "    k+=1\n",
    "    if k<10:\n",
    "        for param in child.parameters():\n",
    "            param.requires_grad = False"
   ]
  },
  {
   "cell_type": "code",
   "execution_count": 15,
   "id": "700efc6c-23b6-42d8-9a46-a97c04c19b71",
   "metadata": {},
   "outputs": [],
   "source": [
    "model.fc = nn.Linear(2048,1)\n",
    "model = model.to(device)"
   ]
  },
  {
   "cell_type": "code",
   "execution_count": 4,
   "id": "4adcc5ee-1754-4d36-b784-9df346adf1ef",
   "metadata": {},
   "outputs": [],
   "source": [
    "torchinfo.summary(model, \n",
    "        input_size=(32, 3, 232, 232), # make sure this is \"input_size\", not \"input_shape\"\n",
    "        # col_names=[\"input_size\"], # uncomment for smaller output\n",
    "        col_names=[\"input_size\", \"output_size\", \"num_params\", \"trainable\"],\n",
    "        col_width=20,\n",
    "        row_settings=[\"var_names\"]\n",
    ")"
   ]
  },
  {
   "cell_type": "code",
   "execution_count": 18,
   "id": "a5f04e65-137e-4ace-9d0f-6245fd83f208",
   "metadata": {},
   "outputs": [],
   "source": [
    "BATCH_SIZE = 128\n",
    "LR = 1e-4\n",
    "EPOCH = 200\n",
    "train_dataloader = DataLoader(train_data, batch_size = BATCH_SIZE, shuffle=True)\n",
    "test_dataloader = DataLoader(test_data, batch_size = BATCH_SIZE, shuffle=False)\n",
    "opt = torch.optim.Adam(model.parameters(),lr = LR)\n",
    "scheduler = torch.optim.lr_scheduler.ReduceLROnPlateau(opt, 'min', patience=10, verbose=True)\n",
    "loss_function = nn.BCELoss()\n",
    "results = train(EPOCH, model, train_dataloader, test_dataloader, opt, scheduler, loss_function, device)"
   ]
  },
  {
   "cell_type": "code",
   "execution_count": 41,
   "id": "23c4f134-e66f-4a80-9aab-8108c02d1b60",
   "metadata": {},
   "outputs": [],
   "source": [
    "import pandas as pd\n",
    "import matplotlib.pyplot as plt\n",
    "df = pd.DataFrame()\n",
    "for i in [\"train_loss\",\"test_loss\",\"test_acc\"]:\n",
    "    df = pd.concat([df,pd.DataFrame(results[i],columns = [i])],axis=1)"
   ]
  },
  {
   "cell_type": "code",
   "execution_count": 43,
   "id": "8d6d4b5e-8dae-4a48-a0da-5d9ef7e0b86a",
   "metadata": {},
   "outputs": [
    {
     "data": {
      "text/plain": [
       "<Axes: >"
      ]
     },
     "execution_count": 43,
     "metadata": {},
     "output_type": "execute_result"
    },
    {
     "data": {
      "image/png": "[encoded data removed]",
      "text/plain": [
       "<Figure size 640x480 with 1 Axes>"
      ]
     },
     "metadata": {},
     "output_type": "display_data"
    }
   ],
   "source": [
    "df.plot()"
   ]
  },
  {
   "cell_type": "code",
   "execution_count": 3,
   "id": "07a294da-1f49-4fe3-a2be-8146fd0f93a7",
   "metadata": {},
   "outputs": [
    {
     "name": "stdout",
     "output_type": "stream",
     "text": [
      "test 1\n"
     ]
    }
   ],
   "source": [
    "import shutil\n",
    "import os\n",
    "for i in ['train','test']:\n",
    "    for k in range(101):\n",
    "        if os.path.exists(f\"ver4_data/{i}/{k}/.ipynb_checkpoints\"):\n",
    "            shutil.rmtree(f\"ver4_data/{i}/{k}/.ipynb_checkpoints\")\n",
    "            print(i,k)\n",
    "\n"
   ]
  },
  {
   "cell_type": "markdown",
   "id": "8e1f0b58-dcbf-4854-b56d-cf9760ac263c",
   "metadata": {},
   "source": [
    "# Method 2 : Score predict regression"
   ]
  },
  {
   "cell_type": "code",
   "execution_count": 16,
   "id": "55cb48b0-7244-4e7e-8366-ce4438f089b3",
   "metadata": {},
   "outputs": [],
   "source": [
    "import torch \n",
    "import sklearn\n",
    "import torchvision\n",
    "import torch.nn as nn\n",
    "from torch.utils.data import DataLoader\n",
    "from torchvision import datasets, transforms\n",
    "import os\n",
    "import torchinfo\n",
    "from tqdm.auto import tqdm\n",
    "from PIL import Image"
   ]
  },
  {
   "cell_type": "code",
   "execution_count": 2,
   "id": "9e9d236c-ca17-429a-943f-b3712d435b32",
   "metadata": {},
   "outputs": [],
   "source": [
    "import glob\n",
    "from pathlib import Path\n",
    "data_path = Path(\"./ver2_data/\")\n",
    "image_path = data_path\n",
    "train_dir = image_path/\"train\"\n",
    "test_dir = image_path/\"test\"\n",
    "image_path_list = list(Path(image_path).glob(\"*/*/*\"))"
   ]
  },
  {
   "cell_type": "code",
   "execution_count": 3,
   "id": "e067a71b-9050-4c40-a716-54cd5abc21a7",
   "metadata": {},
   "outputs": [],
   "source": [
    "device = \"cuda\" if torch.cuda.is_available() else \"cpu\""
   ]
  },
  {
   "cell_type": "code",
   "execution_count": 4,
   "id": "82fc6045-1fba-4c82-9019-f13564479dd7",
   "metadata": {},
   "outputs": [],
   "source": [
    "from torch.utils.data import Dataset\n",
    "def find_label(dir_path):\n",
    "    return sorted(int(d.name) for d in os.scandir(dir_path) if d.is_dir() )\n",
    "class CustomDataset(Dataset):\n",
    "    def __init__(self,dir_path,transform=None):\n",
    "        self.all_image_path = list(Path(dir_path).glob(\"*/*\"))\n",
    "        self.transform = transform\n",
    "        self.label = find_label(dir_path)\n",
    "    def load_image(self, index):\n",
    "        image_path = self.all_image_path[index]\n",
    "        return Image.open(image_path)\n",
    "    def __len__(self):\n",
    "        return len(self.all_image_path)\n",
    "    def __getitem__(self,index):\n",
    "        image = self.load_image(index)\n",
    "        label = int(self.all_image_path[index].parent.name)\n",
    "        img = self.transform(image)\n",
    "        return img, label"
   ]
  },
  {
   "cell_type": "code",
   "execution_count": 5,
   "id": "56bc3656-6e5b-470f-a744-6ae78097d6fd",
   "metadata": {},
   "outputs": [],
   "source": [
    "from torchmetrics import R2Score\n",
    "def train_step(model, train_dataloader,opt,loss_function, device):\n",
    "    train_r2 = 0\n",
    "    train_loss = 0\n",
    "    model.train()\n",
    "    for x,y in train_dataloader:\n",
    "        x,y = x.to(device), y.to(device).float()\n",
    "        pred_y = model(x).squeeze()\n",
    "        loss = loss_function(pred_y,y)\n",
    "        opt.zero_grad()\n",
    "        loss.backward()\n",
    "        opt.step()\n",
    "        train_loss += loss.item()\n",
    "        r2score = R2Score().to(device)\n",
    "        score = r2score(pred_y, y)\n",
    "        train_r2 += score.item()\n",
    "    return train_loss/len(train_dataloader), train_r2/len(train_dataloader)\n",
    "\n",
    "def test_step(model, test_dataloader, loss_function, device): \n",
    "    test_r2= 0\n",
    "    test_loss = 0\n",
    "    model.eval()\n",
    "    with torch.inference_mode():\n",
    "        for x,y in test_dataloader:\n",
    "            x,y = x.to(device), y.to(device).float()\n",
    "            pred_y = model(x).squeeze()\n",
    "            loss = loss_function(pred_y,y) \n",
    "            test_loss += loss.item()\n",
    "            r2score = R2Score().to(device)\n",
    "            score = r2score(pred_y, y)\n",
    "            test_r2 += score.item()\n",
    "    return test_loss/len(test_dataloader), test_r2/len(test_dataloader)\n",
    "def train(epochs, model, train_dataloader, test_dataloader, opt, scheduler, loss_function, device):\n",
    "    results ={\n",
    "        \"train_loss\":[],\n",
    "        \"train_r2\":[],\n",
    "        \"test_loss\":[],\n",
    "        \"test_r2\":[]\n",
    "    }\n",
    "    for epoch in tqdm(range(epochs)):\n",
    "        train_loss, train_r2 = train_step(model = model,\n",
    "                                          train_dataloader=train_dataloader,\n",
    "                                          loss_function=loss_function,\n",
    "                                          opt=opt,\n",
    "                                          device=device)\n",
    "        test_loss, test_r2 = test_step(model = model,\n",
    "                                          test_dataloader=test_dataloader,\n",
    "                                          loss_function=loss_function,\n",
    "                                          device=device)\n",
    "        scheduler.step(test_loss)\n",
    "        print(\n",
    "          f\"Epoch: {epoch+1} | \"\n",
    "          f\"train_loss: {train_loss:.4f} | \"\n",
    "          f\"train_r2: {train_r2:.4f} | \"\n",
    "          f\"test_loss: {test_loss:.4f} | \"\n",
    "          f\"test_r2: {test_r2:.4f} \"\n",
    "        )\n",
    "\n",
    "      # Update results dictionary\n",
    "        results[\"train_loss\"].append(train_loss)\n",
    "        results[\"train_r2\"].append(train_r2)\n",
    "        results[\"test_loss\"].append(test_loss)\n",
    "        results[\"test_r2\"].append(test_r2)\n",
    "        if (epoch+1)%10 == 0:\n",
    "            MODEL_PATH = Path(\"models_score_newversion\")\n",
    "            MODEL_PATH.mkdir(parents=True, # create parent directories if needed\n",
    "                             exist_ok=True # if models directory already exists, don't error\n",
    "            )\n",
    "\n",
    "            # Create model save path\n",
    "            MODEL_NAME = f\"model_{epoch+1}.pth\"\n",
    "            MODEL_SAVE_PATH = MODEL_PATH / MODEL_NAME\n",
    "\n",
    "            # Save the model state dicta\n",
    "            print(f\"Saving model to: {MODEL_SAVE_PATH}\")\n",
    "            torch.save(obj=model.state_dict(), # only saving the state_dict() only saves the learned parameters\n",
    "                       f=MODEL_SAVE_PATH)\n",
    "    return results"
   ]
  },
  {
   "cell_type": "code",
   "execution_count": 6,
   "id": "cd13ee7a-021f-474c-9064-7ebd82758bca",
   "metadata": {},
   "outputs": [],
   "source": [
    "train_transform = transforms.Compose([\n",
    "    transforms.Resize(size=(232,232)),\n",
    "    transforms.ColorJitter(brightness=0.4, contrast=0.4, saturation=0.4, hue=0.2),\n",
    "    transforms.RandomRotation(30),\n",
    "    transforms.RandomHorizontalFlip(),\n",
    "    transforms.ToTensor(),\n",
    "    transforms.Normalize(mean=[0.485, 0.456, 0.406],\n",
    "                                 std=[0.229, 0.224, 0.225])\n",
    "    \n",
    "])\n",
    "test_transform = transforms.Compose([\n",
    "    transforms.Resize(size=(232,232)),\n",
    "    transforms.ToTensor(),\n",
    "    transforms.Normalize(mean=[0.485, 0.456, 0.406],\n",
    "                                 std=[0.229, 0.224, 0.225])\n",
    "])"
   ]
  },
  {
   "cell_type": "code",
   "execution_count": 7,
   "id": "62a14aec-0546-46c1-b4f6-ea148aaa417e",
   "metadata": {},
   "outputs": [],
   "source": [
    "train_data = CustomDataset(train_dir, train_transform)\n",
    "test_data = CustomDataset(test_dir, test_transform)"
   ]
  },
  {
   "cell_type": "code",
   "execution_count": 8,
   "id": "11a5ef66-2b07-48f6-8da3-074189540893",
   "metadata": {},
   "outputs": [],
   "source": [
    "weights = torchvision.models.ResNet101_Weights.DEFAULT\n",
    "transform = weights.transforms()\n",
    "model = torchvision.models.resnet101(weights =weights)\n",
    "k = 0\n",
    "for child in model.children():\n",
    "    k+=1\n",
    "    if k<10:\n",
    "        for param in child.parameters():\n",
    "            param.requires_grad = False\n",
    "model.fc = nn.Linear(2048,1)\n",
    "model = model.to(device)"
   ]
  },
  {
   "cell_type": "code",
   "execution_count": 17,
   "id": "e544f1d0-6db6-4c1a-a6a5-feabe91267ee",
   "metadata": {},
   "outputs": [],
   "source": [
    "BATCH_SIZE = 256\n",
    "LR = 1e-4\n",
    "EPOCH = 150\n",
    "train_dataloader = DataLoader(train_data, batch_size = BATCH_SIZE, shuffle=True)\n",
    "test_dataloader = DataLoader(test_data, batch_size = BATCH_SIZE, shuffle=False)\n",
    "opt = torch.optim.Adam(model.parameters(),lr = LR)\n",
    "scheduler = torch.optim.lr_scheduler.ReduceLROnPlateau(opt, 'min', patience=10, verbose=True)\n",
    "loss_function = nn.MSELoss()\n",
    "results = train(EPOCH, model, train_dataloader, test_dataloader, opt, scheduler, loss_function, device)"
   ]
  },
  {
   "cell_type": "code",
   "execution_count": 15,
   "id": "768443fa-af3c-4af1-b53f-5d0dab4f5703",
   "metadata": {},
   "outputs": [
    {
     "data": {
      "text/plain": [
       "<Axes: >"
      ]
     },
     "execution_count": 15,
     "metadata": {},
     "output_type": "execute_result"
    },
    {
     "data": {
      "image/png": "[encoded data removed]",
      "text/plain": [
       "<Figure size 640x480 with 1 Axes>"
      ]
     },
     "metadata": {},
     "output_type": "display_data"
    }
   ],
   "source": [
    "import pandas as pd\n",
    "pd.DataFrame(results).plot()"
   ]
  },
  {
   "cell_type": "markdown",
   "id": "22fbf4ab-b9d1-456e-a522-8351dda34c5b",
   "metadata": {},
   "source": [
    "# Method 3: Binary classification\n",
    "### Number of pushes = 0~2為not popular, Number of pushes >50 為popular"
   ]
  },
  {
   "cell_type": "code",
   "execution_count": 40,
   "id": "74f189c6-36bb-40b2-8fbf-2efb66f3818a",
   "metadata": {},
   "outputs": [],
   "source": [
    "import glob\n",
    "from pathlib import Path\n",
    "data_path = Path(\"./ver3_data/\")\n",
    "image_path = data_path\n",
    "train_dir = image_path/\"train\"\n",
    "test_dir = image_path/\"test\"\n",
    "image_path_list = list(Path(image_path).glob(\"*/*/*\"))"
   ]
  },
  {
   "cell_type": "code",
   "execution_count": 41,
   "id": "87bee1ad-7dea-4431-b888-1ea9902a29f1",
   "metadata": {},
   "outputs": [],
   "source": [
    "def train_step(model, train_dataloader,opt,loss_function, device):\n",
    "    train_acc = 0\n",
    "    train_loss = 0\n",
    "    model.train()\n",
    "    for x,y in train_dataloader:\n",
    "        x,y = x.to(device), y.to(device).float()\n",
    "        pred_y = torch.sigmoid(model(x)).squeeze()\n",
    "        loss = loss_function(pred_y,y)\n",
    "        opt.zero_grad()\n",
    "        loss.backward()\n",
    "        opt.step()\n",
    "        train_loss += loss.item()\n",
    "        train_acc += (torch.round(pred_y)==y).sum().item()/len(pred_y)\n",
    "    return train_loss/len(train_dataloader), train_acc/len(train_dataloader)\n",
    "\n",
    "def test_step(model, test_dataloader, loss_function, device): \n",
    "    test_acc = 0\n",
    "    test_loss = 0\n",
    "    model.eval()\n",
    "    with torch.inference_mode():\n",
    "        for x,y in test_dataloader:\n",
    "            x,y = x.to(device), y.to(device).float()\n",
    "            pred_y = torch.sigmoid(model(x)).squeeze()\n",
    "            loss = loss_function(pred_y,y) \n",
    "            test_loss += loss.item()\n",
    "            test_acc += (torch.round(pred_y)==y).sum().item()/len(pred_y)\n",
    "    return test_loss/len(test_dataloader), test_acc/len(test_dataloader)\n",
    "def train(epochs, model, train_dataloader, test_dataloader, opt, scheduler, loss_function, device):\n",
    "    results ={\n",
    "        \"train_loss\":[],\n",
    "        \"train_acc\":[],\n",
    "        \"test_loss\":[],\n",
    "        \"test_acc\":[]\n",
    "    }\n",
    "    for epoch in tqdm(range(epochs)):\n",
    "        train_loss, train_acc = train_step(model=model,\n",
    "                                          train_dataloader=train_dataloader,\n",
    "                                          loss_function=loss_function,\n",
    "                                          opt=opt,\n",
    "                                          device=device)\n",
    "        test_loss, test_acc = test_step(model=model,\n",
    "                                          test_dataloader=test_dataloader,\n",
    "                                          loss_function=loss_function,\n",
    "                                          device=device)\n",
    "        scheduler.step(test_loss)\n",
    "        print(\n",
    "          f\"Epoch: {epoch+1} | \"\n",
    "          f\"train_loss: {train_loss:.4f} | \"\n",
    "          f\"train_acc: {train_acc:.4f} | \"\n",
    "          f\"test_loss: {test_loss:.4f} | \"\n",
    "          f\"test_acc: {test_acc:.4f}\"\n",
    "        )\n",
    "\n",
    "      # Update results dictionary\n",
    "        results[\"train_loss\"].append(train_loss)\n",
    "        results[\"train_acc\"].append(train_acc)\n",
    "        results[\"test_loss\"].append(test_loss)\n",
    "        results[\"test_acc\"].append(test_acc)\n",
    "        if (epoch+1)%10 == 0:\n",
    "            MODEL_PATH = Path(\"models_ver3\")\n",
    "            MODEL_PATH.mkdir(parents=True, # create parent directories if needed\n",
    "                             exist_ok=True # if models directory already exists, don't error\n",
    "            )\n",
    "\n",
    "            # Create model save path\n",
    "            MODEL_NAME = f\"model_{epoch+1}.pth\"\n",
    "            MODEL_SAVE_PATH = MODEL_PATH / MODEL_NAME\n",
    "\n",
    "            # Save the model state dict\n",
    "            print(f\"Saving model to: {MODEL_SAVE_PATH}\")\n",
    "            torch.save(obj=model.state_dict(), # only saving the state_dict() only saves the learned parameters\n",
    "                       f=MODEL_SAVE_PATH)\n",
    "    return results"
   ]
  },
  {
   "cell_type": "code",
   "execution_count": 42,
   "id": "dc6f8c17-8cdf-4e42-8eb3-afae11a8f181",
   "metadata": {},
   "outputs": [],
   "source": [
    "train_transform = transforms.Compose([\n",
    "    transforms.Resize(size=(232,232)),\n",
    "    transforms.RandomHorizontalFlip(),\n",
    "    transforms.RandomCrop(size=224, padding=8),\n",
    "    transforms.ToTensor(),\n",
    "    transforms.Normalize(mean=[0.485, 0.456, 0.406],\n",
    "                                 std=[0.229, 0.224, 0.225])\n",
    "    \n",
    "])\n",
    "test_transform = transforms.Compose([\n",
    "    transforms.Resize(size=(232,232)),\n",
    "    transforms.ToTensor(),\n",
    "    transforms.Normalize(mean=[0.485, 0.456, 0.406],\n",
    "                                 std=[0.229, 0.224, 0.225])\n",
    "])"
   ]
  },
  {
   "cell_type": "code",
   "execution_count": 43,
   "id": "b18368cc-0dc7-43d2-aa64-4760f4e2d750",
   "metadata": {},
   "outputs": [],
   "source": [
    "#path = \"data/train or test/popular or not_popular\n",
    "train_data = datasets.ImageFolder(root=train_dir, \n",
    "                                  transform= train_transform,\n",
    "                                  target_transform=None) \n",
    "test_data = datasets.ImageFolder(root = test_dir, transform = test_transform)"
   ]
  },
  {
   "cell_type": "code",
   "execution_count": 44,
   "id": "fd948cb7-7c95-4ebf-9b04-a3a8b7ffa0e6",
   "metadata": {},
   "outputs": [],
   "source": [
    "weights = torchvision.models.ResNet101_Weights.DEFAULT\n",
    "transform = weights.transforms()\n",
    "model = torchvision.models.resnet101(weights =weights)\n",
    "k = 0\n",
    "for child in model.children():\n",
    "    k+=1\n",
    "    if k<10:\n",
    "        for param in child.parameters():\n",
    "            param.requires_grad = False\n",
    "model.fc = nn.Linear(2048,1)\n",
    "model = model.to(device)"
   ]
  },
  {
   "cell_type": "code",
   "execution_count": null,
   "id": "4be6d384-b5d4-4ef4-9d9d-72efec8fa70e",
   "metadata": {},
   "outputs": [
    {
     "name": "stderr",
     "output_type": "stream",
     "text": [
      "  1%|▎                                                   | 1/150 [02:49<7:01:11, 169.61s/it]"
     ]
    },
    {
     "name": "stdout",
     "output_type": "stream",
     "text": [
      "Epoch: 1 | train_loss: 0.6837 | train_acc: 0.5641 | test_loss: 0.6765 | test_acc: 0.6120\n"
     ]
    },
    {
     "name": "stderr",
     "output_type": "stream",
     "text": [
      "  1%|▋                                                   | 2/150 [04:52<5:51:00, 142.30s/it]"
     ]
    },
    {
     "name": "stdout",
     "output_type": "stream",
     "text": [
      "Epoch: 2 | train_loss: 0.6640 | train_acc: 0.6195 | test_loss: 0.6652 | test_acc: 0.6401\n"
     ]
    },
    {
     "name": "stderr",
     "output_type": "stream",
     "text": [
      "  2%|█                                                   | 3/150 [06:56<5:28:21, 134.02s/it]"
     ]
    },
    {
     "name": "stdout",
     "output_type": "stream",
     "text": [
      "Epoch: 3 | train_loss: 0.6485 | train_acc: 0.6513 | test_loss: 0.6554 | test_acc: 0.6509\n"
     ]
    },
    {
     "name": "stderr",
     "output_type": "stream",
     "text": [
      "  3%|█▍                                                  | 4/150 [09:01<5:16:41, 130.15s/it]"
     ]
    },
    {
     "name": "stdout",
     "output_type": "stream",
     "text": [
      "Epoch: 4 | train_loss: 0.6370 | train_acc: 0.6546 | test_loss: 0.6480 | test_acc: 0.6555\n"
     ]
    },
    {
     "name": "stderr",
     "output_type": "stream",
     "text": [
      "  3%|█▋                                                  | 5/150 [11:04<5:08:45, 127.76s/it]"
     ]
    },
    {
     "name": "stdout",
     "output_type": "stream",
     "text": [
      "Epoch: 5 | train_loss: 0.6274 | train_acc: 0.6695 | test_loss: 0.6406 | test_acc: 0.6581\n"
     ]
    },
    {
     "name": "stderr",
     "output_type": "stream",
     "text": [
      "  4%|██                                                  | 6/150 [13:07<5:02:41, 126.12s/it]"
     ]
    },
    {
     "name": "stdout",
     "output_type": "stream",
     "text": [
      "Epoch: 6 | train_loss: 0.6191 | train_acc: 0.6759 | test_loss: 0.6353 | test_acc: 0.6664\n"
     ]
    },
    {
     "name": "stderr",
     "output_type": "stream",
     "text": [
      "  5%|██▍                                                 | 7/150 [15:11<4:58:34, 125.28s/it]"
     ]
    },
    {
     "name": "stdout",
     "output_type": "stream",
     "text": [
      "Epoch: 7 | train_loss: 0.6121 | train_acc: 0.6787 | test_loss: 0.6308 | test_acc: 0.6704\n"
     ]
    },
    {
     "name": "stderr",
     "output_type": "stream",
     "text": [
      "  5%|██▊                                                 | 8/150 [17:14<4:55:21, 124.80s/it]"
     ]
    },
    {
     "name": "stdout",
     "output_type": "stream",
     "text": [
      "Epoch: 8 | train_loss: 0.6074 | train_acc: 0.6808 | test_loss: 0.6271 | test_acc: 0.6698\n"
     ]
    },
    {
     "name": "stderr",
     "output_type": "stream",
     "text": [
      "  6%|███                                                 | 9/150 [19:17<4:51:41, 124.13s/it]"
     ]
    },
    {
     "name": "stdout",
     "output_type": "stream",
     "text": [
      "Epoch: 9 | train_loss: 0.6024 | train_acc: 0.6835 | test_loss: 0.6229 | test_acc: 0.6690\n"
     ]
    },
    {
     "name": "stderr",
     "output_type": "stream",
     "text": [
      "  7%|███▍                                               | 10/150 [21:21<4:49:30, 124.07s/it]"
     ]
    },
    {
     "name": "stdout",
     "output_type": "stream",
     "text": [
      "Epoch: 10 | train_loss: 0.5992 | train_acc: 0.6896 | test_loss: 0.6199 | test_acc: 0.6728\n",
      "Saving model to: models_ver3/model_10.pth\n"
     ]
    },
    {
     "name": "stderr",
     "output_type": "stream",
     "text": [
      "  7%|███▋                                               | 11/150 [23:25<4:47:04, 123.92s/it]"
     ]
    },
    {
     "name": "stdout",
     "output_type": "stream",
     "text": [
      "Epoch: 11 | train_loss: 0.5955 | train_acc: 0.6877 | test_loss: 0.6175 | test_acc: 0.6767\n"
     ]
    },
    {
     "name": "stderr",
     "output_type": "stream",
     "text": [
      "  8%|████                                               | 12/150 [25:28<4:44:40, 123.77s/it]"
     ]
    },
    {
     "name": "stdout",
     "output_type": "stream",
     "text": [
      "Epoch: 12 | train_loss: 0.5914 | train_acc: 0.6925 | test_loss: 0.6145 | test_acc: 0.6806\n"
     ]
    },
    {
     "name": "stderr",
     "output_type": "stream",
     "text": [
      "  9%|████▍                                              | 13/150 [27:31<4:41:49, 123.43s/it]"
     ]
    },
    {
     "name": "stdout",
     "output_type": "stream",
     "text": [
      "Epoch: 13 | train_loss: 0.5888 | train_acc: 0.6912 | test_loss: 0.6134 | test_acc: 0.6807\n"
     ]
    },
    {
     "name": "stderr",
     "output_type": "stream",
     "text": [
      "  9%|████▊                                              | 14/150 [29:34<4:39:30, 123.31s/it]"
     ]
    },
    {
     "name": "stdout",
     "output_type": "stream",
     "text": [
      "Epoch: 14 | train_loss: 0.5874 | train_acc: 0.6951 | test_loss: 0.6105 | test_acc: 0.6812\n"
     ]
    },
    {
     "name": "stderr",
     "output_type": "stream",
     "text": [
      " 10%|█████                                              | 15/150 [31:36<4:36:42, 122.99s/it]"
     ]
    },
    {
     "name": "stdout",
     "output_type": "stream",
     "text": [
      "Epoch: 15 | train_loss: 0.5833 | train_acc: 0.6983 | test_loss: 0.6081 | test_acc: 0.6835\n"
     ]
    },
    {
     "name": "stderr",
     "output_type": "stream",
     "text": [
      " 11%|█████▍                                             | 16/150 [33:39<4:34:35, 122.95s/it]"
     ]
    },
    {
     "name": "stdout",
     "output_type": "stream",
     "text": [
      "Epoch: 16 | train_loss: 0.5808 | train_acc: 0.7034 | test_loss: 0.6072 | test_acc: 0.6863\n"
     ]
    },
    {
     "name": "stderr",
     "output_type": "stream",
     "text": [
      " 11%|█████▊                                             | 17/150 [35:43<4:33:06, 123.21s/it]"
     ]
    },
    {
     "name": "stdout",
     "output_type": "stream",
     "text": [
      "Epoch: 17 | train_loss: 0.5790 | train_acc: 0.7013 | test_loss: 0.6058 | test_acc: 0.6838\n"
     ]
    },
    {
     "name": "stderr",
     "output_type": "stream",
     "text": [
      " 12%|██████                                             | 18/150 [37:46<4:30:56, 123.16s/it]"
     ]
    },
    {
     "name": "stdout",
     "output_type": "stream",
     "text": [
      "Epoch: 18 | train_loss: 0.5762 | train_acc: 0.7050 | test_loss: 0.6045 | test_acc: 0.6851\n"
     ]
    },
    {
     "name": "stderr",
     "output_type": "stream",
     "text": [
      " 13%|██████▍                                            | 19/150 [39:50<4:29:33, 123.46s/it]"
     ]
    },
    {
     "name": "stdout",
     "output_type": "stream",
     "text": [
      "Epoch: 19 | train_loss: 0.5727 | train_acc: 0.7062 | test_loss: 0.6021 | test_acc: 0.6866\n"
     ]
    },
    {
     "name": "stderr",
     "output_type": "stream",
     "text": [
      " 13%|██████▊                                            | 20/150 [41:53<4:27:19, 123.38s/it]"
     ]
    },
    {
     "name": "stdout",
     "output_type": "stream",
     "text": [
      "Epoch: 20 | train_loss: 0.5737 | train_acc: 0.7036 | test_loss: 0.6023 | test_acc: 0.6900\n",
      "Saving model to: models_ver3/model_20.pth\n"
     ]
    },
    {
     "name": "stderr",
     "output_type": "stream",
     "text": [
      " 14%|███████▏                                           | 21/150 [43:56<4:24:42, 123.12s/it]"
     ]
    },
    {
     "name": "stdout",
     "output_type": "stream",
     "text": [
      "Epoch: 21 | train_loss: 0.5713 | train_acc: 0.7107 | test_loss: 0.6006 | test_acc: 0.6905\n"
     ]
    },
    {
     "name": "stderr",
     "output_type": "stream",
     "text": [
      " 15%|███████▍                                           | 22/150 [45:58<4:22:10, 122.89s/it]"
     ]
    },
    {
     "name": "stdout",
     "output_type": "stream",
     "text": [
      "Epoch: 22 | train_loss: 0.5683 | train_acc: 0.7111 | test_loss: 0.5999 | test_acc: 0.6886\n"
     ]
    },
    {
     "name": "stderr",
     "output_type": "stream",
     "text": [
      " 15%|███████▊                                           | 23/150 [48:02<4:20:37, 123.13s/it]"
     ]
    },
    {
     "name": "stdout",
     "output_type": "stream",
     "text": [
      "Epoch: 23 | train_loss: 0.5690 | train_acc: 0.7088 | test_loss: 0.5982 | test_acc: 0.6910\n"
     ]
    },
    {
     "name": "stderr",
     "output_type": "stream",
     "text": [
      " 16%|████████▏                                          | 24/150 [50:05<4:18:33, 123.12s/it]"
     ]
    },
    {
     "name": "stdout",
     "output_type": "stream",
     "text": [
      "Epoch: 24 | train_loss: 0.5664 | train_acc: 0.7114 | test_loss: 0.5980 | test_acc: 0.6911\n"
     ]
    },
    {
     "name": "stderr",
     "output_type": "stream",
     "text": [
      " 17%|████████▌                                          | 25/150 [52:09<4:17:15, 123.49s/it]"
     ]
    },
    {
     "name": "stdout",
     "output_type": "stream",
     "text": [
      "Epoch: 25 | train_loss: 0.5666 | train_acc: 0.7081 | test_loss: 0.5968 | test_acc: 0.6924\n"
     ]
    },
    {
     "name": "stderr",
     "output_type": "stream",
     "text": [
      " 17%|████████▊                                          | 26/150 [54:13<4:15:33, 123.66s/it]"
     ]
    },
    {
     "name": "stdout",
     "output_type": "stream",
     "text": [
      "Epoch: 26 | train_loss: 0.5657 | train_acc: 0.7090 | test_loss: 0.5961 | test_acc: 0.6927\n"
     ]
    },
    {
     "name": "stderr",
     "output_type": "stream",
     "text": [
      " 18%|█████████▏                                         | 27/150 [56:17<4:13:23, 123.61s/it]"
     ]
    },
    {
     "name": "stdout",
     "output_type": "stream",
     "text": [
      "Epoch: 27 | train_loss: 0.5653 | train_acc: 0.7113 | test_loss: 0.5952 | test_acc: 0.6909\n"
     ]
    },
    {
     "name": "stderr",
     "output_type": "stream",
     "text": [
      " 19%|█████████▌                                         | 28/150 [58:20<4:11:12, 123.55s/it]"
     ]
    },
    {
     "name": "stdout",
     "output_type": "stream",
     "text": [
      "Epoch: 28 | train_loss: 0.5599 | train_acc: 0.7177 | test_loss: 0.5942 | test_acc: 0.6940\n"
     ]
    },
    {
     "name": "stderr",
     "output_type": "stream",
     "text": [
      " 19%|█████████▍                                       | 29/150 [1:00:24<4:09:34, 123.76s/it]"
     ]
    },
    {
     "name": "stdout",
     "output_type": "stream",
     "text": [
      "Epoch: 29 | train_loss: 0.5613 | train_acc: 0.7166 | test_loss: 0.5934 | test_acc: 0.6931\n"
     ]
    },
    {
     "name": "stderr",
     "output_type": "stream",
     "text": [
      " 20%|█████████▊                                       | 30/150 [1:02:27<4:07:09, 123.58s/it]"
     ]
    },
    {
     "name": "stdout",
     "output_type": "stream",
     "text": [
      "Epoch: 30 | train_loss: 0.5623 | train_acc: 0.7171 | test_loss: 0.5930 | test_acc: 0.6931\n",
      "Saving model to: models_ver3/model_30.pth\n"
     ]
    },
    {
     "name": "stderr",
     "output_type": "stream",
     "text": [
      " 21%|██████████▏                                      | 31/150 [1:04:30<4:04:31, 123.29s/it]"
     ]
    },
    {
     "name": "stdout",
     "output_type": "stream",
     "text": [
      "Epoch: 31 | train_loss: 0.5592 | train_acc: 0.7199 | test_loss: 0.5920 | test_acc: 0.6939\n"
     ]
    },
    {
     "name": "stderr",
     "output_type": "stream",
     "text": [
      " 21%|██████████▍                                      | 32/150 [1:06:33<4:02:30, 123.31s/it]"
     ]
    },
    {
     "name": "stdout",
     "output_type": "stream",
     "text": [
      "Epoch: 32 | train_loss: 0.5602 | train_acc: 0.7142 | test_loss: 0.5915 | test_acc: 0.6938\n"
     ]
    },
    {
     "name": "stderr",
     "output_type": "stream",
     "text": [
      " 22%|██████████▊                                      | 33/150 [1:08:38<4:01:04, 123.62s/it]"
     ]
    },
    {
     "name": "stdout",
     "output_type": "stream",
     "text": [
      "Epoch: 33 | train_loss: 0.5583 | train_acc: 0.7172 | test_loss: 0.5912 | test_acc: 0.6927\n"
     ]
    }
   ],
   "source": [
    "BATCH_SIZE = 256\n",
    "LR = 1e-4\n",
    "EPOCH = 150\n",
    "train_dataloader = DataLoader(train_data, batch_size = BATCH_SIZE, shuffle=True)\n",
    "test_dataloader = DataLoader(test_data, batch_size = BATCH_SIZE, shuffle=False)\n",
    "opt = torch.optim.Adam(model.parameters(),lr = LR)\n",
    "scheduler = torch.optim.lr_scheduler.ReduceLROnPlateau(opt, 'min', patience=10, verbose=True)\n",
    "loss_function = nn.BCELoss()\n",
    "results = train(EPOCH, model, train_dataloader, test_dataloader, opt, scheduler, loss_function, device)"
   ]
  },
  {
   "cell_type": "code",
   "execution_count": 49,
   "id": "0aad40cc-abbb-4cc1-a675-0a6ed775b5c7",
   "metadata": {},
   "outputs": [
    {
     "data": {
      "text/plain": [
       "<Axes: >"
      ]
     },
     "execution_count": 49,
     "metadata": {},
     "output_type": "execute_result"
    },
    {
     "data": {
      "image/png": "[encoded data removed]",
      "text/plain": [
       "<Figure size 640x480 with 1 Axes>"
      ]
     },
     "metadata": {},
     "output_type": "display_data"
    }
   ],
   "source": [
    "pd.DataFrame(results).plot()"
   ]
  },
  {
   "cell_type": "markdown",
   "id": "5b3a76ce-5a36-48cc-9729-d3b3c651dc88",
   "metadata": {},
   "source": [
    "# Model performance evaluation"
   ]
  },
  {
   "cell_type": "code",
   "execution_count": null,
   "id": "0a9684c1-7ad9-4f36-a832-c9be17be4718",
   "metadata": {},
   "outputs": [],
   "source": [
    "import torchvision\n",
    "import torch\n",
    "model_2class_path =\"./models_ver1/model_150.pth\"\n",
    "model_ver3_path =\"./models_ver3/model_150.pth\"\n",
    "\n",
    "model_2class = torchvision.models.resnet101()\n",
    "k = 0\n",
    "for child in model_2class.children():\n",
    "    k+=1\n",
    "    if k<10:\n",
    "        for param in child.parameters():\n",
    "            param.requires_grad = False\n",
    "model_2class.fc = nn.Linear(2048,1)\n",
    "model_2class.load_state_dict(torch.load(model_2class_path))\n",
    "model_2class.to(device)\n",
    "\n",
    "model_ver3 = torchvision.models.resnet101()\n",
    "k = 0\n",
    "for child in model_ver3.children():\n",
    "    k+=1\n",
    "    if k<10:\n",
    "        for param in child.parameters():\n",
    "            param.requires_grad = False\n",
    "model_ver3.fc = nn.Linear(2048,1)\n",
    "model_ver3.load_state_dict(torch.load(model_ver3_path))\n",
    "model_ver3.to(device)"
   ]
  },
  {
   "cell_type": "code",
   "execution_count": null,
   "id": "45cfe801-028b-474e-9ddd-c75712365c55",
   "metadata": {},
   "outputs": [],
   "source": [
    "test_transform = transforms.Compose([\n",
    "    transforms.Resize(size=(232,232)),\n",
    "    transforms.ToTensor(),\n",
    "    transforms.Normalize(mean=[0.485, 0.456, 0.406],\n",
    "                                 std=[0.229, 0.224, 0.225])\n",
    "])"
   ]
  },
  {
   "cell_type": "code",
   "execution_count": null,
   "id": "c80d6fa4-8cb2-4312-aaea-9687ddea3579",
   "metadata": {},
   "outputs": [],
   "source": [
    "test_dir = \"./new_data/test\"\n",
    "test_data_score = CustomDataset(test_dir, transform = test_transform)\n",
    "test_dataloader = DataLoader(test_data_score, batch_size = 256, shuffle=False)\n",
    "loss_function = nn.BCELoss()\n",
    "test_acc = 0\n",
    "test_loss = 0\n",
    "model_2class.eval()\n",
    "with torch.inference_mode():\n",
    "    for x,y in test_dataloader:\n",
    "        x,y = x.to(device), y.to(device).float()\n",
    "        target = change(y)\n",
    "        target = target.to(device)\n",
    "        pred_y = torch.sigmoid(model_2class(x)).squeeze()\n",
    "        loss = loss_function(pred_y,target) \n",
    "        test_loss += loss.item()\n",
    "        \n",
    "        test_acc += (torch.round(pred_y)==target).sum().item()/len(pred_y)\n",
    "    print(\"Avg test_loss:\", test_loss/len(test_dataloader))\n",
    "    print(\"Avg test_acc:\", test_acc/len(test_dataloader))"
   ]
  },
  {
   "cell_type": "code",
   "execution_count": null,
   "id": "847f3c3b-7163-4bc5-bc5e-c41226a0ac40",
   "metadata": {},
   "outputs": [],
   "source": [
    "test_dir = \"./ver3_data/test\"\n",
    "test_data_score = CustomDataset(test_dir, transform = test_transform)\n",
    "test_dataloader = DataLoader(test_data_score, batch_size = 256, shuffle=False)\n",
    "loss_function = nn.BCELoss()\n",
    "test_acc = 0\n",
    "test_loss = 0\n",
    "model_ver3.eval()\n",
    "with torch.inference_mode():\n",
    "    for x,y in test_dataloader:\n",
    "        x,y = x.to(device), y.to(device).float()\n",
    "        pred = model_ver3(x).squeeze()\n",
    "        tmp = change(pred)\n",
    "        target = change(y)\n",
    "        tmp = tmp.to(device)\n",
    "        target = target.to(device)\n",
    "        loss = loss_function(tmp,target) \n",
    "        test_loss += loss.item()\n",
    "        test_acc += (torch.round(tmp)==target).sum().item()/len(target)\n",
    "    print(\"Avg test_loss:\", test_loss/len(test_dataloader))\n",
    "    print(\"Avg test_acc:\", test_acc/len(test_dataloader))"
   ]
  }
 ],
 "metadata": {
  "kernelspec": {
   "display_name": "Python [conda env:.conda-predictor]",
   "language": "python",
   "name": "conda-env-.conda-predictor-py"
  },
  "language_info": {
   "codemirror_mode": {
    "name": "ipython",
    "version": 3
   },
   "file_extension": ".py",
   "mimetype": "text/x-python",
   "name": "python",
   "nbconvert_exporter": "python",
   "pygments_lexer": "ipython3",
   "version": "3.10.9"
  }
 },
 "nbformat": 4,
 "nbformat_minor": 5
}
